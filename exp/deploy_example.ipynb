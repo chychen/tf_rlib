{
 "cells": [
  {
   "cell_type": "markdown",
   "metadata": {},
   "source": [
    "## Train a model first"
   ]
  },
  {
   "cell_type": "code",
   "execution_count": null,
   "metadata": {},
   "outputs": [],
   "source": [
    "import sys\n",
    "sys.path.append('..')\n",
    "sys.path.append('/usr/local/lib/python3.6/dist-packages/')\n",
    "import tf_rlib\n",
    "from tf_rlib.runners import ClassificationRunner\n",
    "FLAGS = tf_rlib.FLAGS"
   ]
  },
  {
   "cell_type": "code",
   "execution_count": null,
   "metadata": {},
   "outputs": [],
   "source": [
    "# tf_rlib.utils.purge_logs()\n",
    "tf_rlib.utils.set_gpus('0')\n",
    "tf_rlib.utils.set_logging('WARN')\n",
    "tf_rlib.utils.set_amp(True)#NOTE\n",
    "amp_factor = 2 if FLAGS.amp else 1\n",
    "\n",
    "FLAGS.bs=128*amp_factor\n",
    "FLAGS.dim=2\n",
    "FLAGS.out_dim=10\n",
    "FLAGS.depth=50\n",
    "FLAGS.bottleneck=True\n",
    "layers_per_block = 3 if FLAGS.bottleneck else 2\n",
    "total_blocks=(FLAGS.depth-2)/layers_per_block\n",
    "FLAGS.model_alpha=total_blocks*8\n",
    "FLAGS.lr=1e-3*amp_factor\n",
    "FLAGS.epochs=1\n",
    "\n",
    "datasets = tf_rlib.datasets.Cifar10().get_data()\n",
    "runner = ClassificationRunner(*datasets)\n",
    "\n",
    "runner.fit(FLAGS.epochs, FLAGS.lr)"
   ]
  },
  {
   "cell_type": "markdown",
   "metadata": {},
   "source": [
    "## Save the trained model"
   ]
  },
  {
   "cell_type": "code",
   "execution_count": null,
   "metadata": {},
   "outputs": [],
   "source": [
    "w_path = './model.h5'\n",
    "sm_path = './model'\n",
    "tftrt_path = './model_tftrt'"
   ]
  },
  {
   "cell_type": "markdown",
   "metadata": {},
   "source": [
    "### Save weights only"
   ]
  },
  {
   "cell_type": "code",
   "execution_count": null,
   "metadata": {},
   "outputs": [],
   "source": [
    "from tf_rlib.utils.deploy_tools import save_weights, load_weights\n",
    "\n",
    "save_weights(runner.model, w_path)"
   ]
  },
  {
   "cell_type": "markdown",
   "metadata": {},
   "source": [
    "### Save as SavedModel format"
   ]
  },
  {
   "cell_type": "code",
   "execution_count": null,
   "metadata": {},
   "outputs": [],
   "source": [
    "from tf_rlib.utils.deploy_tools import convert_to_fp32, save_as_SavedModel\n",
    "\n",
    "if FLAGS.amp:\n",
    "    print('converting...')\n",
    "    runner = convert_to_fp32(runner)\n",
    "save_as_SavedModel(runner.model, sm_path)"
   ]
  },
  {
   "cell_type": "markdown",
   "metadata": {},
   "source": [
    "### Save as TFTRT model (convert SavedModel to TFTRT)"
   ]
  },
  {
   "cell_type": "code",
   "execution_count": null,
   "metadata": {},
   "outputs": [],
   "source": [
    "from tf_rlib.utils.deploy_tools import convert_to_TFTRT\n",
    "\n",
    "convert_to_TFTRT(sm_path, tftrt_path,\n",
    "                 max_workspace_size_bytes=1<<23,\n",
    "                 precision='FP16',\n",
    "                 minimum_segment_size=10,\n",
    "                 is_dynamic_op=True,\n",
    "                 use_calibration=True,\n",
    "                 max_batch_size=32)"
   ]
  },
  {
   "cell_type": "code",
   "execution_count": null,
   "metadata": {},
   "outputs": [],
   "source": []
  }
 ],
 "metadata": {
  "kernelspec": {
   "display_name": "Python 3",
   "language": "python",
   "name": "python3"
  },
  "language_info": {
   "codemirror_mode": {
    "name": "ipython",
    "version": 3
   },
   "file_extension": ".py",
   "mimetype": "text/x-python",
   "name": "python",
   "nbconvert_exporter": "python",
   "pygments_lexer": "ipython3",
   "version": "3.6.7"
  }
 },
 "nbformat": 4,
 "nbformat_minor": 4
}
