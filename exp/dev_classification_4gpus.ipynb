{
 "cells": [
  {
   "cell_type": "code",
   "execution_count": 1,
   "metadata": {},
   "outputs": [
    {
     "name": "stderr",
     "output_type": "stream",
     "text": [
      "I1109 02:22:28.301977 140525210208064 __init__.py:112] init flags\n"
     ]
    }
   ],
   "source": [
    "import sys\n",
    "sys.path.append('..')\n",
    "import tf_rlib\n",
    "from tf_rlib.runners import ClassificationRunner"
   ]
  },
  {
   "cell_type": "code",
   "execution_count": 2,
   "metadata": {},
   "outputs": [
    {
     "name": "stderr",
     "output_type": "stream",
     "text": [
      "I1109 02:22:30.582678 140525210208064 tf_datasets.py:18] mean:[125.3069  122.95015 113.866  ], std:[62.99325  62.088604 66.70501 ]\n",
      "I1109 02:22:33.022794 140525210208064 tools.py:72] FLAGS: --logtostderr=False\n",
      "I1109 02:22:33.024506 140525210208064 tools.py:72] FLAGS: --alsologtostderr=False\n",
      "I1109 02:22:33.025876 140525210208064 tools.py:72] FLAGS: --log_dir=\n",
      "I1109 02:22:33.027320 140525210208064 tools.py:72] FLAGS: --v=0\n",
      "I1109 02:22:33.028649 140525210208064 tools.py:72] FLAGS: --verbosity=0\n",
      "I1109 02:22:33.029743 140525210208064 tools.py:72] FLAGS: --stderrthreshold=fatal\n",
      "I1109 02:22:33.031124 140525210208064 tools.py:72] FLAGS: --showprefixforinfo=True\n",
      "I1109 02:22:33.032325 140525210208064 tools.py:72] FLAGS: --run_with_pdb=False\n",
      "I1109 02:22:33.033512 140525210208064 tools.py:72] FLAGS: --pdb_post_mortem=False\n",
      "I1109 02:22:33.034585 140525210208064 tools.py:72] FLAGS: --run_with_profiling=False\n",
      "I1109 02:22:33.035890 140525210208064 tools.py:72] FLAGS: --profile_file=None\n",
      "I1109 02:22:33.037006 140525210208064 tools.py:72] FLAGS: --use_cprofile_for_profiling=True\n",
      "I1109 02:22:33.037980 140525210208064 tools.py:72] FLAGS: --only_check_args=False\n",
      "I1109 02:22:33.039052 140525210208064 tools.py:72] FLAGS: --op_conversion_fallback_to_while_loop=False\n",
      "I1109 02:22:33.040032 140525210208064 tools.py:72] FLAGS: --test_random_seed=301\n",
      "I1109 02:22:33.040961 140525210208064 tools.py:72] FLAGS: --test_srcdir=\n",
      "I1109 02:22:33.042006 140525210208064 tools.py:72] FLAGS: --test_tmpdir=/tmp/absl_testing\n",
      "I1109 02:22:33.043114 140525210208064 tools.py:72] FLAGS: --test_randomize_ordering_seed=None\n",
      "I1109 02:22:33.044138 140525210208064 tools.py:72] FLAGS: --xml_output_file=\n",
      "I1109 02:22:33.045232 140525210208064 tools.py:72] FLAGS: --log_level=INFO\n",
      "I1109 02:22:33.046195 140525210208064 tools.py:72] FLAGS: --profile=False\n",
      "I1109 02:22:33.047271 140525210208064 tools.py:72] FLAGS: --purge_logs=False\n",
      "I1109 02:22:33.048401 140525210208064 tools.py:72] FLAGS: --current_time=20191109-102228\n",
      "I1109 02:22:33.049606 140525210208064 tools.py:72] FLAGS: --local_path=/results\n",
      "I1109 02:22:33.050605 140525210208064 tools.py:72] FLAGS: --log_path=/results/default/20191109-102228/log\n",
      "I1109 02:22:33.051837 140525210208064 tools.py:72] FLAGS: --save_path=/results/default/20191109-102228/ckpt\n",
      "I1109 02:22:33.052930 140525210208064 tools.py:72] FLAGS: --exp_name=default\n",
      "I1109 02:22:33.053904 140525210208064 tools.py:72] FLAGS: --comment=None\n",
      "I1109 02:22:33.055042 140525210208064 tools.py:72] FLAGS: --benchmark_runner=None\n",
      "I1109 02:22:33.056127 140525210208064 tools.py:72] FLAGS: --gpus=0,1,2,3\n",
      "I1109 02:22:33.057138 140525210208064 tools.py:72] FLAGS: --amp=False\n",
      "I1109 02:22:33.058236 140525210208064 tools.py:72] FLAGS: --xla=True\n",
      "I1109 02:22:33.059478 140525210208064 tools.py:72] FLAGS: --out_dim=10\n",
      "I1109 02:22:33.060498 140525210208064 tools.py:72] FLAGS: --dim=2\n",
      "I1109 02:22:33.061537 140525210208064 tools.py:72] FLAGS: --lr=0.001\n",
      "I1109 02:22:33.062637 140525210208064 tools.py:72] FLAGS: --epochs=300\n",
      "I1109 02:22:33.063650 140525210208064 tools.py:72] FLAGS: --warmup=5\n",
      "I1109 02:22:33.064826 140525210208064 tools.py:72] FLAGS: --bs=128\n",
      "I1109 02:22:33.065926 140525210208064 tools.py:72] FLAGS: --adam_beta_1=0.9\n",
      "I1109 02:22:33.067053 140525210208064 tools.py:72] FLAGS: --adam_beta_2=0.999\n",
      "I1109 02:22:33.068459 140525210208064 tools.py:72] FLAGS: --adam_epsilon=1e-08\n",
      "I1109 02:22:33.069608 140525210208064 tools.py:72] FLAGS: --l1=0.0\n",
      "I1109 02:22:33.070699 140525210208064 tools.py:72] FLAGS: --l2=0.0\n",
      "I1109 02:22:33.071971 140525210208064 tools.py:72] FLAGS: --wd=0.0001\n",
      "I1109 02:22:33.073131 140525210208064 tools.py:72] FLAGS: --kernel_initializer=he_normal\n",
      "I1109 02:22:33.074442 140525210208064 tools.py:72] FLAGS: --bias_initializer=zeros\n",
      "I1109 02:22:33.075762 140525210208064 tools.py:72] FLAGS: --padding=same\n",
      "I1109 02:22:33.076967 140525210208064 tools.py:72] FLAGS: --conv_act=ReLU\n",
      "I1109 02:22:33.078002 140525210208064 tools.py:72] FLAGS: --conv_norm=BatchNormalization\n",
      "I1109 02:22:33.079017 140525210208064 tools.py:72] FLAGS: --bn_momentum=0.9\n",
      "I1109 02:22:33.080075 140525210208064 tools.py:72] FLAGS: --bn_epsilon=1e-05\n",
      "I1109 02:22:33.081073 140525210208064 tools.py:72] FLAGS: --conv_pooling=AveragePooling\n",
      "I1109 02:22:33.082082 140525210208064 tools.py:72] FLAGS: --global_pooling=GlobalAveragePooling\n",
      "I1109 02:22:33.083081 140525210208064 tools.py:72] FLAGS: --model_alpha=200\n",
      "I1109 02:22:33.084058 140525210208064 tools.py:72] FLAGS: --depth=272\n",
      "I1109 02:22:33.085077 140525210208064 tools.py:72] FLAGS: --bottleneck=True\n",
      "I1109 02:22:33.086056 140525210208064 tools.py:72] FLAGS: --filters_mode=small\n",
      "I1109 02:22:33.086987 140525210208064 tools.py:72] FLAGS: --?=False\n",
      "I1109 02:22:33.087936 140525210208064 tools.py:72] FLAGS: --help=False\n",
      "I1109 02:22:33.088979 140525210208064 tools.py:72] FLAGS: --helpshort=False\n",
      "I1109 02:22:33.090042 140525210208064 tools.py:72] FLAGS: --helpfull=False\n",
      "I1109 02:22:33.091023 140525210208064 tools.py:72] FLAGS: --helpxml=False\n",
      "I1109 02:22:33.188303 140525210208064 runner.py:28] Number of devices: 4\n",
      "I1109 02:23:22.906610 140525210208064 runner.py:43] pyramidnet model contains 26049562 trainable variables.\n"
     ]
    }
   ],
   "source": [
    "FLAGS = tf_rlib.FLAGS\n",
    "# FLAGS.purge_logs = True\n",
    "FLAGS.gpus='0,1,2,3'\n",
    "FLAGS.log_level='INFO'\n",
    "FLAGS.xla=True # False->17min init, 400img/sec, # True->21min init, 465img/sec\n",
    "FLAGS.lr=1e-3\n",
    "FLAGS.bs=128\n",
    "# https://github.com/dyhan0920/PyramidNet-PyTorch\n",
    "FLAGS.depth=272\n",
    "FLAGS.model_alpha=200\n",
    "FLAGS.bottleneck=True\n",
    "\n",
    "datasets = tf_rlib.datasets.get_cifar10()\n",
    "runner = ClassificationRunner(*datasets)"
   ]
  },
  {
   "cell_type": "code",
   "execution_count": null,
   "metadata": {},
   "outputs": [
    {
     "data": {
      "application/vnd.jupyter.widget-view+json": {
       "model_id": "c3a00b9fe4da465e93b81f6790f303f0",
       "version_major": 2,
       "version_minor": 0
      },
      "text/plain": [
       "HBox(children=(IntProgress(value=1, bar_style='info', description='train', max=1, style=ProgressStyle(descript…"
      ]
     },
     "metadata": {},
     "output_type": "display_data"
    },
    {
     "data": {
      "application/vnd.jupyter.widget-view+json": {
       "model_id": "c0eca5b8727345c89f2b41a901356f32",
       "version_major": 2,
       "version_minor": 0
      },
      "text/plain": [
       "HBox(children=(IntProgress(value=1, bar_style='info', description='valid', max=1, style=ProgressStyle(descript…"
      ]
     },
     "metadata": {},
     "output_type": "display_data"
    }
   ],
   "source": [
    "runner.fit(FLAGS.epochs, lr=FLAGS.lr)"
   ]
  },
  {
   "cell_type": "code",
   "execution_count": null,
   "metadata": {},
   "outputs": [],
   "source": []
  }
 ],
 "metadata": {
  "kernelspec": {
   "display_name": "Python 3",
   "language": "python",
   "name": "python3"
  },
  "language_info": {
   "codemirror_mode": {
    "name": "ipython",
    "version": 3
   },
   "file_extension": ".py",
   "mimetype": "text/x-python",
   "name": "python",
   "nbconvert_exporter": "python",
   "pygments_lexer": "ipython3",
   "version": "3.6.8"
  }
 },
 "nbformat": 4,
 "nbformat_minor": 4
}
