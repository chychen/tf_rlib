{
 "cells": [
  {
   "cell_type": "code",
   "execution_count": 1,
   "metadata": {},
   "outputs": [
    {
     "name": "stderr",
     "output_type": "stream",
     "text": [
      "I1107 11:49:23.438422 139897276925760 __init__.py:105] init flags\n",
      "I1107 11:49:23.480744 139897276925760 __init__.py:127] FLAGS: --logtostderr=False\n",
      "I1107 11:49:23.482035 139897276925760 __init__.py:127] FLAGS: --alsologtostderr=False\n",
      "I1107 11:49:23.483095 139897276925760 __init__.py:127] FLAGS: --log_dir=\n",
      "I1107 11:49:23.483990 139897276925760 __init__.py:127] FLAGS: --v=0\n",
      "I1107 11:49:23.485137 139897276925760 __init__.py:127] FLAGS: --verbosity=0\n",
      "I1107 11:49:23.486114 139897276925760 __init__.py:127] FLAGS: --stderrthreshold=fatal\n",
      "I1107 11:49:23.487087 139897276925760 __init__.py:127] FLAGS: --showprefixforinfo=True\n",
      "I1107 11:49:23.487975 139897276925760 __init__.py:127] FLAGS: --run_with_pdb=False\n",
      "I1107 11:49:23.488892 139897276925760 __init__.py:127] FLAGS: --pdb_post_mortem=False\n",
      "I1107 11:49:23.489997 139897276925760 __init__.py:127] FLAGS: --run_with_profiling=False\n",
      "I1107 11:49:23.490861 139897276925760 __init__.py:127] FLAGS: --profile_file=None\n",
      "I1107 11:49:23.492053 139897276925760 __init__.py:127] FLAGS: --use_cprofile_for_profiling=True\n",
      "I1107 11:49:23.492910 139897276925760 __init__.py:127] FLAGS: --only_check_args=False\n",
      "I1107 11:49:23.493710 139897276925760 __init__.py:127] FLAGS: --op_conversion_fallback_to_while_loop=False\n",
      "I1107 11:49:23.494545 139897276925760 __init__.py:127] FLAGS: --test_random_seed=301\n",
      "I1107 11:49:23.495347 139897276925760 __init__.py:127] FLAGS: --test_srcdir=\n",
      "I1107 11:49:23.496249 139897276925760 __init__.py:127] FLAGS: --test_tmpdir=/tmp/absl_testing\n",
      "I1107 11:49:23.497148 139897276925760 __init__.py:127] FLAGS: --test_randomize_ordering_seed=None\n",
      "I1107 11:49:23.497900 139897276925760 __init__.py:127] FLAGS: --xml_output_file=\n",
      "I1107 11:49:23.498731 139897276925760 __init__.py:127] FLAGS: --log_level=INFO\n",
      "I1107 11:49:23.499503 139897276925760 __init__.py:127] FLAGS: --profile=False\n",
      "I1107 11:49:23.500267 139897276925760 __init__.py:127] FLAGS: --purge_logs=False\n",
      "I1107 11:49:23.501354 139897276925760 __init__.py:127] FLAGS: --local_path=/results\n",
      "I1107 11:49:23.502222 139897276925760 __init__.py:127] FLAGS: --log_path=/results/default/20191107-194923/log\n",
      "I1107 11:49:23.503222 139897276925760 __init__.py:127] FLAGS: --save_path=/results/default/20191107-194923/ckpt\n",
      "I1107 11:49:23.504023 139897276925760 __init__.py:127] FLAGS: --exp_name=default\n",
      "I1107 11:49:23.504746 139897276925760 __init__.py:127] FLAGS: --comment=None\n",
      "I1107 11:49:23.505576 139897276925760 __init__.py:127] FLAGS: --benchmark_runner=None\n",
      "I1107 11:49:23.506647 139897276925760 __init__.py:127] FLAGS: --gpus=0,1,2,3,4,5,6,7\n",
      "I1107 11:49:23.507546 139897276925760 __init__.py:127] FLAGS: --amp=False\n",
      "I1107 11:49:23.508446 139897276925760 __init__.py:127] FLAGS: --out_dim=10\n",
      "I1107 11:49:23.509232 139897276925760 __init__.py:127] FLAGS: --dim=2\n",
      "I1107 11:49:23.509936 139897276925760 __init__.py:127] FLAGS: --lr=0.001\n",
      "I1107 11:49:23.510993 139897276925760 __init__.py:127] FLAGS: --epochs=300\n",
      "I1107 11:49:23.511758 139897276925760 __init__.py:127] FLAGS: --warmup=5\n",
      "I1107 11:49:23.512554 139897276925760 __init__.py:127] FLAGS: --bs=128\n",
      "I1107 11:49:23.513272 139897276925760 __init__.py:127] FLAGS: --adam_beta_1=0.9\n",
      "I1107 11:49:23.514024 139897276925760 __init__.py:127] FLAGS: --adam_beta_2=0.999\n",
      "I1107 11:49:23.514858 139897276925760 __init__.py:127] FLAGS: --adam_epsilon=1e-08\n",
      "I1107 11:49:23.515892 139897276925760 __init__.py:127] FLAGS: --l1=0.0\n",
      "I1107 11:49:23.516648 139897276925760 __init__.py:127] FLAGS: --l2=0.0001\n",
      "I1107 11:49:23.517435 139897276925760 __init__.py:127] FLAGS: --kernel_initializer=he_normal\n",
      "I1107 11:49:23.518499 139897276925760 __init__.py:127] FLAGS: --bias_initializer=zeros\n",
      "I1107 11:49:23.519291 139897276925760 __init__.py:127] FLAGS: --padding=same\n",
      "I1107 11:49:23.520235 139897276925760 __init__.py:127] FLAGS: --conv_act=ReLU\n",
      "I1107 11:49:23.521018 139897276925760 __init__.py:127] FLAGS: --conv_norm=BatchNormalization\n",
      "I1107 11:49:23.521696 139897276925760 __init__.py:127] FLAGS: --bn_momentum=0.9\n",
      "I1107 11:49:23.522485 139897276925760 __init__.py:127] FLAGS: --bn_epsilon=1e-05\n",
      "I1107 11:49:23.523219 139897276925760 __init__.py:127] FLAGS: --conv_pooling=AveragePooling\n",
      "I1107 11:49:23.524030 139897276925760 __init__.py:127] FLAGS: --global_pooling=GlobalAveragePooling\n",
      "I1107 11:49:23.525072 139897276925760 __init__.py:127] FLAGS: --model_alpha=200\n",
      "I1107 11:49:23.525829 139897276925760 __init__.py:127] FLAGS: --depth=None\n",
      "I1107 11:49:23.526748 139897276925760 __init__.py:127] FLAGS: --bottleneck=None\n",
      "I1107 11:49:23.527660 139897276925760 __init__.py:127] FLAGS: --filters_mode=small\n",
      "I1107 11:49:23.528400 139897276925760 __init__.py:127] FLAGS: --?=False\n",
      "I1107 11:49:23.529166 139897276925760 __init__.py:127] FLAGS: --help=False\n",
      "I1107 11:49:23.530122 139897276925760 __init__.py:127] FLAGS: --helpshort=False\n",
      "I1107 11:49:23.530965 139897276925760 __init__.py:127] FLAGS: --helpfull=False\n",
      "I1107 11:49:23.532113 139897276925760 __init__.py:127] FLAGS: --helpxml=False\n"
     ]
    }
   ],
   "source": [
    "import sys\n",
    "sys.path.append('..')\n",
    "import tf_rlib\n",
    "from tf_rlib.runners import ClassificationRunner\n",
    "FLAGS = tf_rlib.FLAGS"
   ]
  },
  {
   "cell_type": "code",
   "execution_count": 2,
   "metadata": {},
   "outputs": [
    {
     "name": "stderr",
     "output_type": "stream",
     "text": [
      "W1107 11:49:24.018297 139897276925760 tools.py:11] purged all logs under :/results\n",
      "W1107 11:49:24.019725 139897276925760 tools.py:22] CUDA_VISIBLE_DEVICES=0,1,2,3\n",
      "I1107 11:49:26.396919 139897276925760 tf_datasets.py:18] mean:[125.3069  122.95015 113.866  ], std:[62.99325  62.088604 66.70501 ]\n",
      "I1107 11:49:28.899331 139897276925760 runner.py:26] Number of devices: 4\n"
     ]
    },
    {
     "ename": "TypeError",
     "evalue": "in converted code:\n\n    ../tf_rlib/models/pyramidnet.py:82 call  *\n        x = group(x)\n    /usr/local/lib/python3.6/dist-packages/tensorflow_core/python/keras/engine/base_layer.py:842 __call__\n        outputs = call_fn(cast_inputs, *args, **kwargs)\n    ../tf_rlib/blocks/residual.py:115 call  *\n        out = shortcut_padding(out, x, self.downsample)\n    ../tf_rlib/blocks/residual.py:9 shortcut_padding  *\n        shortcut = downsample(x)\n    /usr/local/lib/python3.6/dist-packages/tensorflow_core/python/autograph/impl/api.py:396 converted_call\n        return py_builtins.overload_of(f)(*args)\n\n    TypeError: 'NoneType' object is not callable\n",
     "output_type": "error",
     "traceback": [
      "\u001b[0;31m---------------------------------------------------------------------------\u001b[0m",
      "\u001b[0;31mTypeError\u001b[0m                                 Traceback (most recent call last)",
      "\u001b[0;32m<ipython-input-2-f0a1e08bb424>\u001b[0m in \u001b[0;36m<module>\u001b[0;34m\u001b[0m\n\u001b[1;32m      9\u001b[0m \u001b[0;34m\u001b[0m\u001b[0m\n\u001b[1;32m     10\u001b[0m \u001b[0mdatasets\u001b[0m \u001b[0;34m=\u001b[0m \u001b[0mtf_rlib\u001b[0m\u001b[0;34m.\u001b[0m\u001b[0mdatasets\u001b[0m\u001b[0;34m.\u001b[0m\u001b[0mget_cifar10\u001b[0m\u001b[0;34m(\u001b[0m\u001b[0;34m)\u001b[0m\u001b[0;34m\u001b[0m\u001b[0;34m\u001b[0m\u001b[0m\n\u001b[0;32m---> 11\u001b[0;31m \u001b[0mrunner\u001b[0m \u001b[0;34m=\u001b[0m \u001b[0mClassificationRunner\u001b[0m\u001b[0;34m(\u001b[0m\u001b[0;34m*\u001b[0m\u001b[0mdatasets\u001b[0m\u001b[0;34m)\u001b[0m\u001b[0;34m\u001b[0m\u001b[0;34m\u001b[0m\u001b[0m\n\u001b[0m",
      "\u001b[0;32m/ws_src/tf_rlib/tf_rlib/runners/classification.py\u001b[0m in \u001b[0;36m__init__\u001b[0;34m(self, train_dataset, valid_dataset)\u001b[0m\n\u001b[1;32m     23\u001b[0m         super(ClassificationRunner, self).__init__(train_dataset,\n\u001b[1;32m     24\u001b[0m                                                    \u001b[0mvalid_dataset\u001b[0m\u001b[0;34m=\u001b[0m\u001b[0mvalid_dataset\u001b[0m\u001b[0;34m,\u001b[0m\u001b[0;34m\u001b[0m\u001b[0;34m\u001b[0m\u001b[0m\n\u001b[0;32m---> 25\u001b[0;31m                                                    best_state='acc')\n\u001b[0m\u001b[1;32m     26\u001b[0m \u001b[0;34m\u001b[0m\u001b[0m\n\u001b[1;32m     27\u001b[0m     \u001b[0;32mdef\u001b[0m \u001b[0minit\u001b[0m\u001b[0;34m(\u001b[0m\u001b[0mself\u001b[0m\u001b[0;34m)\u001b[0m\u001b[0;34m:\u001b[0m\u001b[0;34m\u001b[0m\u001b[0;34m\u001b[0m\u001b[0m\n",
      "\u001b[0;32m/ws_src/tf_rlib/tf_rlib/runners/runner.py\u001b[0m in \u001b[0;36m__init__\u001b[0;34m(self, train_dataset, valid_dataset, best_state)\u001b[0m\n\u001b[1;32m     37\u001b[0m                     tf.keras.Input(\n\u001b[1;32m     38\u001b[0m                         \u001b[0mshape\u001b[0m\u001b[0;34m=\u001b[0m\u001b[0mtrain_dataset\u001b[0m\u001b[0;34m.\u001b[0m\u001b[0melement_spec\u001b[0m\u001b[0;34m[\u001b[0m\u001b[0;36m0\u001b[0m\u001b[0;34m]\u001b[0m\u001b[0;34m.\u001b[0m\u001b[0mshape\u001b[0m\u001b[0;34m[\u001b[0m\u001b[0;36m1\u001b[0m\u001b[0;34m:\u001b[0m\u001b[0;34m]\u001b[0m\u001b[0;34m,\u001b[0m\u001b[0;34m\u001b[0m\u001b[0;34m\u001b[0m\u001b[0m\n\u001b[0;32m---> 39\u001b[0;31m                         dtype=tf.float32))\n\u001b[0m\u001b[1;32m     40\u001b[0m                 LOGGER.info('{} model contains {} trainable variables.'.format(\n\u001b[1;32m     41\u001b[0m                     key, model.num_params))\n",
      "\u001b[0;32m/usr/local/lib/python3.6/dist-packages/tensorflow_core/python/keras/engine/base_layer.py\u001b[0m in \u001b[0;36m__call__\u001b[0;34m(self, inputs, *args, **kwargs)\u001b[0m\n\u001b[1;32m    840\u001b[0m                     not base_layer_utils.is_in_eager_or_tf_function()):\n\u001b[1;32m    841\u001b[0m                   \u001b[0;32mwith\u001b[0m \u001b[0mauto_control_deps\u001b[0m\u001b[0;34m.\u001b[0m\u001b[0mAutomaticControlDependencies\u001b[0m\u001b[0;34m(\u001b[0m\u001b[0;34m)\u001b[0m \u001b[0;32mas\u001b[0m \u001b[0macd\u001b[0m\u001b[0;34m:\u001b[0m\u001b[0;34m\u001b[0m\u001b[0;34m\u001b[0m\u001b[0m\n\u001b[0;32m--> 842\u001b[0;31m                     \u001b[0moutputs\u001b[0m \u001b[0;34m=\u001b[0m \u001b[0mcall_fn\u001b[0m\u001b[0;34m(\u001b[0m\u001b[0mcast_inputs\u001b[0m\u001b[0;34m,\u001b[0m \u001b[0;34m*\u001b[0m\u001b[0margs\u001b[0m\u001b[0;34m,\u001b[0m \u001b[0;34m**\u001b[0m\u001b[0mkwargs\u001b[0m\u001b[0;34m)\u001b[0m\u001b[0;34m\u001b[0m\u001b[0;34m\u001b[0m\u001b[0m\n\u001b[0m\u001b[1;32m    843\u001b[0m                     \u001b[0;31m# Wrap Tensors in `outputs` in `tf.identity` to avoid\u001b[0m\u001b[0;34m\u001b[0m\u001b[0;34m\u001b[0m\u001b[0;34m\u001b[0m\u001b[0m\n\u001b[1;32m    844\u001b[0m                     \u001b[0;31m# circular dependencies.\u001b[0m\u001b[0;34m\u001b[0m\u001b[0;34m\u001b[0m\u001b[0;34m\u001b[0m\u001b[0m\n",
      "\u001b[0;32m/usr/local/lib/python3.6/dist-packages/tensorflow_core/python/autograph/impl/api.py\u001b[0m in \u001b[0;36mwrapper\u001b[0;34m(*args, **kwargs)\u001b[0m\n\u001b[1;32m    235\u001b[0m       \u001b[0;32mexcept\u001b[0m \u001b[0mException\u001b[0m \u001b[0;32mas\u001b[0m \u001b[0me\u001b[0m\u001b[0;34m:\u001b[0m  \u001b[0;31m# pylint:disable=broad-except\u001b[0m\u001b[0;34m\u001b[0m\u001b[0;34m\u001b[0m\u001b[0m\n\u001b[1;32m    236\u001b[0m         \u001b[0;32mif\u001b[0m \u001b[0mhasattr\u001b[0m\u001b[0;34m(\u001b[0m\u001b[0me\u001b[0m\u001b[0;34m,\u001b[0m \u001b[0;34m'ag_error_metadata'\u001b[0m\u001b[0;34m)\u001b[0m\u001b[0;34m:\u001b[0m\u001b[0;34m\u001b[0m\u001b[0;34m\u001b[0m\u001b[0m\n\u001b[0;32m--> 237\u001b[0;31m           \u001b[0;32mraise\u001b[0m \u001b[0me\u001b[0m\u001b[0;34m.\u001b[0m\u001b[0mag_error_metadata\u001b[0m\u001b[0;34m.\u001b[0m\u001b[0mto_exception\u001b[0m\u001b[0;34m(\u001b[0m\u001b[0me\u001b[0m\u001b[0;34m)\u001b[0m\u001b[0;34m\u001b[0m\u001b[0;34m\u001b[0m\u001b[0m\n\u001b[0m\u001b[1;32m    238\u001b[0m         \u001b[0;32melse\u001b[0m\u001b[0;34m:\u001b[0m\u001b[0;34m\u001b[0m\u001b[0;34m\u001b[0m\u001b[0m\n\u001b[1;32m    239\u001b[0m           \u001b[0;32mraise\u001b[0m\u001b[0;34m\u001b[0m\u001b[0;34m\u001b[0m\u001b[0m\n",
      "\u001b[0;31mTypeError\u001b[0m: in converted code:\n\n    ../tf_rlib/models/pyramidnet.py:82 call  *\n        x = group(x)\n    /usr/local/lib/python3.6/dist-packages/tensorflow_core/python/keras/engine/base_layer.py:842 __call__\n        outputs = call_fn(cast_inputs, *args, **kwargs)\n    ../tf_rlib/blocks/residual.py:115 call  *\n        out = shortcut_padding(out, x, self.downsample)\n    ../tf_rlib/blocks/residual.py:9 shortcut_padding  *\n        shortcut = downsample(x)\n    /usr/local/lib/python3.6/dist-packages/tensorflow_core/python/autograph/impl/api.py:396 converted_call\n        return py_builtins.overload_of(f)(*args)\n\n    TypeError: 'NoneType' object is not callable\n"
     ]
    }
   ],
   "source": [
    "tf_rlib.utils.purge_logs()\n",
    "tf_rlib.utils.set_gpus('0,1,2,3')\n",
    "tf_rlib.utils.set_logging('DEBUG')\n",
    "FLAGS.lr=1e-3\n",
    "FLAGS.bs=128\n",
    "# https://github.com/dyhan0920/PyramidNet-PyTorch\n",
    "FLAGS.depth=272\n",
    "FLAGS.model_alpha=200\n",
    "FLAGS.bottleneck=True\n",
    "\n",
    "datasets = tf_rlib.datasets.get_cifar10()\n",
    "runner = ClassificationRunner(*datasets)"
   ]
  },
  {
   "cell_type": "code",
   "execution_count": null,
   "metadata": {},
   "outputs": [],
   "source": [
    "runner.fit(FLAGS.epochs, lr=FLAGS.lr)"
   ]
  },
  {
   "cell_type": "code",
   "execution_count": null,
   "metadata": {},
   "outputs": [],
   "source": []
  },
  {
   "cell_type": "code",
   "execution_count": null,
   "metadata": {},
   "outputs": [],
   "source": []
  },
  {
   "cell_type": "code",
   "execution_count": null,
   "metadata": {},
   "outputs": [],
   "source": []
  }
 ],
 "metadata": {
  "kernelspec": {
   "display_name": "Python 3",
   "language": "python",
   "name": "python3"
  },
  "language_info": {
   "codemirror_mode": {
    "name": "ipython",
    "version": 3
   },
   "file_extension": ".py",
   "mimetype": "text/x-python",
   "name": "python",
   "nbconvert_exporter": "python",
   "pygments_lexer": "ipython3",
   "version": "3.6.8"
  }
 },
 "nbformat": 4,
 "nbformat_minor": 4
}
