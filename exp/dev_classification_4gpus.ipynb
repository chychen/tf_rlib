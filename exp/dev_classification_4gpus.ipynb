{
 "cells": [
  {
   "cell_type": "code",
   "execution_count": 1,
   "metadata": {},
   "outputs": [
    {
     "name": "stderr",
     "output_type": "stream",
     "text": [
      "I1107 11:26:18.828905 140046461515584 __init__.py:105] init flags\n",
      "I1107 11:26:18.878776 140046461515584 __init__.py:127] FLAGS: --logtostderr=False\n",
      "I1107 11:26:18.879912 140046461515584 __init__.py:127] FLAGS: --alsologtostderr=False\n",
      "I1107 11:26:18.880991 140046461515584 __init__.py:127] FLAGS: --log_dir=\n",
      "I1107 11:26:18.881941 140046461515584 __init__.py:127] FLAGS: --v=0\n",
      "I1107 11:26:18.883107 140046461515584 __init__.py:127] FLAGS: --verbosity=0\n",
      "I1107 11:26:18.883955 140046461515584 __init__.py:127] FLAGS: --stderrthreshold=fatal\n",
      "I1107 11:26:18.885181 140046461515584 __init__.py:127] FLAGS: --showprefixforinfo=True\n",
      "I1107 11:26:18.886182 140046461515584 __init__.py:127] FLAGS: --run_with_pdb=False\n",
      "I1107 11:26:18.887259 140046461515584 __init__.py:127] FLAGS: --pdb_post_mortem=False\n",
      "I1107 11:26:18.888414 140046461515584 __init__.py:127] FLAGS: --run_with_profiling=False\n",
      "I1107 11:26:18.889310 140046461515584 __init__.py:127] FLAGS: --profile_file=None\n",
      "I1107 11:26:18.890202 140046461515584 __init__.py:127] FLAGS: --use_cprofile_for_profiling=True\n",
      "I1107 11:26:18.891455 140046461515584 __init__.py:127] FLAGS: --only_check_args=False\n",
      "I1107 11:26:18.892297 140046461515584 __init__.py:127] FLAGS: --op_conversion_fallback_to_while_loop=False\n",
      "I1107 11:26:18.893277 140046461515584 __init__.py:127] FLAGS: --test_random_seed=301\n",
      "I1107 11:26:18.894217 140046461515584 __init__.py:127] FLAGS: --test_srcdir=\n",
      "I1107 11:26:18.895057 140046461515584 __init__.py:127] FLAGS: --test_tmpdir=/tmp/absl_testing\n",
      "I1107 11:26:18.895817 140046461515584 __init__.py:127] FLAGS: --test_randomize_ordering_seed=None\n",
      "I1107 11:26:18.896571 140046461515584 __init__.py:127] FLAGS: --xml_output_file=\n",
      "I1107 11:26:18.897360 140046461515584 __init__.py:127] FLAGS: --log_level=INFO\n",
      "I1107 11:26:18.898118 140046461515584 __init__.py:127] FLAGS: --profile=False\n",
      "I1107 11:26:18.898853 140046461515584 __init__.py:127] FLAGS: --purge_logs=False\n",
      "I1107 11:26:18.899661 140046461515584 __init__.py:127] FLAGS: --local_path=/results\n",
      "I1107 11:26:18.900439 140046461515584 __init__.py:127] FLAGS: --log_path=/results/default/20191107-192618/log\n",
      "I1107 11:26:18.901288 140046461515584 __init__.py:127] FLAGS: --save_path=/results/default/20191107-192618/ckpt\n",
      "I1107 11:26:18.901993 140046461515584 __init__.py:127] FLAGS: --exp_name=default\n",
      "I1107 11:26:18.902841 140046461515584 __init__.py:127] FLAGS: --comment=None\n",
      "I1107 11:26:18.903766 140046461515584 __init__.py:127] FLAGS: --benchmark_runner=None\n",
      "I1107 11:26:18.904406 140046461515584 __init__.py:127] FLAGS: --gpus=0,1,2,3,4,5,6,7\n",
      "I1107 11:26:18.905393 140046461515584 __init__.py:127] FLAGS: --amp=False\n",
      "I1107 11:26:18.906141 140046461515584 __init__.py:127] FLAGS: --out_dim=10\n",
      "I1107 11:26:18.907214 140046461515584 __init__.py:127] FLAGS: --dim=2\n",
      "I1107 11:26:18.908146 140046461515584 __init__.py:127] FLAGS: --lr=0.001\n",
      "I1107 11:26:18.909189 140046461515584 __init__.py:127] FLAGS: --epochs=300\n",
      "I1107 11:26:18.909992 140046461515584 __init__.py:127] FLAGS: --warmup=5\n",
      "I1107 11:26:18.910761 140046461515584 __init__.py:127] FLAGS: --bs=128\n",
      "I1107 11:26:18.911621 140046461515584 __init__.py:127] FLAGS: --adam_beta_1=0.9\n",
      "I1107 11:26:18.912433 140046461515584 __init__.py:127] FLAGS: --adam_beta_2=0.999\n",
      "I1107 11:26:18.913269 140046461515584 __init__.py:127] FLAGS: --adam_epsilon=1e-08\n",
      "I1107 11:26:18.914258 140046461515584 __init__.py:127] FLAGS: --l1=0.0\n",
      "I1107 11:26:18.915048 140046461515584 __init__.py:127] FLAGS: --l2=0.0001\n",
      "I1107 11:26:18.915866 140046461515584 __init__.py:127] FLAGS: --kernel_initializer=he_normal\n",
      "I1107 11:26:18.916761 140046461515584 __init__.py:127] FLAGS: --bias_initializer=zeros\n",
      "I1107 11:26:18.917739 140046461515584 __init__.py:127] FLAGS: --padding=same\n",
      "I1107 11:26:18.918567 140046461515584 __init__.py:127] FLAGS: --conv_act=ReLU\n",
      "I1107 11:26:18.919496 140046461515584 __init__.py:127] FLAGS: --conv_norm=BatchNormalization\n",
      "I1107 11:26:18.920414 140046461515584 __init__.py:127] FLAGS: --bn_momentum=0.9\n",
      "I1107 11:26:18.921272 140046461515584 __init__.py:127] FLAGS: --bn_epsilon=1e-05\n",
      "I1107 11:26:18.921953 140046461515584 __init__.py:127] FLAGS: --conv_pooling=AveragePooling\n",
      "I1107 11:26:18.922680 140046461515584 __init__.py:127] FLAGS: --global_pooling=GlobalAveragePooling\n",
      "I1107 11:26:18.923354 140046461515584 __init__.py:127] FLAGS: --model_alpha=200\n",
      "I1107 11:26:18.924374 140046461515584 __init__.py:127] FLAGS: --depth=None\n",
      "I1107 11:26:18.925111 140046461515584 __init__.py:127] FLAGS: --bottleneck=None\n",
      "I1107 11:26:18.925789 140046461515584 __init__.py:127] FLAGS: --filters_mode=small\n",
      "I1107 11:26:18.926538 140046461515584 __init__.py:127] FLAGS: --?=False\n",
      "I1107 11:26:18.927688 140046461515584 __init__.py:127] FLAGS: --help=False\n",
      "I1107 11:26:18.928781 140046461515584 __init__.py:127] FLAGS: --helpshort=False\n",
      "I1107 11:26:18.929663 140046461515584 __init__.py:127] FLAGS: --helpfull=False\n",
      "I1107 11:26:18.930517 140046461515584 __init__.py:127] FLAGS: --helpxml=False\n"
     ]
    }
   ],
   "source": [
    "import sys\n",
    "sys.path.append('..')\n",
    "import tf_rlib\n",
    "from tf_rlib.runners import ClassificationRunner\n",
    "from tf_rlib.utils import purge_logs, set_gpus\n",
    "FLAGS = tf_rlib.FLAGS"
   ]
  },
  {
   "cell_type": "code",
   "execution_count": 2,
   "metadata": {},
   "outputs": [
    {
     "name": "stderr",
     "output_type": "stream",
     "text": [
      "W1107 11:26:19.248749 140046461515584 tools.py:11] purged all logs under :/results\n",
      "W1107 11:26:19.250018 140046461515584 tools.py:22] CUDA_VISIBLE_DEVICES=0,1,2,3\n",
      "I1107 11:26:21.559288 140046461515584 tf_datasets.py:18] mean:[125.3069  122.95015 113.866  ], std:[62.99325  62.088604 66.70501 ]\n",
      "I1107 11:26:24.774417 140046461515584 runner.py:23] Number of devices: 4\n",
      "I1107 11:26:36.389890 140046461515584 runner.py:38] pyramidnet model contains 496812 trainable variables.\n"
     ]
    }
   ],
   "source": [
    "purge_logs()\n",
    "set_gpus('0,1,2,3')\n",
    "FLAGS.lr=1e-3*4\n",
    "FLAGS.bs=128*4\n",
    "# https://github.com/dyhan0920/PyramidNet-PyTorch\n",
    "FLAGS.depth=32\n",
    "FLAGS.model_alpha=48\n",
    "FLAGS.bottleneck=False\n",
    "\n",
    "datasets = tf_rlib.datasets.get_cifar10()\n",
    "runner = ClassificationRunner(*datasets)"
   ]
  },
  {
   "cell_type": "code",
   "execution_count": null,
   "metadata": {},
   "outputs": [
    {
     "data": {
      "application/vnd.jupyter.widget-view+json": {
       "model_id": "986ed113a1dd4ec2a9f10510eae91a3f",
       "version_major": 2,
       "version_minor": 0
      },
      "text/plain": [
       "HBox(children=(IntProgress(value=1, bar_style='info', description='train', max=1, style=ProgressStyle(descript…"
      ]
     },
     "metadata": {},
     "output_type": "display_data"
    },
    {
     "data": {
      "application/vnd.jupyter.widget-view+json": {
       "model_id": "eb8b867bf1954143b7fdb57736bb3d80",
       "version_major": 2,
       "version_minor": 0
      },
      "text/plain": [
       "HBox(children=(IntProgress(value=1, bar_style='info', description='valid', max=1, style=ProgressStyle(descript…"
      ]
     },
     "metadata": {},
     "output_type": "display_data"
    },
    {
     "name": "stderr",
     "output_type": "stream",
     "text": [
      "I1107 11:27:49.622005 140046461515584 metrics_manager.py:61] Best Performance at acc: 0.1058\n",
      "epoch: 1  train_loss: 0.6124  train_acc: 0.1053  valid_loss: 0.5985  valid_acc: 0.1058  samples/sec: 821.3740\n",
      "\n",
      "I1107 11:27:58.994728 140046461515584 metrics_manager.py:61] Best Performance at acc: 0.4875\n",
      "epoch: 2  train_loss: 0.4137  train_acc: 0.3938  valid_loss: 0.3542  valid_acc: 0.4875  samples/sec: 6426.6281\n",
      "\n",
      "I1107 11:28:08.749439 140046461515584 metrics_manager.py:61] Best Performance at acc: 0.5093\n",
      "epoch: 3  train_loss: 0.3033  train_acc: 0.5635  valid_loss: 0.3513  valid_acc: 0.5093  samples/sec: 6174.2722\n",
      "\n",
      "I1107 11:28:17.804457 140046461515584 metrics_manager.py:61] Best Performance at acc: 0.6231\n",
      "epoch: 4  train_loss: 0.2480  train_acc: 0.6483  valid_loss: 0.2612  valid_acc: 0.6231  samples/sec: 6654.2385\n",
      "\n",
      "I1107 11:28:26.506946 140046461515584 metrics_manager.py:61] Best Performance at acc: 0.7025\n",
      "epoch: 5  train_loss: 0.2130  train_acc: 0.7016  valid_loss: 0.2091  valid_acc: 0.7025  samples/sec: 6924.9542\n",
      "\n",
      "I1107 11:28:34.805858 140046461515584 metrics_manager.py:61] \n",
      "epoch: 6  train_loss: 0.1910  train_acc: 0.7325  valid_loss: 0.2303  valid_acc: 0.6733  samples/sec: 7267.0695\n",
      "\n",
      "I1107 11:28:43.606299 140046461515584 metrics_manager.py:61] Best Performance at acc: 0.7359\n",
      "epoch: 7  train_loss: 0.1654  train_acc: 0.7704  valid_loss: 0.1918  valid_acc: 0.7359  samples/sec: 6854.3761\n",
      "\n",
      "I1107 11:28:52.453960 140046461515584 metrics_manager.py:61] Best Performance at acc: 0.7437\n",
      "epoch: 8  train_loss: 0.1517  train_acc: 0.7892  valid_loss: 0.1775  valid_acc: 0.7437  samples/sec: 6813.2221\n",
      "\n",
      "I1107 11:29:01.106004 140046461515584 metrics_manager.py:61] Best Performance at acc: 0.8070\n",
      "epoch: 9  train_loss: 0.1392  train_acc: 0.8080  valid_loss: 0.1426  valid_acc: 0.8070  samples/sec: 6969.9691\n",
      "\n",
      "I1107 11:29:09.368122 140046461515584 metrics_manager.py:61] \n",
      "epoch: 10  train_loss: 0.1311  train_acc: 0.8194  valid_loss: 0.1876  valid_acc: 0.7463  samples/sec: 7300.6339\n",
      "\n",
      "I1107 11:29:17.364176 140046461515584 metrics_manager.py:61] \n",
      "epoch: 11  train_loss: 0.1225  train_acc: 0.8309  valid_loss: 0.1446  valid_acc: 0.8014  samples/sec: 7542.7679\n",
      "\n",
      "I1107 11:29:25.447703 140046461515584 metrics_manager.py:61] \n",
      "epoch: 12  train_loss: 0.1169  train_acc: 0.8386  valid_loss: 0.1547  valid_acc: 0.7862  samples/sec: 7463.8792\n",
      "\n",
      "I1107 11:29:34.516749 140046461515584 metrics_manager.py:61] Best Performance at acc: 0.8168\n",
      "epoch: 13  train_loss: 0.1119  train_acc: 0.8463  valid_loss: 0.1346  valid_acc: 0.8168  samples/sec: 6646.4209\n",
      "\n"
     ]
    }
   ],
   "source": [
    "runner.fit(FLAGS.epochs, lr=FLAGS.lr)"
   ]
  },
  {
   "cell_type": "code",
   "execution_count": null,
   "metadata": {},
   "outputs": [],
   "source": []
  },
  {
   "cell_type": "code",
   "execution_count": null,
   "metadata": {},
   "outputs": [],
   "source": []
  },
  {
   "cell_type": "code",
   "execution_count": null,
   "metadata": {},
   "outputs": [],
   "source": []
  }
 ],
 "metadata": {
  "kernelspec": {
   "display_name": "Python 3",
   "language": "python",
   "name": "python3"
  },
  "language_info": {
   "codemirror_mode": {
    "name": "ipython",
    "version": 3
   },
   "file_extension": ".py",
   "mimetype": "text/x-python",
   "name": "python",
   "nbconvert_exporter": "python",
   "pygments_lexer": "ipython3",
   "version": "3.6.8"
  }
 },
 "nbformat": 4,
 "nbformat_minor": 4
}
