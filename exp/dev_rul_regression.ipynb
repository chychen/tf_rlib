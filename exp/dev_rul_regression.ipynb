{
 "cells": [
  {
   "cell_type": "code",
   "execution_count": null,
   "metadata": {},
   "outputs": [],
   "source": [
    "import os\n",
    "import sys\n",
    "sys.path.append('..')\n",
    "import tf_rlib\n",
    "import tensorflow as tf\n",
    "import pandas as pd\n",
    "import numpy as np\n",
    "import tqdm\n",
    "import seaborn as sns\n",
    "import matplotlib.pyplot as plt\n",
    "\n",
    "FLAGS = tf_rlib.FLAGS\n",
    "\n",
    "tf_rlib.utils.purge_logs()\n",
    "tf_rlib.utils.set_gpus('0,1')\n",
    "tf_rlib.utils.set_logging('WARN')\n",
    "FLAGS.depth=32\n",
    "FLAGS.dim=1\n",
    "FLAGS.out_dim=3\n",
    "FLAGS.bs = 128\n",
    "FLAGS.model_alpha=48\n",
    "FLAGS.bottleneck=True\n",
    "FLAGS.loss_fn = 'mae'\n",
    "dset = tf_rlib.datasets.PHM2018()"
   ]
  },
  {
   "cell_type": "code",
   "execution_count": null,
   "metadata": {},
   "outputs": [],
   "source": [
    "runner = tf_rlib.runners.RULRegressionRunner(*dset.get_data(), y_denorm_fn=lambda x: dset.UPPER_BOUND*x)\n",
    "runner.fit(300, 1e-3)"
   ]
  },
  {
   "cell_type": "code",
   "execution_count": null,
   "metadata": {},
   "outputs": [],
   "source": []
  }
 ],
 "metadata": {
  "kernelspec": {
   "display_name": "Python 3",
   "language": "python",
   "name": "python3"
  },
  "language_info": {
   "codemirror_mode": {
    "name": "ipython",
    "version": 3
   },
   "file_extension": ".py",
   "mimetype": "text/x-python",
   "name": "python",
   "nbconvert_exporter": "python",
   "pygments_lexer": "ipython3",
   "version": "3.6.7"
  }
 },
 "nbformat": 4,
 "nbformat_minor": 4
}
