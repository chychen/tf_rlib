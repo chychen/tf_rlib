{
 "cells": [
  {
   "cell_type": "code",
   "execution_count": 1,
   "metadata": {},
   "outputs": [
    {
     "name": "stderr",
     "output_type": "stream",
     "text": [
      "I1103 10:45:09.682338 140015664342848 __init__.py:104] init flags\n",
      "W1103 10:45:15.524385 140015664342848 tools.py:10] purged all logs under :/results\n",
      "I1103 10:45:15.539771 140015664342848 __init__.py:126] FLAGS: --logtostderr=False\n",
      "I1103 10:45:15.540917 140015664342848 __init__.py:126] FLAGS: --alsologtostderr=False\n",
      "I1103 10:45:15.542050 140015664342848 __init__.py:126] FLAGS: --log_dir=\n",
      "I1103 10:45:15.543247 140015664342848 __init__.py:126] FLAGS: --v=0\n",
      "I1103 10:45:15.544380 140015664342848 __init__.py:126] FLAGS: --verbosity=0\n",
      "I1103 10:45:15.545291 140015664342848 __init__.py:126] FLAGS: --stderrthreshold=fatal\n",
      "I1103 10:45:15.546366 140015664342848 __init__.py:126] FLAGS: --showprefixforinfo=True\n",
      "I1103 10:45:15.547343 140015664342848 __init__.py:126] FLAGS: --run_with_pdb=False\n",
      "I1103 10:45:15.548623 140015664342848 __init__.py:126] FLAGS: --pdb_post_mortem=False\n",
      "I1103 10:45:15.549551 140015664342848 __init__.py:126] FLAGS: --run_with_profiling=False\n",
      "I1103 10:45:15.550607 140015664342848 __init__.py:126] FLAGS: --profile_file=None\n",
      "I1103 10:45:15.551419 140015664342848 __init__.py:126] FLAGS: --use_cprofile_for_profiling=True\n",
      "I1103 10:45:15.552315 140015664342848 __init__.py:126] FLAGS: --only_check_args=False\n",
      "I1103 10:45:15.553217 140015664342848 __init__.py:126] FLAGS: --op_conversion_fallback_to_while_loop=False\n",
      "I1103 10:45:15.553969 140015664342848 __init__.py:126] FLAGS: --test_random_seed=301\n",
      "I1103 10:45:15.554920 140015664342848 __init__.py:126] FLAGS: --test_srcdir=\n",
      "I1103 10:45:15.555808 140015664342848 __init__.py:126] FLAGS: --test_tmpdir=/tmp/absl_testing\n",
      "I1103 10:45:15.556687 140015664342848 __init__.py:126] FLAGS: --test_randomize_ordering_seed=None\n",
      "I1103 10:45:15.557571 140015664342848 __init__.py:126] FLAGS: --xml_output_file=\n",
      "I1103 10:45:15.558327 140015664342848 __init__.py:126] FLAGS: --log_level=INFO\n",
      "I1103 10:45:15.559254 140015664342848 __init__.py:126] FLAGS: --profile=False\n",
      "I1103 10:45:15.560320 140015664342848 __init__.py:126] FLAGS: --purge_logs=True\n",
      "I1103 10:45:15.561414 140015664342848 __init__.py:126] FLAGS: --local_path=/results\n",
      "I1103 10:45:15.562278 140015664342848 __init__.py:126] FLAGS: --log_path=/results/default/20191103-184509/log\n",
      "I1103 10:45:15.563338 140015664342848 __init__.py:126] FLAGS: --save_path=/results/default/20191103-184509/ckpt\n",
      "I1103 10:45:15.564169 140015664342848 __init__.py:126] FLAGS: --exp_name=default\n",
      "I1103 10:45:15.565074 140015664342848 __init__.py:126] FLAGS: --comment=None\n",
      "I1103 10:45:15.565952 140015664342848 __init__.py:126] FLAGS: --benchmark_runner=None\n",
      "I1103 10:45:15.566890 140015664342848 __init__.py:126] FLAGS: --gpus=0,1,2,3,4,5,6,7\n",
      "I1103 10:45:15.568014 140015664342848 __init__.py:126] FLAGS: --amp=False\n",
      "I1103 10:45:15.568802 140015664342848 __init__.py:126] FLAGS: --out_dim=10\n",
      "I1103 10:45:15.569565 140015664342848 __init__.py:126] FLAGS: --dim=2\n",
      "I1103 10:45:15.570569 140015664342848 __init__.py:126] FLAGS: --lr=0.001\n",
      "I1103 10:45:15.571431 140015664342848 __init__.py:126] FLAGS: --epochs=300\n",
      "I1103 10:45:15.572305 140015664342848 __init__.py:126] FLAGS: --warmup=5\n",
      "I1103 10:45:15.573292 140015664342848 __init__.py:126] FLAGS: --bs=128\n",
      "I1103 10:45:15.574156 140015664342848 __init__.py:126] FLAGS: --adam_beta_1=0.9\n",
      "I1103 10:45:15.575092 140015664342848 __init__.py:126] FLAGS: --adam_beta_2=0.999\n",
      "I1103 10:45:15.575943 140015664342848 __init__.py:126] FLAGS: --adam_epsilon=1e-08\n",
      "I1103 10:45:15.576730 140015664342848 __init__.py:126] FLAGS: --l1=0.0\n",
      "I1103 10:45:15.577772 140015664342848 __init__.py:126] FLAGS: --l2=0.0001\n",
      "I1103 10:45:15.578767 140015664342848 __init__.py:126] FLAGS: --kernel_initializer=he_normal\n",
      "I1103 10:45:15.580096 140015664342848 __init__.py:126] FLAGS: --bias_initializer=zeros\n",
      "I1103 10:45:15.580870 140015664342848 __init__.py:126] FLAGS: --padding=same\n",
      "I1103 10:45:15.581674 140015664342848 __init__.py:126] FLAGS: --conv_act=ReLU\n",
      "I1103 10:45:15.582460 140015664342848 __init__.py:126] FLAGS: --conv_norm=BatchNormalization\n",
      "I1103 10:45:15.583266 140015664342848 __init__.py:126] FLAGS: --bn_momentum=0.9\n",
      "I1103 10:45:15.584081 140015664342848 __init__.py:126] FLAGS: --bn_epsilon=1e-05\n",
      "I1103 10:45:15.585078 140015664342848 __init__.py:126] FLAGS: --conv_pooling=AveragePooling\n",
      "I1103 10:45:15.585820 140015664342848 __init__.py:126] FLAGS: --global_pooling=GlobalAveragePooling\n",
      "I1103 10:45:15.586642 140015664342848 __init__.py:126] FLAGS: --model_alpha=200\n",
      "I1103 10:45:15.587800 140015664342848 __init__.py:126] FLAGS: --depth=None\n",
      "I1103 10:45:15.588673 140015664342848 __init__.py:126] FLAGS: --bottleneck=None\n",
      "I1103 10:45:15.589585 140015664342848 __init__.py:126] FLAGS: --filters_mode=small\n",
      "I1103 10:45:15.590813 140015664342848 __init__.py:126] FLAGS: --?=False\n",
      "I1103 10:45:15.591726 140015664342848 __init__.py:126] FLAGS: --help=False\n",
      "I1103 10:45:15.592680 140015664342848 __init__.py:126] FLAGS: --helpshort=False\n",
      "I1103 10:45:15.593832 140015664342848 __init__.py:126] FLAGS: --helpfull=False\n",
      "I1103 10:45:15.594849 140015664342848 __init__.py:126] FLAGS: --helpxml=False\n",
      "I1103 10:45:15.595786 140015664342848 __init__.py:130] CUDA_VISIBLE_DEVICES=0,1,2,3,4,5,6,7\n"
     ]
    }
   ],
   "source": [
    "import sys\n",
    "sys.path.append('..')\n",
    "import tf_rlib\n",
    "from tf_rlib.runners import ClassificationRunner\n",
    "from tf_rlib.utils import HParamTuner\n",
    "import os"
   ]
  },
  {
   "cell_type": "code",
   "execution_count": 3,
   "metadata": {},
   "outputs": [],
   "source": [
    "FLAGS = tf_rlib.FLAGS\n",
    "FLAGS.depth=32\n",
    "FLAGS.model_alpha=48\n",
    "FLAGS.bottleneck=False\n",
    "tf_rlib.utils.set_logging('WARNING')"
   ]
  },
  {
   "cell_type": "code",
   "execution_count": 4,
   "metadata": {},
   "outputs": [
    {
     "data": {
      "text/plain": [
       "[[{'epochs': 1, 'lr': 0.01}, None],\n",
       " [{'epochs': 1, 'lr': 0.001}, None],\n",
       " [{'epochs': 1, 'lr': 0.0001}, None]]"
      ]
     },
     "execution_count": 4,
     "metadata": {},
     "output_type": "execute_result"
    }
   ],
   "source": [
    "hpt = HParamTuner(ClassificationRunner, ['0','1','2','3'], tf_rlib.datasets.get_cifar10)\n",
    "hpt(epochs=[1,], lr=[1e-2, 1e-3, 1e-4])"
   ]
  },
  {
   "cell_type": "code",
   "execution_count": 6,
   "metadata": {},
   "outputs": [
    {
     "name": "stderr",
     "output_type": "stream",
     "text": [
      "I1103 10:15:08.553739 139996587800384 tf_datasets.py:18] mean:[125.3069  122.95015 113.866  ], std:[62.99325  62.088604 66.70501 ]\n",
      "I1103 10:15:08.554992 139996587800384 tf_datasets.py:18] mean:[125.3069  122.95015 113.866  ], std:[62.99325  62.088604 66.70501 ]\n",
      "I1103 10:15:08.562350 139996587800384 tf_datasets.py:18] mean:[125.3069  122.95015 113.866  ], std:[62.99325  62.088604 66.70501 ]\n",
      "I1103 10:15:10.818919 139996587800384 pyramidnet.py:65] block id: 1, filters: 19\n",
      "I1103 10:15:10.819427 139996587800384 pyramidnet.py:65] block id: 1, filters: 19\n",
      "I1103 10:15:10.821485 139996587800384 pyramidnet.py:65] block id: 1, filters: 19\n",
      "I1103 10:15:10.830229 139996587800384 pyramidnet.py:65] block id: 2, filters: 22\n",
      "I1103 10:15:10.831184 139996587800384 pyramidnet.py:65] block id: 2, filters: 22\n",
      "I1103 10:15:10.832784 139996587800384 pyramidnet.py:65] block id: 2, filters: 22\n",
      "I1103 10:15:10.838761 139996587800384 pyramidnet.py:65] block id: 3, filters: 25\n",
      "I1103 10:15:10.841796 139996587800384 pyramidnet.py:65] block id: 3, filters: 25\n",
      "I1103 10:15:10.841926 139996587800384 pyramidnet.py:65] block id: 3, filters: 25\n",
      "I1103 10:15:10.847896 139996587800384 pyramidnet.py:65] block id: 4, filters: 28\n",
      "I1103 10:15:10.851097 139996587800384 pyramidnet.py:65] block id: 4, filters: 28\n",
      "I1103 10:15:10.851186 139996587800384 pyramidnet.py:65] block id: 4, filters: 28\n",
      "I1103 10:15:10.856129 139996587800384 pyramidnet.py:65] block id: 5, filters: 32\n",
      "I1103 10:15:10.859223 139996587800384 pyramidnet.py:65] block id: 5, filters: 32\n",
      "I1103 10:15:10.859290 139996587800384 pyramidnet.py:65] block id: 5, filters: 32\n",
      "I1103 10:15:10.871987 139996587800384 pyramidnet.py:65] block id: 6, filters: 35\n",
      "I1103 10:15:10.872180 139996587800384 pyramidnet.py:65] block id: 6, filters: 35\n",
      "I1103 10:15:10.876739 139996587800384 pyramidnet.py:65] block id: 6, filters: 35\n",
      "I1103 10:15:10.882215 139996587800384 pyramidnet.py:65] block id: 7, filters: 38\n",
      "I1103 10:15:10.886487 139996587800384 pyramidnet.py:65] block id: 7, filters: 38\n",
      "I1103 10:15:10.886961 139996587800384 pyramidnet.py:65] block id: 7, filters: 38\n",
      "I1103 10:15:10.890932 139996587800384 pyramidnet.py:65] block id: 8, filters: 41\n",
      "I1103 10:15:10.894886 139996587800384 pyramidnet.py:65] block id: 8, filters: 41\n",
      "I1103 10:15:10.895417 139996587800384 pyramidnet.py:65] block id: 8, filters: 41\n",
      "I1103 10:15:10.899723 139996587800384 pyramidnet.py:65] block id: 9, filters: 44\n",
      "I1103 10:15:10.903387 139996587800384 pyramidnet.py:65] block id: 9, filters: 44\n",
      "I1103 10:15:10.904391 139996587800384 pyramidnet.py:65] block id: 9, filters: 44\n",
      "I1103 10:15:10.908134 139996587800384 pyramidnet.py:65] block id: 10, filters: 48\n",
      "I1103 10:15:10.911383 139996587800384 pyramidnet.py:65] block id: 10, filters: 48\n",
      "I1103 10:15:10.912559 139996587800384 pyramidnet.py:65] block id: 10, filters: 48\n",
      "I1103 10:15:10.920736 139996587800384 pyramidnet.py:65] block id: 11, filters: 51\n",
      "I1103 10:15:10.923460 139996587800384 pyramidnet.py:65] block id: 11, filters: 51\n",
      "I1103 10:15:10.925915 139996587800384 pyramidnet.py:65] block id: 11, filters: 51\n",
      "I1103 10:15:10.931920 139996587800384 pyramidnet.py:65] block id: 12, filters: 54\n",
      "I1103 10:15:10.933048 139996587800384 pyramidnet.py:65] block id: 12, filters: 54\n",
      "I1103 10:15:10.936755 139996587800384 pyramidnet.py:65] block id: 12, filters: 54\n",
      "I1103 10:15:10.940226 139996587800384 pyramidnet.py:65] block id: 13, filters: 57\n",
      "I1103 10:15:10.941782 139996587800384 pyramidnet.py:65] block id: 13, filters: 57\n",
      "I1103 10:15:10.944738 139996587800384 pyramidnet.py:65] block id: 13, filters: 57\n",
      "I1103 10:15:10.948821 139996587800384 pyramidnet.py:65] block id: 14, filters: 60\n",
      "I1103 10:15:10.950304 139996587800384 pyramidnet.py:65] block id: 14, filters: 60\n",
      "I1103 10:15:10.953004 139996587800384 pyramidnet.py:65] block id: 14, filters: 60\n",
      "I1103 10:15:10.956820 139996587800384 pyramidnet.py:65] block id: 15, filters: 64\n",
      "I1103 10:15:10.958127 139996587800384 pyramidnet.py:65] block id: 15, filters: 64\n",
      "I1103 10:15:10.961137 139996587800384 pyramidnet.py:65] block id: 15, filters: 64\n",
      "I1103 10:15:15.704205 139996587800384 runner.py:33] pyramidnet model contains 496812 trainable variables.\n",
      "I1103 10:15:15.750883 139996587800384 runner.py:33] pyramidnet model contains 496812 trainable variables.\n",
      "I1103 10:15:15.824969 139996587800384 runner.py:33] pyramidnet model contains 496812 trainable variables.\n"
     ]
    },
    {
     "data": {
      "application/vnd.jupyter.widget-view+json": {
       "model_id": "7820dc461c6b4a9da26f3245e06701a7",
       "version_major": 2,
       "version_minor": 0
      },
      "text/plain": [
       "HBox(children=(IntProgress(value=0, description='train', max=391, style=ProgressStyle(description_width='initi…"
      ]
     },
     "metadata": {},
     "output_type": "display_data"
    },
    {
     "data": {
      "application/vnd.jupyter.widget-view+json": {
       "model_id": "36f24fcf27c04ee6ae8a2b16c34588e9",
       "version_major": 2,
       "version_minor": 0
      },
      "text/plain": [
       "HBox(children=(IntProgress(value=0, description='valid', max=79, style=ProgressStyle(description_width='initia…"
      ]
     },
     "metadata": {},
     "output_type": "display_data"
    },
    {
     "data": {
      "application/vnd.jupyter.widget-view+json": {
       "model_id": "2aa1b457fd54446b9bd660500717a9b7",
       "version_major": 2,
       "version_minor": 0
      },
      "text/plain": [
       "HBox(children=(IntProgress(value=0, description='train', max=391, style=ProgressStyle(description_width='initi…"
      ]
     },
     "metadata": {},
     "output_type": "display_data"
    },
    {
     "data": {
      "application/vnd.jupyter.widget-view+json": {
       "model_id": "f73f8001ed3543df85ff30d5859e3932",
       "version_major": 2,
       "version_minor": 0
      },
      "text/plain": [
       "HBox(children=(IntProgress(value=0, description='valid', max=79, style=ProgressStyle(description_width='initia…"
      ]
     },
     "metadata": {},
     "output_type": "display_data"
    },
    {
     "data": {
      "application/vnd.jupyter.widget-view+json": {
       "model_id": "0ae3ceb03c3941c7b2afe598acb7d4d0",
       "version_major": 2,
       "version_minor": 0
      },
      "text/plain": [
       "HBox(children=(IntProgress(value=0, description='train', max=391, style=ProgressStyle(description_width='initi…"
      ]
     },
     "metadata": {},
     "output_type": "display_data"
    },
    {
     "data": {
      "application/vnd.jupyter.widget-view+json": {
       "model_id": "ad0503bd48034db1bdb5bd0d24e3a8b1",
       "version_major": 2,
       "version_minor": 0
      },
      "text/plain": [
       "HBox(children=(IntProgress(value=0, description='valid', max=79, style=ProgressStyle(description_width='initia…"
      ]
     },
     "metadata": {},
     "output_type": "display_data"
    },
    {
     "name": "stderr",
     "output_type": "stream",
     "text": [
      "I1103 10:16:05.419890 139996587800384 metrics_manager.py:55] Best Performance at acc: 0.0880\n",
      "epoch: 1  train_loss: 2.5164  train_acc: 0.0912  valid_loss: 2.5242  valid_acc: 0.0880  samples/sec: 1355.8385\n",
      "\n",
      "I1103 10:16:05.430854 139996587800384 metrics_manager.py:55] Best Performance at acc: 0.1035\n",
      "epoch: 1  train_loss: 2.4073  train_acc: 0.0971  valid_loss: 2.4040  valid_acc: 0.1035  samples/sec: 1352.5633\n",
      "\n",
      "I1103 10:16:05.534864 139996587800384 metrics_manager.py:55] Best Performance at acc: 0.1115\n",
      "epoch: 1  train_loss: 2.4494  train_acc: 0.1107  valid_loss: 2.4503  valid_acc: 0.1115  samples/sec: 1397.8453\n",
      "\n"
     ]
    },
    {
     "data": {
      "text/plain": [
       "[[{'epochs': 1, 'lr': 0.01}, None],\n",
       " [{'epochs': 1, 'lr': 0.001}, None],\n",
       " [{'epochs': 1, 'lr': 0.0001}, None]]"
      ]
     },
     "execution_count": 6,
     "metadata": {},
     "output_type": "execute_result"
    }
   ],
   "source": [
    "tf_rlib.utils.set_logging('DEBUG')\n",
    "hpt = HParamTuner(ClassificationRunner, ['0','1','2','3'], tf_rlib.datasets.get_cifar10)\n",
    "hpt(epochs=[1,], lr=[1e-2, 1e-3, 1e-4])"
   ]
  },
  {
   "cell_type": "code",
   "execution_count": 7,
   "metadata": {},
   "outputs": [
    {
     "data": {
      "text/plain": [
       "[[{'epochs': 1, 'lr': 0.01}, None],\n",
       " [{'epochs': 1, 'lr': 0.001}, None],\n",
       " [{'epochs': 1, 'lr': 0.0001}, None]]"
      ]
     },
     "execution_count": 7,
     "metadata": {},
     "output_type": "execute_result"
    }
   ],
   "source": [
    "tf_rlib.utils.set_logging('WARNING')\n",
    "hpt = HParamTuner(ClassificationRunner, ['0','1','2','3'], tf_rlib.datasets.get_cifar10)\n",
    "hpt(epochs=[1,], lr=[1e-2, 1e-3, 1e-4])"
   ]
  },
  {
   "cell_type": "code",
   "execution_count": null,
   "metadata": {},
   "outputs": [],
   "source": [
    "hpt(epochs=[100, 200, 300], lr=[1e-2, 1e-3, 1e-4])"
   ]
  },
  {
   "cell_type": "code",
   "execution_count": null,
   "metadata": {},
   "outputs": [],
   "source": []
  }
 ],
 "metadata": {
  "kernelspec": {
   "display_name": "Python 3",
   "language": "python",
   "name": "python3"
  },
  "language_info": {
   "codemirror_mode": {
    "name": "ipython",
    "version": 3
   },
   "file_extension": ".py",
   "mimetype": "text/x-python",
   "name": "python",
   "nbconvert_exporter": "python",
   "pygments_lexer": "ipython3",
   "version": "3.6.8"
  }
 },
 "nbformat": 4,
 "nbformat_minor": 4
}
