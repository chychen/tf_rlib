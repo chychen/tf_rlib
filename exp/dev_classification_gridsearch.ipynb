{
 "cells": [
  {
   "cell_type": "code",
   "execution_count": 1,
   "metadata": {},
   "outputs": [
    {
     "name": "stderr",
     "output_type": "stream",
     "text": [
      "I1107 10:57:28.816087 139707188270912 __init__.py:105] init flags\n",
      "I1107 10:57:28.859336 139707188270912 __init__.py:127] FLAGS: --logtostderr=False\n",
      "I1107 10:57:28.860183 139707188270912 __init__.py:127] FLAGS: --alsologtostderr=False\n",
      "I1107 10:57:28.861360 139707188270912 __init__.py:127] FLAGS: --log_dir=\n",
      "I1107 10:57:28.862357 139707188270912 __init__.py:127] FLAGS: --v=0\n",
      "I1107 10:57:28.863372 139707188270912 __init__.py:127] FLAGS: --verbosity=0\n",
      "I1107 10:57:28.864289 139707188270912 __init__.py:127] FLAGS: --stderrthreshold=fatal\n",
      "I1107 10:57:28.865056 139707188270912 __init__.py:127] FLAGS: --showprefixforinfo=True\n",
      "I1107 10:57:28.865813 139707188270912 __init__.py:127] FLAGS: --run_with_pdb=False\n",
      "I1107 10:57:28.867136 139707188270912 __init__.py:127] FLAGS: --pdb_post_mortem=False\n",
      "I1107 10:57:28.868208 139707188270912 __init__.py:127] FLAGS: --run_with_profiling=False\n",
      "I1107 10:57:28.869090 139707188270912 __init__.py:127] FLAGS: --profile_file=None\n",
      "I1107 10:57:28.869813 139707188270912 __init__.py:127] FLAGS: --use_cprofile_for_profiling=True\n",
      "I1107 10:57:28.870659 139707188270912 __init__.py:127] FLAGS: --only_check_args=False\n",
      "I1107 10:57:28.871394 139707188270912 __init__.py:127] FLAGS: --op_conversion_fallback_to_while_loop=False\n",
      "I1107 10:57:28.872307 139707188270912 __init__.py:127] FLAGS: --test_random_seed=301\n",
      "I1107 10:57:28.873059 139707188270912 __init__.py:127] FLAGS: --test_srcdir=\n",
      "I1107 10:57:28.874034 139707188270912 __init__.py:127] FLAGS: --test_tmpdir=/tmp/absl_testing\n",
      "I1107 10:57:28.874786 139707188270912 __init__.py:127] FLAGS: --test_randomize_ordering_seed=None\n",
      "I1107 10:57:28.875860 139707188270912 __init__.py:127] FLAGS: --xml_output_file=\n",
      "I1107 10:57:28.876665 139707188270912 __init__.py:127] FLAGS: --log_level=INFO\n",
      "I1107 10:57:28.877434 139707188270912 __init__.py:127] FLAGS: --profile=False\n",
      "I1107 10:57:28.878137 139707188270912 __init__.py:127] FLAGS: --purge_logs=False\n",
      "I1107 10:57:28.878896 139707188270912 __init__.py:127] FLAGS: --local_path=/results\n",
      "I1107 10:57:28.879823 139707188270912 __init__.py:127] FLAGS: --log_path=/results/default/20191107-185728/log\n",
      "I1107 10:57:28.880585 139707188270912 __init__.py:127] FLAGS: --save_path=/results/default/20191107-185728/ckpt\n",
      "I1107 10:57:28.881368 139707188270912 __init__.py:127] FLAGS: --exp_name=default\n",
      "I1107 10:57:28.882083 139707188270912 __init__.py:127] FLAGS: --comment=None\n",
      "I1107 10:57:28.882833 139707188270912 __init__.py:127] FLAGS: --benchmark_runner=None\n",
      "I1107 10:57:28.883815 139707188270912 __init__.py:127] FLAGS: --gpus=0,1,2,3,4,5,6,7\n",
      "I1107 10:57:28.884724 139707188270912 __init__.py:127] FLAGS: --amp=False\n",
      "I1107 10:57:28.885686 139707188270912 __init__.py:127] FLAGS: --out_dim=10\n",
      "I1107 10:57:28.886564 139707188270912 __init__.py:127] FLAGS: --dim=2\n",
      "I1107 10:57:28.887362 139707188270912 __init__.py:127] FLAGS: --lr=0.004\n",
      "I1107 10:57:28.888172 139707188270912 __init__.py:127] FLAGS: --epochs=300\n",
      "I1107 10:57:28.888943 139707188270912 __init__.py:127] FLAGS: --warmup=5\n",
      "I1107 10:57:28.889698 139707188270912 __init__.py:127] FLAGS: --bs=512\n",
      "I1107 10:57:28.890572 139707188270912 __init__.py:127] FLAGS: --adam_beta_1=0.9\n",
      "I1107 10:57:28.891509 139707188270912 __init__.py:127] FLAGS: --adam_beta_2=0.999\n",
      "I1107 10:57:28.892318 139707188270912 __init__.py:127] FLAGS: --adam_epsilon=1e-08\n",
      "I1107 10:57:28.893152 139707188270912 __init__.py:127] FLAGS: --l1=0.0\n",
      "I1107 10:57:28.893964 139707188270912 __init__.py:127] FLAGS: --l2=0.0001\n",
      "I1107 10:57:28.894661 139707188270912 __init__.py:127] FLAGS: --kernel_initializer=he_normal\n",
      "I1107 10:57:28.895454 139707188270912 __init__.py:127] FLAGS: --bias_initializer=zeros\n",
      "I1107 10:57:28.896182 139707188270912 __init__.py:127] FLAGS: --padding=same\n",
      "I1107 10:57:28.897288 139707188270912 __init__.py:127] FLAGS: --conv_act=ReLU\n",
      "I1107 10:57:28.898064 139707188270912 __init__.py:127] FLAGS: --conv_norm=BatchNormalization\n",
      "I1107 10:57:28.898814 139707188270912 __init__.py:127] FLAGS: --bn_momentum=0.9\n",
      "I1107 10:57:28.899645 139707188270912 __init__.py:127] FLAGS: --bn_epsilon=1e-05\n",
      "I1107 10:57:28.900586 139707188270912 __init__.py:127] FLAGS: --conv_pooling=AveragePooling\n",
      "I1107 10:57:28.901568 139707188270912 __init__.py:127] FLAGS: --global_pooling=GlobalAveragePooling\n",
      "I1107 10:57:28.902338 139707188270912 __init__.py:127] FLAGS: --model_alpha=200\n",
      "I1107 10:57:28.903051 139707188270912 __init__.py:127] FLAGS: --depth=None\n",
      "I1107 10:57:28.903892 139707188270912 __init__.py:127] FLAGS: --bottleneck=None\n",
      "I1107 10:57:28.904658 139707188270912 __init__.py:127] FLAGS: --filters_mode=small\n",
      "I1107 10:57:28.905506 139707188270912 __init__.py:127] FLAGS: --?=False\n",
      "I1107 10:57:28.906313 139707188270912 __init__.py:127] FLAGS: --help=False\n",
      "I1107 10:57:28.907052 139707188270912 __init__.py:127] FLAGS: --helpshort=False\n",
      "I1107 10:57:28.907858 139707188270912 __init__.py:127] FLAGS: --helpfull=False\n",
      "I1107 10:57:28.908711 139707188270912 __init__.py:127] FLAGS: --helpxml=False\n"
     ]
    }
   ],
   "source": [
    "import sys\n",
    "sys.path.append('..')\n",
    "import tf_rlib\n",
    "from tf_rlib.runners import ClassificationRunner\n",
    "from tf_rlib.utils import HParamTuner\n",
    "import os"
   ]
  },
  {
   "cell_type": "code",
   "execution_count": 2,
   "metadata": {},
   "outputs": [],
   "source": [
    "FLAGS = tf_rlib.FLAGS\n",
    "FLAGS.depth=32\n",
    "FLAGS.model_alpha=48\n",
    "FLAGS.bottleneck=False\n",
    "tf_rlib.utils.set_logging('INFO')"
   ]
  },
  {
   "cell_type": "code",
   "execution_count": null,
   "metadata": {},
   "outputs": [],
   "source": [
    "hpt = HParamTuner(ClassificationRunner, ['0','1','2','3'], tf_rlib.datasets.get_cifar10)\n",
    "hpt(epochs=[5,], lr=[1e-2, 1e-3, 1e-4], bs=[128, 256], l2=[1e-4, 1e-3])"
   ]
  },
  {
   "cell_type": "code",
   "execution_count": null,
   "metadata": {},
   "outputs": [],
   "source": [
    "tf_rlib.utils.set_logging('INFO')\n",
    "hpt = HParamTuner(ClassificationRunner, ['0','1','2','3'], tf_rlib.datasets.get_cifar10)\n",
    "hpt(epochs=[1,], lr=[1e-2, 1e-3, 1e-4])"
   ]
  },
  {
   "cell_type": "code",
   "execution_count": null,
   "metadata": {},
   "outputs": [],
   "source": [
    "tf_rlib.utils.set_logging('WARNING')\n",
    "hpt = HParamTuner(ClassificationRunner, ['0','1','2','3'], tf_rlib.datasets.get_cifar10)\n",
    "hpt(epochs=[1,], lr=[1e-2, 1e-3, 1e-4])"
   ]
  },
  {
   "cell_type": "code",
   "execution_count": null,
   "metadata": {},
   "outputs": [],
   "source": [
    "hpt(epochs=[100, 200, 300], lr=[1e-2, 1e-3, 1e-4])"
   ]
  },
  {
   "cell_type": "code",
   "execution_count": null,
   "metadata": {},
   "outputs": [],
   "source": []
  }
 ],
 "metadata": {
  "kernelspec": {
   "display_name": "Python 3",
   "language": "python",
   "name": "python3"
  },
  "language_info": {
   "codemirror_mode": {
    "name": "ipython",
    "version": 3
   },
   "file_extension": ".py",
   "mimetype": "text/x-python",
   "name": "python",
   "nbconvert_exporter": "python",
   "pygments_lexer": "ipython3",
   "version": "3.6.8"
  }
 },
 "nbformat": 4,
 "nbformat_minor": 4
}
