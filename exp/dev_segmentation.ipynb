{
 "cells": [
  {
   "cell_type": "code",
   "execution_count": 1,
   "metadata": {},
   "outputs": [
    {
     "name": "stderr",
     "output_type": "stream",
     "text": [
      "I1121 09:24:29.610297 139793649887040 __init__.py:114] init flags\n"
     ]
    }
   ],
   "source": [
    "import sys\n",
    "sys.path.append('..')\n",
    "import tf_rlib\n",
    "from tf_rlib.runners import SegmentationRunner\n",
    "FLAGS = tf_rlib.FLAGS"
   ]
  },
  {
   "cell_type": "code",
   "execution_count": 2,
   "metadata": {
    "scrolled": true
   },
   "outputs": [
    {
     "name": "stderr",
     "output_type": "stream",
     "text": [
      "W1121 09:24:40.254818 139793649887040 tools.py:12] purged all logs under :/results\n",
      "W1121 09:24:40.255994 139793649887040 tools.py:23] update CUDA_VISIBLE_DEVICES=0\n",
      "I1121 09:24:43.799897 139793649887040 tf_datasets.py:66] mean:[0.14852086 0.13537924 0.17429093 0.47761193], std:[0.24763672 0.231558   0.27477    0.48867777]\n",
      "I1121 09:24:43.801408 139793649887040 tf_datasets.py:67] data size:(536, 256, 256, 4), label size\"(536, 256, 256, 2)\n",
      "I1121 09:24:45.053340 139793649887040 tools.py:88] FLAGS: --logtostderr=False\n",
      "I1121 09:24:45.054908 139793649887040 tools.py:88] FLAGS: --alsologtostderr=False\n",
      "I1121 09:24:45.056084 139793649887040 tools.py:88] FLAGS: --log_dir=\n",
      "I1121 09:24:45.057121 139793649887040 tools.py:88] FLAGS: --v=0\n",
      "I1121 09:24:45.058613 139793649887040 tools.py:88] FLAGS: --verbosity=0\n",
      "I1121 09:24:45.059890 139793649887040 tools.py:88] FLAGS: --stderrthreshold=fatal\n",
      "I1121 09:24:45.061068 139793649887040 tools.py:88] FLAGS: --showprefixforinfo=True\n",
      "I1121 09:24:45.062210 139793649887040 tools.py:88] FLAGS: --run_with_pdb=False\n",
      "I1121 09:24:45.063280 139793649887040 tools.py:88] FLAGS: --pdb_post_mortem=False\n",
      "I1121 09:24:45.064386 139793649887040 tools.py:88] FLAGS: --run_with_profiling=False\n",
      "I1121 09:24:45.065451 139793649887040 tools.py:88] FLAGS: --profile_file=None\n",
      "I1121 09:24:45.066583 139793649887040 tools.py:88] FLAGS: --use_cprofile_for_profiling=True\n",
      "I1121 09:24:45.067697 139793649887040 tools.py:88] FLAGS: --only_check_args=False\n",
      "I1121 09:24:45.068798 139793649887040 tools.py:88] FLAGS: --op_conversion_fallback_to_while_loop=False\n",
      "I1121 09:24:45.069948 139793649887040 tools.py:88] FLAGS: --test_random_seed=301\n",
      "I1121 09:24:45.071022 139793649887040 tools.py:88] FLAGS: --test_srcdir=\n",
      "I1121 09:24:45.072029 139793649887040 tools.py:88] FLAGS: --test_tmpdir=/tmp/absl_testing\n",
      "I1121 09:24:45.073132 139793649887040 tools.py:88] FLAGS: --test_randomize_ordering_seed=None\n",
      "I1121 09:24:45.074170 139793649887040 tools.py:88] FLAGS: --xml_output_file=\n",
      "I1121 09:24:45.075242 139793649887040 tools.py:88] FLAGS: --log_level=DEBUG\n",
      "I1121 09:24:45.076271 139793649887040 tools.py:88] FLAGS: --profile=False\n",
      "I1121 09:24:45.077179 139793649887040 tools.py:88] FLAGS: --purge_logs=False\n",
      "I1121 09:24:45.078381 139793649887040 tools.py:88] FLAGS: --current_time=20191121-172429\n",
      "I1121 09:24:45.079454 139793649887040 tools.py:88] FLAGS: --local_path=/results\n",
      "I1121 09:24:45.080421 139793649887040 tools.py:88] FLAGS: --log_path=/results/default/20191121-172429/log\n",
      "I1121 09:24:45.081542 139793649887040 tools.py:88] FLAGS: --path_postfix=\n",
      "I1121 09:24:45.082636 139793649887040 tools.py:88] FLAGS: --save_path=/results/default/20191121-172429/ckpt\n",
      "I1121 09:24:45.083844 139793649887040 tools.py:88] FLAGS: --exp_name=default\n",
      "I1121 09:24:45.084783 139793649887040 tools.py:88] FLAGS: --comment=None\n",
      "I1121 09:24:45.085878 139793649887040 tools.py:88] FLAGS: --benchmark_runner=None\n",
      "I1121 09:24:45.086821 139793649887040 tools.py:88] FLAGS: --gpus=0\n",
      "I1121 09:24:45.088434 139793649887040 tools.py:88] FLAGS: --amp=False\n",
      "I1121 09:24:45.089491 139793649887040 tools.py:88] FLAGS: --xla=False\n",
      "I1121 09:24:45.090595 139793649887040 tools.py:88] FLAGS: --out_dim=2\n",
      "I1121 09:24:45.091657 139793649887040 tools.py:88] FLAGS: --dim=2\n",
      "I1121 09:24:45.092702 139793649887040 tools.py:88] FLAGS: --lr=0.0001\n",
      "I1121 09:24:45.093721 139793649887040 tools.py:88] FLAGS: --epochs=300\n",
      "I1121 09:24:45.094765 139793649887040 tools.py:88] FLAGS: --warmup=5\n",
      "I1121 09:24:45.095752 139793649887040 tools.py:88] FLAGS: --bs=32\n",
      "I1121 09:24:45.096736 139793649887040 tools.py:88] FLAGS: --adam_beta_1=0.9\n",
      "I1121 09:24:45.097963 139793649887040 tools.py:88] FLAGS: --adam_beta_2=0.999\n",
      "I1121 09:24:45.099110 139793649887040 tools.py:88] FLAGS: --adam_epsilon=1e-08\n",
      "I1121 09:24:45.100195 139793649887040 tools.py:88] FLAGS: --l1=0.0\n",
      "I1121 09:24:45.101333 139793649887040 tools.py:88] FLAGS: --l2=0.0\n",
      "I1121 09:24:45.102450 139793649887040 tools.py:88] FLAGS: --wd=0.0\n",
      "I1121 09:24:45.103536 139793649887040 tools.py:88] FLAGS: --kernel_initializer=he_normal\n",
      "I1121 09:24:45.104532 139793649887040 tools.py:88] FLAGS: --bias_initializer=zeros\n",
      "I1121 09:24:45.105611 139793649887040 tools.py:88] FLAGS: --padding=same\n",
      "I1121 09:24:45.106762 139793649887040 tools.py:88] FLAGS: --conv_act=ReLU\n",
      "I1121 09:24:45.107701 139793649887040 tools.py:88] FLAGS: --conv_norm=BatchNormalization\n",
      "I1121 09:24:45.108855 139793649887040 tools.py:88] FLAGS: --bn_momentum=0.9\n",
      "I1121 09:24:45.110107 139793649887040 tools.py:88] FLAGS: --bn_epsilon=1e-05\n",
      "I1121 09:24:45.111613 139793649887040 tools.py:88] FLAGS: --conv_pooling=AveragePooling\n",
      "I1121 09:24:45.112850 139793649887040 tools.py:88] FLAGS: --global_pooling=GlobalAveragePooling\n",
      "I1121 09:24:45.113941 139793649887040 tools.py:88] FLAGS: --model_alpha=200\n",
      "I1121 09:24:45.115202 139793649887040 tools.py:88] FLAGS: --depth=None\n",
      "I1121 09:24:45.116300 139793649887040 tools.py:88] FLAGS: --bottleneck=True\n",
      "I1121 09:24:45.117402 139793649887040 tools.py:88] FLAGS: --filters_mode=small\n",
      "I1121 09:24:45.118660 139793649887040 tools.py:88] FLAGS: --?=False\n",
      "I1121 09:24:45.119761 139793649887040 tools.py:88] FLAGS: --help=False\n",
      "I1121 09:24:45.120806 139793649887040 tools.py:88] FLAGS: --helpshort=False\n",
      "I1121 09:24:45.121853 139793649887040 tools.py:88] FLAGS: --helpfull=False\n",
      "I1121 09:24:45.122896 139793649887040 tools.py:88] FLAGS: --helpxml=False\n",
      "W1121 09:24:45.124027 139793649887040 tools.py:90] enable --xla=True is recommended for ~10% speedup.\n",
      "I1121 09:24:45.145529 139793649887040 runner.py:32] Number of devices: 1\n",
      "I1121 09:24:50.765809 139793649887040 runner.py:53] unet model contains 8644546 trainable variables.\n"
     ]
    }
   ],
   "source": [
    "tf_rlib.utils.purge_logs()\n",
    "tf_rlib.utils.set_gpus('0')\n",
    "tf_rlib.utils.set_logging('DEBUG')\n",
    "\n",
    "FLAGS.lr = 1e-4\n",
    "FLAGS.dim = 2\n",
    "FLAGS.out_dim = 2\n",
    "FLAGS.bs = 32\n",
    "\n",
    "FLAGS.bottleneck=True\n",
    "\n",
    "datasets = tf_rlib.datasets.get_cell()\n",
    "runner = SegmentationRunner(*datasets)"
   ]
  },
  {
   "cell_type": "code",
   "execution_count": 3,
   "metadata": {},
   "outputs": [
    {
     "data": {
      "application/vnd.jupyter.widget-view+json": {
       "model_id": "4450df21758d4abc9bfb099a2d6883b0",
       "version_major": 2,
       "version_minor": 0
      },
      "text/plain": [
       "HBox(children=(IntProgress(value=1, bar_style='info', description='train', max=1, style=ProgressStyle(descript…"
      ]
     },
     "metadata": {},
     "output_type": "display_data"
    },
    {
     "data": {
      "application/vnd.jupyter.widget-view+json": {
       "model_id": "283a59b97d2f490cb1078172d73b3b25",
       "version_major": 2,
       "version_minor": 0
      },
      "text/plain": [
       "HBox(children=(IntProgress(value=1, bar_style='info', description='valid', max=1, style=ProgressStyle(descript…"
      ]
     },
     "metadata": {},
     "output_type": "display_data"
    },
    {
     "name": "stderr",
     "output_type": "stream",
     "text": [
      "W1121 09:25:18.920562 139793649887040 runner.py:183] time cost for first epoch: 28.095160245895386 sec\n",
      "I1121 09:25:18.939851 139793649887040 metrics_manager.py:78] Best Performance at dice_coef: 0.6412\n",
      "epoch: 1  train_loss: 2.9050  train_dice_coef: 0.6095  valid_loss: 1.7458  valid_dice_coef: 0.6412  samples/sec: 23.9382\n",
      "\n",
      "I1121 09:25:28.241978 139793649887040 metrics_manager.py:78] Best Performance at dice_coef: 0.8395\n",
      "epoch: 2  train_loss: 2.4543  train_dice_coef: 0.7558  valid_loss: 0.5928  valid_dice_coef: 0.8395  samples/sec: 72.5512\n",
      "\n",
      "I1121 09:25:37.402541 139793649887040 metrics_manager.py:78] Best Performance at dice_coef: 0.8613\n",
      "epoch: 3  train_loss: 0.6845  train_dice_coef: 0.8385  valid_loss: 0.3728  valid_dice_coef: 0.8613  samples/sec: 73.6732\n",
      "\n",
      "I1121 09:25:46.731774 139793649887040 metrics_manager.py:78] Best Performance at dice_coef: 0.8778\n",
      "epoch: 4  train_loss: 0.3970  train_dice_coef: 0.8712  valid_loss: 0.2733  valid_dice_coef: 0.8778  samples/sec: 72.3602\n",
      "\n",
      "I1121 09:25:56.118783 139793649887040 metrics_manager.py:78] Best Performance at dice_coef: 0.8815\n",
      "epoch: 5  train_loss: 0.3171  train_dice_coef: 0.8763  valid_loss: 0.2222  valid_dice_coef: 0.8815  samples/sec: 71.8983\n",
      "\n",
      "I1121 09:26:05.683291 139793649887040 metrics_manager.py:78] Best Performance at dice_coef: 0.8830\n",
      "epoch: 6  train_loss: 0.2662  train_dice_coef: 0.8797  valid_loss: 0.2009  valid_dice_coef: 0.8830  samples/sec: 70.5732\n",
      "\n",
      "I1121 09:26:19.128599 139793649887040 metrics_manager.py:78] Best Performance at dice_coef: 0.8843\n",
      "epoch: 7  train_loss: 0.2433  train_dice_coef: 0.8807  valid_loss: 0.1771  valid_dice_coef: 0.8843  samples/sec: 50.1459\n",
      "\n",
      "I1121 09:26:28.443759 139793649887040 metrics_manager.py:78] Best Performance at dice_coef: 0.8848\n",
      "epoch: 8  train_loss: 0.2377  train_dice_coef: 0.8808  valid_loss: 0.1668  valid_dice_coef: 0.8848  samples/sec: 72.4909\n",
      "\n",
      "I1121 09:26:37.763807 139793649887040 metrics_manager.py:78] Best Performance at dice_coef: 0.8857\n",
      "epoch: 9  train_loss: 0.2099  train_dice_coef: 0.8828  valid_loss: 0.1600  valid_dice_coef: 0.8857  samples/sec: 72.4548\n",
      "\n",
      "I1121 09:26:47.057167 139793649887040 metrics_manager.py:78] Best Performance at dice_coef: 0.8860\n",
      "epoch: 10  train_loss: 0.2103  train_dice_coef: 0.8823  valid_loss: 0.1541  valid_dice_coef: 0.8860  samples/sec: 72.6288\n",
      "\n",
      "I1121 09:26:58.869754 139793649887040 metrics_manager.py:78] Best Performance at dice_coef: 0.8867\n",
      "epoch: 11  train_loss: 0.1934  train_dice_coef: 0.8844  valid_loss: 0.1457  valid_dice_coef: 0.8867  samples/sec: 57.0940\n",
      "\n",
      "I1121 09:27:08.178234 139793649887040 metrics_manager.py:78] Best Performance at dice_coef: 0.8871\n",
      "epoch: 12  train_loss: 0.1846  train_dice_coef: 0.8847  valid_loss: 0.1415  valid_dice_coef: 0.8871  samples/sec: 72.5154\n",
      "\n",
      "I1121 09:27:17.494030 139793649887040 metrics_manager.py:78] Best Performance at dice_coef: 0.8874\n",
      "epoch: 13  train_loss: 0.1801  train_dice_coef: 0.8852  valid_loss: 0.1382  valid_dice_coef: 0.8874  samples/sec: 72.4587\n",
      "\n",
      "I1121 09:27:25.445377 139793649887040 metrics_manager.py:78] \n",
      "epoch: 14  train_loss: 0.1808  train_dice_coef: 0.8849  valid_loss: 0.1376  valid_dice_coef: 0.8874  samples/sec: 84.9592\n",
      "\n",
      "I1121 09:27:38.767298 139793649887040 metrics_manager.py:78] Best Performance at dice_coef: 0.8877\n",
      "epoch: 15  train_loss: 0.1796  train_dice_coef: 0.8849  valid_loss: 0.1341  valid_dice_coef: 0.8877  samples/sec: 50.5972\n",
      "\n",
      "I1121 09:27:48.057812 139793649887040 metrics_manager.py:78] Best Performance at dice_coef: 0.8879\n",
      "epoch: 16  train_loss: 0.1715  train_dice_coef: 0.8858  valid_loss: 0.1320  valid_dice_coef: 0.8879  samples/sec: 72.6500\n",
      "\n",
      "I1121 09:27:57.236586 139793649887040 metrics_manager.py:78] Best Performance at dice_coef: 0.8879\n",
      "epoch: 17  train_loss: 0.1783  train_dice_coef: 0.8848  valid_loss: 0.1310  valid_dice_coef: 0.8879  samples/sec: 73.5293\n",
      "\n",
      "I1121 09:28:05.196638 139793649887040 metrics_manager.py:78] \n",
      "epoch: 18  train_loss: 0.1693  train_dice_coef: 0.8859  valid_loss: 0.1325  valid_dice_coef: 0.8879  samples/sec: 84.8496\n",
      "\n",
      "I1121 09:28:13.200798 139793649887040 metrics_manager.py:78] \n",
      "epoch: 19  train_loss: 0.1741  train_dice_coef: 0.8852  valid_loss: 0.1314  valid_dice_coef: 0.8879  samples/sec: 84.3999\n",
      "\n",
      "I1121 09:28:23.765994 139793649887040 metrics_manager.py:78] Best Performance at dice_coef: 0.8880\n",
      "epoch: 20  train_loss: 0.1710  train_dice_coef: 0.8856  valid_loss: 0.1299  valid_dice_coef: 0.8880  samples/sec: 63.8486\n",
      "\n"
     ]
    }
   ],
   "source": [
    "runner.fit(20, lr=FLAGS.lr)"
   ]
  },
  {
   "cell_type": "code",
   "execution_count": null,
   "metadata": {},
   "outputs": [],
   "source": []
  }
 ],
 "metadata": {
  "kernelspec": {
   "display_name": "Python 3",
   "language": "python",
   "name": "python3"
  },
  "language_info": {
   "codemirror_mode": {
    "name": "ipython",
    "version": 3
   },
   "file_extension": ".py",
   "mimetype": "text/x-python",
   "name": "python",
   "nbconvert_exporter": "python",
   "pygments_lexer": "ipython3",
   "version": "3.6.8"
  }
 },
 "nbformat": 4,
 "nbformat_minor": 4
}
