{
 "cells": [
  {
   "cell_type": "code",
   "execution_count": 1,
   "metadata": {},
   "outputs": [
    {
     "name": "stderr",
     "output_type": "stream",
     "text": [
      "I0114 11:33:48.872619 139709378533184 __init__.py:141] init flags\n"
     ]
    }
   ],
   "source": [
    "import sys\n",
    "sys.path.append('..')\n",
    "import tf_rlib\n",
    "from tf_rlib.runners import SegmentationRunner\n",
    "FLAGS = tf_rlib.FLAGS"
   ]
  },
  {
   "cell_type": "code",
   "execution_count": null,
   "metadata": {
    "scrolled": true
   },
   "outputs": [],
   "source": [
    "tf_rlib.utils.purge_logs()\n",
    "tf_rlib.utils.set_gpus('0')\n",
    "tf_rlib.utils.set_logging('DEBUG')\n",
    "\n",
    "FLAGS.lr = 1e-4\n",
    "FLAGS.dim = 2\n",
    "FLAGS.out_dim = 2\n",
    "FLAGS.bs = 32\n",
    "FLAGS.epochs = 20\n",
    "\n",
    "FLAGS.bottleneck=True\n",
    "\n",
    "datasets = tf_rlib.datasets.Cell_segmentation().get_data()\n",
    "runner = SegmentationRunner(*datasets)"
   ]
  },
  {
   "cell_type": "code",
   "execution_count": 3,
   "metadata": {},
   "outputs": [
    {
     "data": {
      "application/vnd.jupyter.widget-view+json": {
       "model_id": "b5d0116ac99b4f1cb871f248a7772626",
       "version_major": 2,
       "version_minor": 0
      },
      "text/plain": [
       "HBox(children=(IntProgress(value=1, bar_style='info', description='train', max=1, style=ProgressStyle(descript…"
      ]
     },
     "metadata": {},
     "output_type": "display_data"
    },
    {
     "data": {
      "application/vnd.jupyter.widget-view+json": {
       "model_id": "a8fd4a26037e415bb08286991112b10d",
       "version_major": 2,
       "version_minor": 0
      },
      "text/plain": [
       "HBox(children=(IntProgress(value=1, bar_style='info', description='valid', max=1, style=ProgressStyle(descript…"
      ]
     },
     "metadata": {},
     "output_type": "display_data"
    },
    {
     "name": "stderr",
     "output_type": "stream",
     "text": [
      "W1121 10:05:19.191913 140523926275904 runner.py:183] time cost for first epoch: 26.076648235321045 sec\n",
      "I1121 10:05:19.212405 140523926275904 metrics_manager.py:78] Best Performance at dice_coef: 0.8243\n",
      "epoch: 1  train_loss: 2.4365  train_dice_coef: 0.7321  valid_loss: 0.8851  valid_dice_coef: 0.8243  samples/sec: 25.7924\n",
      "\n",
      "I1121 10:05:28.609921 140523926275904 metrics_manager.py:78] Best Performance at dice_coef: 0.8509\n",
      "epoch: 2  train_loss: 1.9196  train_dice_coef: 0.7454  valid_loss: 0.5412  valid_dice_coef: 0.8509  samples/sec: 71.8098\n",
      "\n",
      "I1121 10:05:37.922548 140523926275904 metrics_manager.py:78] Best Performance at dice_coef: 0.8739\n",
      "epoch: 3  train_loss: 0.5818  train_dice_coef: 0.8553  valid_loss: 0.2896  valid_dice_coef: 0.8739  samples/sec: 72.4791\n",
      "\n",
      "I1121 10:05:47.086619 140523926275904 metrics_manager.py:78] Best Performance at dice_coef: 0.8812\n",
      "epoch: 4  train_loss: 0.3607  train_dice_coef: 0.8752  valid_loss: 0.2477  valid_dice_coef: 0.8812  samples/sec: 73.6320\n",
      "\n",
      "I1121 10:05:56.300868 140523926275904 metrics_manager.py:78] Best Performance at dice_coef: 0.8840\n",
      "epoch: 5  train_loss: 0.3020  train_dice_coef: 0.8785  valid_loss: 0.1980  valid_dice_coef: 0.8840  samples/sec: 73.2558\n",
      "\n",
      "I1121 10:06:05.487337 140523926275904 metrics_manager.py:78] Best Performance at dice_coef: 0.8858\n",
      "epoch: 6  train_loss: 0.2741  train_dice_coef: 0.8797  valid_loss: 0.1740  valid_dice_coef: 0.8858  samples/sec: 73.4851\n",
      "\n",
      "I1121 10:06:14.669117 140523926275904 metrics_manager.py:78] Best Performance at dice_coef: 0.8864\n",
      "epoch: 7  train_loss: 0.2392  train_dice_coef: 0.8814  valid_loss: 0.1612  valid_dice_coef: 0.8864  samples/sec: 73.5218\n",
      "\n",
      "I1121 10:06:28.038168 140523926275904 metrics_manager.py:78] Best Performance at dice_coef: 0.8866\n",
      "epoch: 8  train_loss: 0.2376  train_dice_coef: 0.8814  valid_loss: 0.1530  valid_dice_coef: 0.8866  samples/sec: 50.4297\n",
      "\n",
      "I1121 10:06:36.023774 140523926275904 metrics_manager.py:78] \n",
      "epoch: 9  train_loss: 0.2061  train_dice_coef: 0.8840  valid_loss: 0.1613  valid_dice_coef: 0.8864  samples/sec: 84.6027\n",
      "\n",
      "I1121 10:06:45.252161 140523926275904 metrics_manager.py:78] Best Performance at dice_coef: 0.8876\n",
      "epoch: 10  train_loss: 0.2116  train_dice_coef: 0.8840  valid_loss: 0.1451  valid_dice_coef: 0.8876  samples/sec: 73.1635\n",
      "\n",
      "I1121 10:06:54.543318 140523926275904 metrics_manager.py:78] Best Performance at dice_coef: 0.8876\n",
      "epoch: 11  train_loss: 0.1946  train_dice_coef: 0.8850  valid_loss: 0.1418  valid_dice_coef: 0.8876  samples/sec: 72.6395\n",
      "\n",
      "I1121 10:07:08.026244 140523926275904 metrics_manager.py:78] Best Performance at dice_coef: 0.8879\n",
      "epoch: 12  train_loss: 0.1843  train_dice_coef: 0.8855  valid_loss: 0.1353  valid_dice_coef: 0.8879  samples/sec: 49.9887\n",
      "\n",
      "I1121 10:07:17.091684 140523926275904 metrics_manager.py:78] Best Performance at dice_coef: 0.8885\n",
      "epoch: 13  train_loss: 0.1704  train_dice_coef: 0.8869  valid_loss: 0.1294  valid_dice_coef: 0.8885  samples/sec: 74.4676\n",
      "\n",
      "I1121 10:07:25.145592 140523926275904 metrics_manager.py:78] \n",
      "epoch: 14  train_loss: 0.1684  train_dice_coef: 0.8868  valid_loss: 0.1298  valid_dice_coef: 0.8883  samples/sec: 83.8630\n",
      "\n",
      "I1121 10:07:34.367042 140523926275904 metrics_manager.py:78] Best Performance at dice_coef: 0.8885\n",
      "epoch: 15  train_loss: 0.1684  train_dice_coef: 0.8865  valid_loss: 0.1289  valid_dice_coef: 0.8885  samples/sec: 73.1909\n",
      "\n",
      "I1121 10:07:48.738201 140523926275904 metrics_manager.py:78] Best Performance at dice_coef: 0.8886\n",
      "epoch: 16  train_loss: 0.1722  train_dice_coef: 0.8858  valid_loss: 0.1262  valid_dice_coef: 0.8886  samples/sec: 46.8862\n",
      "\n",
      "I1121 10:07:57.852618 140523926275904 metrics_manager.py:78] Best Performance at dice_coef: 0.8889\n",
      "epoch: 17  train_loss: 0.1601  train_dice_coef: 0.8875  valid_loss: 0.1246  valid_dice_coef: 0.8889  samples/sec: 74.0328\n",
      "\n",
      "I1121 10:08:05.729893 140523926275904 metrics_manager.py:78] \n",
      "epoch: 18  train_loss: 0.1632  train_dice_coef: 0.8870  valid_loss: 0.1256  valid_dice_coef: 0.8888  samples/sec: 85.7457\n",
      "\n",
      "I1121 10:08:13.716214 140523926275904 metrics_manager.py:78] \n",
      "epoch: 19  train_loss: 0.1692  train_dice_coef: 0.8862  valid_loss: 0.1247  valid_dice_coef: 0.8889  samples/sec: 84.5950\n",
      "\n",
      "I1121 10:08:22.829308 140523926275904 metrics_manager.py:78] Best Performance at dice_coef: 0.8890\n",
      "epoch: 20  train_loss: 0.1586  train_dice_coef: 0.8875  valid_loss: 0.1238  valid_dice_coef: 0.8890  samples/sec: 74.0662\n",
      "\n"
     ]
    }
   ],
   "source": [
    "runner.fit(20, lr=FLAGS.lr)"
   ]
  },
  {
   "cell_type": "code",
   "execution_count": null,
   "metadata": {},
   "outputs": [],
   "source": []
  }
 ],
 "metadata": {
  "kernelspec": {
   "display_name": "Python 3",
   "language": "python",
   "name": "python3"
  },
  "language_info": {
   "codemirror_mode": {
    "name": "ipython",
    "version": 3
   },
   "file_extension": ".py",
   "mimetype": "text/x-python",
   "name": "python",
   "nbconvert_exporter": "python",
   "pygments_lexer": "ipython3",
   "version": "3.6.7"
  }
 },
 "nbformat": 4,
 "nbformat_minor": 4
}
