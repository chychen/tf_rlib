{
 "cells": [
  {
   "cell_type": "code",
   "execution_count": 1,
   "metadata": {},
   "outputs": [
    {
     "name": "stdout",
     "output_type": "stream",
     "text": [
      "Done\n"
     ]
    }
   ],
   "source": [
    "import sys\n",
    "sys.path.append('..')\n",
    "import tensorflow as tf\n",
    "from tensorflow.keras import layers\n",
    "import tf_rlib\n",
    "from absl import app\n",
    "from absl import flags\n",
    "FLAGS = flags.FLAGS"
   ]
  },
  {
   "cell_type": "code",
   "execution_count": 2,
   "metadata": {},
   "outputs": [],
   "source": [
    "# https://github.com/dyhan0920/PyramidNet-PyTorch\n",
    "# FLAGS.depth=110\n",
    "# FLAGS.model_alpha=48\n",
    "# FLAGS.bottleneck=False"
   ]
  },
  {
   "cell_type": "code",
   "execution_count": 3,
   "metadata": {},
   "outputs": [],
   "source": [
    "from tf_rlib.models.pyramidnet import PyramidNet"
   ]
  },
  {
   "cell_type": "code",
   "execution_count": 4,
   "metadata": {},
   "outputs": [
    {
     "name": "stderr",
     "output_type": "stream",
     "text": [
      "I1008 06:41:43.493553 139892138346304 pyramidnet.py:64] block id: 1, filters: 16\n",
      "I1008 06:41:43.503848 139892138346304 pyramidnet.py:64] block id: 2, filters: 17\n",
      "I1008 06:41:43.511357 139892138346304 pyramidnet.py:64] block id: 3, filters: 18\n",
      "I1008 06:41:43.519207 139892138346304 pyramidnet.py:64] block id: 4, filters: 19\n",
      "I1008 06:41:43.527121 139892138346304 pyramidnet.py:64] block id: 5, filters: 20\n",
      "I1008 06:41:43.535074 139892138346304 pyramidnet.py:64] block id: 6, filters: 21\n",
      "I1008 06:41:43.542729 139892138346304 pyramidnet.py:64] block id: 7, filters: 22\n",
      "I1008 06:41:43.551102 139892138346304 pyramidnet.py:64] block id: 8, filters: 23\n",
      "I1008 06:41:43.558491 139892138346304 pyramidnet.py:64] block id: 9, filters: 24\n",
      "I1008 06:41:43.567205 139892138346304 pyramidnet.py:64] block id: 10, filters: 24\n",
      "I1008 06:41:43.677351 139892138346304 pyramidnet.py:64] block id: 11, filters: 25\n",
      "I1008 06:41:43.685238 139892138346304 pyramidnet.py:64] block id: 12, filters: 26\n",
      "I1008 06:41:43.692879 139892138346304 pyramidnet.py:64] block id: 13, filters: 27\n",
      "I1008 06:41:43.701354 139892138346304 pyramidnet.py:64] block id: 14, filters: 28\n",
      "I1008 06:41:43.709994 139892138346304 pyramidnet.py:64] block id: 15, filters: 29\n",
      "I1008 06:41:43.717950 139892138346304 pyramidnet.py:64] block id: 16, filters: 30\n",
      "I1008 06:41:43.726226 139892138346304 pyramidnet.py:64] block id: 17, filters: 31\n",
      "I1008 06:41:43.734012 139892138346304 pyramidnet.py:64] block id: 18, filters: 32\n",
      "I1008 06:41:43.784966 139892138346304 pyramidnet.py:64] block id: 19, filters: 32\n",
      "I1008 06:41:43.795462 139892138346304 pyramidnet.py:64] block id: 20, filters: 33\n",
      "I1008 06:41:43.803653 139892138346304 pyramidnet.py:64] block id: 21, filters: 34\n",
      "I1008 06:41:43.811645 139892138346304 pyramidnet.py:64] block id: 22, filters: 35\n",
      "I1008 06:41:43.820132 139892138346304 pyramidnet.py:64] block id: 23, filters: 36\n",
      "I1008 06:41:43.829514 139892138346304 pyramidnet.py:64] block id: 24, filters: 37\n",
      "I1008 06:41:43.839504 139892138346304 pyramidnet.py:64] block id: 25, filters: 38\n",
      "I1008 06:41:43.847149 139892138346304 pyramidnet.py:64] block id: 26, filters: 39\n",
      "I1008 06:41:43.855442 139892138346304 pyramidnet.py:64] block id: 27, filters: 40\n",
      "I1008 06:41:43.863048 139892138346304 pyramidnet.py:64] block id: 28, filters: 40\n",
      "I1008 06:41:43.870976 139892138346304 pyramidnet.py:64] block id: 29, filters: 41\n",
      "I1008 06:41:43.878699 139892138346304 pyramidnet.py:64] block id: 30, filters: 42\n",
      "I1008 06:41:43.886775 139892138346304 pyramidnet.py:64] block id: 31, filters: 43\n",
      "I1008 06:41:43.896526 139892138346304 pyramidnet.py:64] block id: 32, filters: 44\n",
      "I1008 06:41:43.904076 139892138346304 pyramidnet.py:64] block id: 33, filters: 45\n",
      "I1008 06:41:43.912313 139892138346304 pyramidnet.py:64] block id: 34, filters: 46\n",
      "I1008 06:41:43.921283 139892138346304 pyramidnet.py:64] block id: 35, filters: 47\n",
      "I1008 06:41:43.929038 139892138346304 pyramidnet.py:64] block id: 36, filters: 48\n",
      "I1008 06:41:43.979347 139892138346304 pyramidnet.py:64] block id: 37, filters: 48\n",
      "I1008 06:41:43.988906 139892138346304 pyramidnet.py:64] block id: 38, filters: 49\n",
      "I1008 06:41:43.997368 139892138346304 pyramidnet.py:64] block id: 39, filters: 50\n",
      "I1008 06:41:44.006001 139892138346304 pyramidnet.py:64] block id: 40, filters: 51\n",
      "I1008 06:41:44.015128 139892138346304 pyramidnet.py:64] block id: 41, filters: 52\n",
      "I1008 06:41:44.022747 139892138346304 pyramidnet.py:64] block id: 42, filters: 53\n",
      "I1008 06:41:44.034904 139892138346304 pyramidnet.py:64] block id: 43, filters: 54\n",
      "I1008 06:41:44.043352 139892138346304 pyramidnet.py:64] block id: 44, filters: 55\n",
      "I1008 06:41:44.053643 139892138346304 pyramidnet.py:64] block id: 45, filters: 56\n",
      "I1008 06:41:44.062229 139892138346304 pyramidnet.py:64] block id: 46, filters: 56\n",
      "I1008 06:41:44.071011 139892138346304 pyramidnet.py:64] block id: 47, filters: 57\n",
      "I1008 06:41:44.079790 139892138346304 pyramidnet.py:64] block id: 48, filters: 58\n",
      "I1008 06:41:44.087688 139892138346304 pyramidnet.py:64] block id: 49, filters: 59\n",
      "I1008 06:41:44.096189 139892138346304 pyramidnet.py:64] block id: 50, filters: 60\n",
      "I1008 06:41:44.104612 139892138346304 pyramidnet.py:64] block id: 51, filters: 61\n",
      "I1008 06:41:44.112858 139892138346304 pyramidnet.py:64] block id: 52, filters: 62\n",
      "I1008 06:41:44.120749 139892138346304 pyramidnet.py:64] block id: 53, filters: 63\n",
      "I1008 06:41:44.130664 139892138346304 pyramidnet.py:64] block id: 54, filters: 64\n"
     ]
    }
   ],
   "source": [
    "model = PyramidNet()"
   ]
  },
  {
   "cell_type": "code",
   "execution_count": 5,
   "metadata": {},
   "outputs": [],
   "source": [
    "in_ = tf.keras.Input(shape=[32,32,3])\n",
    "# in_ = tf.keras.Input(shape=[32,100])"
   ]
  },
  {
   "cell_type": "code",
   "execution_count": 6,
   "metadata": {},
   "outputs": [
    {
     "data": {
      "text/plain": [
       "<tf.Tensor 'pyramid_net/Identity:0' shape=(None, 10) dtype=float32>"
      ]
     },
     "execution_count": 6,
     "metadata": {},
     "output_type": "execute_result"
    }
   ],
   "source": [
    "model(in_)"
   ]
  },
  {
   "cell_type": "code",
   "execution_count": 7,
   "metadata": {},
   "outputs": [
    {
     "data": {
      "text/plain": [
       "1739746"
      ]
     },
     "execution_count": 7,
     "metadata": {},
     "output_type": "execute_result"
    }
   ],
   "source": [
    "model.num_params"
   ]
  },
  {
   "cell_type": "code",
   "execution_count": null,
   "metadata": {},
   "outputs": [],
   "source": []
  }
 ],
 "metadata": {
  "kernelspec": {
   "display_name": "Python 3",
   "language": "python",
   "name": "python3"
  },
  "language_info": {
   "codemirror_mode": {
    "name": "ipython",
    "version": 3
   },
   "file_extension": ".py",
   "mimetype": "text/x-python",
   "name": "python",
   "nbconvert_exporter": "python",
   "pygments_lexer": "ipython3",
   "version": "3.6.8"
  }
 },
 "nbformat": 4,
 "nbformat_minor": 4
}
