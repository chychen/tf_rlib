{
 "cells": [
  {
   "cell_type": "code",
   "execution_count": 1,
   "metadata": {},
   "outputs": [
    {
     "name": "stdout",
     "output_type": "stream",
     "text": [
      "Done\n"
     ]
    }
   ],
   "source": [
    "import sys\n",
    "sys.path.append('..')\n",
    "import tensorflow as tf\n",
    "from tensorflow.keras import layers\n",
    "import tf_rlib\n",
    "from absl import app\n",
    "from absl import flags\n",
    "FLAGS = flags.FLAGS"
   ]
  },
  {
   "cell_type": "code",
   "execution_count": 2,
   "metadata": {},
   "outputs": [],
   "source": [
    "# https://github.com/dyhan0920/PyramidNet-PyTorch\n",
    "# FLAGS.depth=110\n",
    "# FLAGS.model_alpha=48\n",
    "# FLAGS.bottleneck=False"
   ]
  },
  {
   "cell_type": "code",
   "execution_count": 3,
   "metadata": {},
   "outputs": [],
   "source": [
    "from tf_rlib.models.pyramidnet import PyramidNet"
   ]
  },
  {
   "cell_type": "code",
   "execution_count": 4,
   "metadata": {},
   "outputs": [
    {
     "name": "stderr",
     "output_type": "stream",
     "text": [
      "I1008 07:06:31.915806 140602847545152 pyramidnet.py:64] block id: 1, filters: 18\n",
      "I1008 07:06:31.930601 140602847545152 pyramidnet.py:64] block id: 2, filters: 20\n",
      "I1008 07:06:31.941351 140602847545152 pyramidnet.py:64] block id: 3, filters: 22\n",
      "I1008 07:06:31.952291 140602847545152 pyramidnet.py:64] block id: 4, filters: 24\n",
      "I1008 07:06:31.963147 140602847545152 pyramidnet.py:64] block id: 5, filters: 27\n",
      "I1008 07:06:31.974396 140602847545152 pyramidnet.py:64] block id: 6, filters: 29\n",
      "I1008 07:06:31.986960 140602847545152 pyramidnet.py:64] block id: 7, filters: 31\n",
      "I1008 07:06:32.074507 140602847545152 pyramidnet.py:64] block id: 8, filters: 33\n",
      "I1008 07:06:32.085427 140602847545152 pyramidnet.py:64] block id: 9, filters: 36\n",
      "I1008 07:06:32.096201 140602847545152 pyramidnet.py:64] block id: 10, filters: 38\n",
      "I1008 07:06:32.108129 140602847545152 pyramidnet.py:64] block id: 11, filters: 40\n",
      "I1008 07:06:32.118806 140602847545152 pyramidnet.py:64] block id: 12, filters: 42\n",
      "I1008 07:06:32.130004 140602847545152 pyramidnet.py:64] block id: 13, filters: 44\n",
      "I1008 07:06:32.142536 140602847545152 pyramidnet.py:64] block id: 14, filters: 47\n",
      "I1008 07:06:32.153395 140602847545152 pyramidnet.py:64] block id: 15, filters: 49\n",
      "I1008 07:06:32.164061 140602847545152 pyramidnet.py:64] block id: 16, filters: 51\n",
      "I1008 07:06:32.177482 140602847545152 pyramidnet.py:64] block id: 17, filters: 53\n",
      "I1008 07:06:32.188560 140602847545152 pyramidnet.py:64] block id: 18, filters: 56\n",
      "I1008 07:06:32.200938 140602847545152 pyramidnet.py:64] block id: 19, filters: 58\n",
      "I1008 07:06:32.211703 140602847545152 pyramidnet.py:64] block id: 20, filters: 60\n",
      "I1008 07:06:32.222754 140602847545152 pyramidnet.py:64] block id: 21, filters: 62\n",
      "I1008 07:06:32.234811 140602847545152 pyramidnet.py:64] block id: 22, filters: 64\n",
      "I1008 07:06:32.245963 140602847545152 pyramidnet.py:64] block id: 23, filters: 67\n",
      "I1008 07:06:32.256381 140602847545152 pyramidnet.py:64] block id: 24, filters: 69\n",
      "I1008 07:06:32.267198 140602847545152 pyramidnet.py:64] block id: 25, filters: 71\n",
      "I1008 07:06:32.279137 140602847545152 pyramidnet.py:64] block id: 26, filters: 73\n",
      "I1008 07:06:32.289940 140602847545152 pyramidnet.py:64] block id: 27, filters: 76\n",
      "I1008 07:06:32.301069 140602847545152 pyramidnet.py:64] block id: 28, filters: 78\n",
      "I1008 07:06:32.312157 140602847545152 pyramidnet.py:64] block id: 29, filters: 80\n",
      "I1008 07:06:32.322853 140602847545152 pyramidnet.py:64] block id: 30, filters: 82\n",
      "I1008 07:06:32.493890 140602847545152 pyramidnet.py:64] block id: 31, filters: 84\n",
      "I1008 07:06:32.507624 140602847545152 pyramidnet.py:64] block id: 32, filters: 87\n",
      "I1008 07:06:32.518308 140602847545152 pyramidnet.py:64] block id: 33, filters: 89\n",
      "I1008 07:06:32.529113 140602847545152 pyramidnet.py:64] block id: 34, filters: 91\n",
      "I1008 07:06:32.540336 140602847545152 pyramidnet.py:64] block id: 35, filters: 93\n",
      "I1008 07:06:32.550966 140602847545152 pyramidnet.py:64] block id: 36, filters: 96\n",
      "I1008 07:06:32.562520 140602847545152 pyramidnet.py:64] block id: 37, filters: 98\n",
      "I1008 07:06:32.572836 140602847545152 pyramidnet.py:64] block id: 38, filters: 100\n",
      "I1008 07:06:32.583546 140602847545152 pyramidnet.py:64] block id: 39, filters: 102\n",
      "I1008 07:06:32.594398 140602847545152 pyramidnet.py:64] block id: 40, filters: 104\n",
      "I1008 07:06:32.605129 140602847545152 pyramidnet.py:64] block id: 41, filters: 107\n",
      "I1008 07:06:32.615649 140602847545152 pyramidnet.py:64] block id: 42, filters: 109\n",
      "I1008 07:06:32.626532 140602847545152 pyramidnet.py:64] block id: 43, filters: 111\n",
      "I1008 07:06:32.640333 140602847545152 pyramidnet.py:64] block id: 44, filters: 113\n",
      "I1008 07:06:32.651494 140602847545152 pyramidnet.py:64] block id: 45, filters: 116\n",
      "I1008 07:06:32.662514 140602847545152 pyramidnet.py:64] block id: 46, filters: 118\n",
      "I1008 07:06:32.673204 140602847545152 pyramidnet.py:64] block id: 47, filters: 120\n",
      "I1008 07:06:32.683633 140602847545152 pyramidnet.py:64] block id: 48, filters: 122\n",
      "I1008 07:06:32.694361 140602847545152 pyramidnet.py:64] block id: 49, filters: 124\n",
      "I1008 07:06:32.705905 140602847545152 pyramidnet.py:64] block id: 50, filters: 127\n",
      "I1008 07:06:32.716498 140602847545152 pyramidnet.py:64] block id: 51, filters: 129\n",
      "I1008 07:06:32.727425 140602847545152 pyramidnet.py:64] block id: 52, filters: 131\n",
      "I1008 07:06:32.740118 140602847545152 pyramidnet.py:64] block id: 53, filters: 133\n",
      "I1008 07:06:32.751217 140602847545152 pyramidnet.py:64] block id: 54, filters: 136\n",
      "I1008 07:06:32.761752 140602847545152 pyramidnet.py:64] block id: 55, filters: 138\n",
      "I1008 07:06:32.772794 140602847545152 pyramidnet.py:64] block id: 56, filters: 140\n",
      "I1008 07:06:32.783391 140602847545152 pyramidnet.py:64] block id: 57, filters: 142\n",
      "I1008 07:06:32.796289 140602847545152 pyramidnet.py:64] block id: 58, filters: 144\n",
      "I1008 07:06:32.807061 140602847545152 pyramidnet.py:64] block id: 59, filters: 147\n",
      "I1008 07:06:32.817819 140602847545152 pyramidnet.py:64] block id: 60, filters: 149\n",
      "I1008 07:06:32.993111 140602847545152 pyramidnet.py:64] block id: 61, filters: 151\n",
      "I1008 07:06:33.012253 140602847545152 pyramidnet.py:64] block id: 62, filters: 153\n",
      "I1008 07:06:33.031485 140602847545152 pyramidnet.py:64] block id: 63, filters: 156\n",
      "I1008 07:06:33.042215 140602847545152 pyramidnet.py:64] block id: 64, filters: 158\n",
      "I1008 07:06:33.052545 140602847545152 pyramidnet.py:64] block id: 65, filters: 160\n",
      "I1008 07:06:33.063055 140602847545152 pyramidnet.py:64] block id: 66, filters: 162\n",
      "I1008 07:06:33.073471 140602847545152 pyramidnet.py:64] block id: 67, filters: 164\n",
      "I1008 07:06:33.084314 140602847545152 pyramidnet.py:64] block id: 68, filters: 167\n",
      "I1008 07:06:33.095573 140602847545152 pyramidnet.py:64] block id: 69, filters: 169\n",
      "I1008 07:06:33.106265 140602847545152 pyramidnet.py:64] block id: 70, filters: 171\n",
      "I1008 07:06:33.118075 140602847545152 pyramidnet.py:64] block id: 71, filters: 173\n",
      "I1008 07:06:33.129406 140602847545152 pyramidnet.py:64] block id: 72, filters: 176\n",
      "I1008 07:06:33.139951 140602847545152 pyramidnet.py:64] block id: 73, filters: 178\n",
      "I1008 07:06:33.150505 140602847545152 pyramidnet.py:64] block id: 74, filters: 180\n",
      "I1008 07:06:33.160618 140602847545152 pyramidnet.py:64] block id: 75, filters: 182\n",
      "I1008 07:06:33.171226 140602847545152 pyramidnet.py:64] block id: 76, filters: 184\n",
      "I1008 07:06:33.181562 140602847545152 pyramidnet.py:64] block id: 77, filters: 187\n",
      "I1008 07:06:33.192013 140602847545152 pyramidnet.py:64] block id: 78, filters: 189\n",
      "I1008 07:06:33.204072 140602847545152 pyramidnet.py:64] block id: 79, filters: 191\n",
      "I1008 07:06:33.214876 140602847545152 pyramidnet.py:64] block id: 80, filters: 193\n",
      "I1008 07:06:33.227632 140602847545152 pyramidnet.py:64] block id: 81, filters: 196\n",
      "I1008 07:06:33.238883 140602847545152 pyramidnet.py:64] block id: 82, filters: 198\n",
      "I1008 07:06:33.249511 140602847545152 pyramidnet.py:64] block id: 83, filters: 200\n",
      "I1008 07:06:33.260748 140602847545152 pyramidnet.py:64] block id: 84, filters: 202\n",
      "I1008 07:06:33.271324 140602847545152 pyramidnet.py:64] block id: 85, filters: 204\n",
      "I1008 07:06:33.282142 140602847545152 pyramidnet.py:64] block id: 86, filters: 207\n",
      "I1008 07:06:33.292880 140602847545152 pyramidnet.py:64] block id: 87, filters: 209\n",
      "I1008 07:06:33.303256 140602847545152 pyramidnet.py:64] block id: 88, filters: 211\n",
      "I1008 07:06:33.316739 140602847545152 pyramidnet.py:64] block id: 89, filters: 213\n",
      "I1008 07:06:33.328882 140602847545152 pyramidnet.py:64] block id: 90, filters: 216\n"
     ]
    }
   ],
   "source": [
    "model = PyramidNet()"
   ]
  },
  {
   "cell_type": "code",
   "execution_count": 5,
   "metadata": {},
   "outputs": [],
   "source": [
    "in_ = tf.keras.Input(shape=[32,32,3])\n",
    "# in_ = tf.keras.Input(shape=[32,100])"
   ]
  },
  {
   "cell_type": "code",
   "execution_count": 6,
   "metadata": {},
   "outputs": [
    {
     "data": {
      "text/plain": [
       "<tf.Tensor 'pyramid_net/Identity:0' shape=(None, 10) dtype=float32>"
      ]
     },
     "execution_count": 6,
     "metadata": {},
     "output_type": "execute_result"
    }
   ],
   "source": [
    "model(in_)"
   ]
  },
  {
   "cell_type": "code",
   "execution_count": 7,
   "metadata": {},
   "outputs": [
    {
     "data": {
      "text/plain": [
       "26049578"
      ]
     },
     "execution_count": 7,
     "metadata": {},
     "output_type": "execute_result"
    }
   ],
   "source": [
    "model.num_params"
   ]
  },
  {
   "cell_type": "code",
   "execution_count": null,
   "metadata": {},
   "outputs": [],
   "source": []
  }
 ],
 "metadata": {
  "kernelspec": {
   "display_name": "Python 3",
   "language": "python",
   "name": "python3"
  },
  "language_info": {
   "codemirror_mode": {
    "name": "ipython",
    "version": 3
   },
   "file_extension": ".py",
   "mimetype": "text/x-python",
   "name": "python",
   "nbconvert_exporter": "python",
   "pygments_lexer": "ipython3",
   "version": "3.6.8"
  }
 },
 "nbformat": 4,
 "nbformat_minor": 4
}
