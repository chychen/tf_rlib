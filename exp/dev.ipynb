{
 "cells": [
  {
   "cell_type": "code",
   "execution_count": 1,
   "metadata": {},
   "outputs": [
    {
     "name": "stdout",
     "output_type": "stream",
     "text": [
      "Done\n"
     ]
    }
   ],
   "source": [
    "%matplotlib inline\n",
    "import sys\n",
    "sys.path.append('..')\n",
    "import tensorflow as tf\n",
    "from tensorflow.keras import layers\n",
    "import tf_rlib\n",
    "from absl import app\n",
    "from absl import flags\n",
    "import numpy as np\n",
    "FLAGS = flags.FLAGS"
   ]
  },
  {
   "cell_type": "code",
   "execution_count": 2,
   "metadata": {},
   "outputs": [],
   "source": [
    "# https://github.com/dyhan0920/PyramidNet-PyTorch\n",
    "FLAGS.depth=32\n",
    "FLAGS.model_alpha=48\n",
    "FLAGS.bottleneck=False"
   ]
  },
  {
   "cell_type": "code",
   "execution_count": 3,
   "metadata": {},
   "outputs": [],
   "source": [
    "from tf_rlib.runners import ClassificationRunner"
   ]
  },
  {
   "cell_type": "code",
   "execution_count": 4,
   "metadata": {},
   "outputs": [
    {
     "name": "stdout",
     "output_type": "stream",
     "text": [
      "120.70756512369792 64.1500758911213\n"
     ]
    }
   ],
   "source": [
    "train_data, valid_data =  tf.keras.datasets.cifar10.load_data()\n",
    "mean = train_data[0].mean()\n",
    "stddev = train_data[0].std()\n",
    "train_data_x = (train_data[0].astype(np.float32) - mean) / stddev\n",
    "valid_data_x = (valid_data[0].astype(np.float32) - mean) / stddev\n",
    "train_data_y = train_data[1]\n",
    "valid_data_y = valid_data[1]\n",
    "print(mean, stddev)"
   ]
  },
  {
   "cell_type": "code",
   "execution_count": 5,
   "metadata": {},
   "outputs": [],
   "source": [
    "train_dataset = tf.data.Dataset.from_tensor_slices((train_data_x, train_data_y))\n",
    "valid_dataset = tf.data.Dataset.from_tensor_slices((valid_data_x, valid_data_y))\n",
    "train_dataset = train_dataset.shuffle(50000).batch(FLAGS.bs, drop_remainder=True).cache() # faster\n",
    "valid_dataset = valid_dataset.batch(FLAGS.bs, drop_remainder=False).cache() # faster\n",
    "# TODO map, prefetch, cache, interleave"
   ]
  },
  {
   "cell_type": "code",
   "execution_count": 6,
   "metadata": {},
   "outputs": [
    {
     "name": "stderr",
     "output_type": "stream",
     "text": [
      "I1009 18:49:55.806352 139792908465984 pyramidnet.py:64] block id: 1, filters: 19\n",
      "I1009 18:49:55.816460 139792908465984 pyramidnet.py:64] block id: 2, filters: 22\n",
      "I1009 18:49:55.824149 139792908465984 pyramidnet.py:64] block id: 3, filters: 25\n",
      "I1009 18:49:55.832405 139792908465984 pyramidnet.py:64] block id: 4, filters: 28\n",
      "I1009 18:49:55.840221 139792908465984 pyramidnet.py:64] block id: 5, filters: 32\n",
      "I1009 18:49:55.855557 139792908465984 pyramidnet.py:64] block id: 6, filters: 35\n",
      "I1009 18:49:55.865889 139792908465984 pyramidnet.py:64] block id: 7, filters: 38\n",
      "I1009 18:49:55.873865 139792908465984 pyramidnet.py:64] block id: 8, filters: 41\n",
      "I1009 18:49:55.883552 139792908465984 pyramidnet.py:64] block id: 9, filters: 44\n",
      "I1009 18:49:55.895858 139792908465984 pyramidnet.py:64] block id: 10, filters: 48\n",
      "I1009 18:49:55.908503 139792908465984 pyramidnet.py:64] block id: 11, filters: 51\n",
      "I1009 18:49:55.916689 139792908465984 pyramidnet.py:64] block id: 12, filters: 54\n",
      "I1009 18:49:55.924385 139792908465984 pyramidnet.py:64] block id: 13, filters: 57\n",
      "I1009 18:49:55.932133 139792908465984 pyramidnet.py:64] block id: 14, filters: 60\n",
      "I1009 18:49:55.940653 139792908465984 pyramidnet.py:64] block id: 15, filters: 64\n",
      "I1009 18:50:01.143273 139792908465984 classification.py:21] 496828\n"
     ]
    }
   ],
   "source": [
    "runner = ClassificationRunner(train_dataset, valid_dataset)"
   ]
  },
  {
   "cell_type": "code",
   "execution_count": null,
   "metadata": {},
   "outputs": [
    {
     "data": {
      "application/vnd.jupyter.widget-view+json": {
       "model_id": "",
       "version_major": 2,
       "version_minor": 0
      },
      "text/plain": [
       "HBox(children=(IntProgress(value=0, max=390), HTML(value='')))"
      ]
     },
     "metadata": {},
     "output_type": "display_data"
    },
    {
     "name": "stdout",
     "output_type": "stream",
     "text": [
      "\r"
     ]
    },
    {
     "data": {
      "application/vnd.jupyter.widget-view+json": {
       "model_id": "",
       "version_major": 2,
       "version_minor": 0
      },
      "text/plain": [
       "HBox(children=(IntProgress(value=0, max=79), HTML(value='')))"
      ]
     },
     "metadata": {},
     "output_type": "display_data"
    },
    {
     "name": "stderr",
     "output_type": "stream",
     "text": [
      "I1009 18:50:37.380150 139792908465984 runner.py:139] epoch: 1\n",
      "Best Performance at valid_acc: 0.5409\n",
      "train_loss: 1.6231  valid_loss: 1.2620  valid_acc: 0.5409  samples/sec: 1760.1156\n",
      "\n"
     ]
    },
    {
     "name": "stdout",
     "output_type": "stream",
     "text": [
      "\r"
     ]
    },
    {
     "data": {
      "application/vnd.jupyter.widget-view+json": {
       "model_id": "",
       "version_major": 2,
       "version_minor": 0
      },
      "text/plain": [
       "HBox(children=(IntProgress(value=0, max=390), HTML(value='')))"
      ]
     },
     "metadata": {},
     "output_type": "display_data"
    },
    {
     "name": "stdout",
     "output_type": "stream",
     "text": [
      "\r"
     ]
    },
    {
     "data": {
      "application/vnd.jupyter.widget-view+json": {
       "model_id": "",
       "version_major": 2,
       "version_minor": 0
      },
      "text/plain": [
       "HBox(children=(IntProgress(value=0, max=79), HTML(value='')))"
      ]
     },
     "metadata": {},
     "output_type": "display_data"
    },
    {
     "name": "stderr",
     "output_type": "stream",
     "text": [
      "I1009 18:51:02.011034 139792908465984 runner.py:139] epoch: 2\n",
      "Best Performance at valid_acc: 0.6019\n",
      "train_loss: 1.3634  valid_loss: 1.1112  valid_acc: 0.6019  samples/sec: 2437.6755\n",
      "\n"
     ]
    },
    {
     "name": "stdout",
     "output_type": "stream",
     "text": [
      "\r"
     ]
    },
    {
     "data": {
      "application/vnd.jupyter.widget-view+json": {
       "model_id": "",
       "version_major": 2,
       "version_minor": 0
      },
      "text/plain": [
       "HBox(children=(IntProgress(value=0, max=390), HTML(value='')))"
      ]
     },
     "metadata": {},
     "output_type": "display_data"
    },
    {
     "name": "stdout",
     "output_type": "stream",
     "text": [
      "\r"
     ]
    },
    {
     "data": {
      "application/vnd.jupyter.widget-view+json": {
       "model_id": "",
       "version_major": 2,
       "version_minor": 0
      },
      "text/plain": [
       "HBox(children=(IntProgress(value=0, max=79), HTML(value='')))"
      ]
     },
     "metadata": {},
     "output_type": "display_data"
    },
    {
     "name": "stderr",
     "output_type": "stream",
     "text": [
      "I1009 18:51:26.333964 139792908465984 runner.py:139] epoch: 3\n",
      "Best Performance at valid_acc: 0.6390\n",
      "train_loss: 1.1977  valid_loss: 1.0127  valid_acc: 0.6390  samples/sec: 2468.5571\n",
      "\n"
     ]
    },
    {
     "name": "stdout",
     "output_type": "stream",
     "text": [
      "\r"
     ]
    },
    {
     "data": {
      "application/vnd.jupyter.widget-view+json": {
       "model_id": "",
       "version_major": 2,
       "version_minor": 0
      },
      "text/plain": [
       "HBox(children=(IntProgress(value=0, max=390), HTML(value='')))"
      ]
     },
     "metadata": {},
     "output_type": "display_data"
    },
    {
     "name": "stdout",
     "output_type": "stream",
     "text": [
      "\r"
     ]
    },
    {
     "data": {
      "application/vnd.jupyter.widget-view+json": {
       "model_id": "",
       "version_major": 2,
       "version_minor": 0
      },
      "text/plain": [
       "HBox(children=(IntProgress(value=0, max=79), HTML(value='')))"
      ]
     },
     "metadata": {},
     "output_type": "display_data"
    },
    {
     "name": "stderr",
     "output_type": "stream",
     "text": [
      "I1009 18:51:50.545328 139792908465984 runner.py:139] epoch: 4\n",
      "Best Performance at valid_acc: 0.6675\n",
      "train_loss: 1.0755  valid_loss: 0.9355  valid_acc: 0.6675  samples/sec: 2479.9025\n",
      "\n"
     ]
    },
    {
     "name": "stdout",
     "output_type": "stream",
     "text": [
      "\r"
     ]
    },
    {
     "data": {
      "application/vnd.jupyter.widget-view+json": {
       "model_id": "",
       "version_major": 2,
       "version_minor": 0
      },
      "text/plain": [
       "HBox(children=(IntProgress(value=0, max=390), HTML(value='')))"
      ]
     },
     "metadata": {},
     "output_type": "display_data"
    },
    {
     "name": "stdout",
     "output_type": "stream",
     "text": [
      "\r"
     ]
    },
    {
     "data": {
      "application/vnd.jupyter.widget-view+json": {
       "model_id": "06b5192cc38c4606b99d4a2c360c4c5b",
       "version_major": 2,
       "version_minor": 0
      },
      "text/plain": [
       "HBox(children=(IntProgress(value=0, max=79), HTML(value='')))"
      ]
     },
     "metadata": {},
     "output_type": "display_data"
    }
   ],
   "source": [
    "runner.fit(10)"
   ]
  },
  {
   "cell_type": "code",
   "execution_count": null,
   "metadata": {},
   "outputs": [],
   "source": []
  }
 ],
 "metadata": {
  "kernelspec": {
   "display_name": "Python 3",
   "language": "python",
   "name": "python3"
  },
  "language_info": {
   "codemirror_mode": {
    "name": "ipython",
    "version": 3
   },
   "file_extension": ".py",
   "mimetype": "text/x-python",
   "name": "python",
   "nbconvert_exporter": "python",
   "pygments_lexer": "ipython3",
   "version": "3.6.8"
  }
 },
 "nbformat": 4,
 "nbformat_minor": 4
}
