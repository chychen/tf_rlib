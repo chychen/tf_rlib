{
 "cells": [
  {
   "cell_type": "code",
   "execution_count": 1,
   "metadata": {},
   "outputs": [
    {
     "name": "stderr",
     "output_type": "stream",
     "text": [
      "I1013 09:53:40.997615 140312978851648 __init__.py:101] launching Tensorboard at: /tmp/20191013-175340/log port: 6006 ...\n",
      "(this is a fire-and-forget thread so no error message if failed)\n"
     ]
    },
    {
     "name": "stdout",
     "output_type": "stream",
     "text": [
      "init flags\n"
     ]
    }
   ],
   "source": [
    "import sys\n",
    "sys.path.append('..')\n",
    "import tf_rlib\n",
    "from tf_rlib.runners import ClassificationRunner\n",
    "FLAGS = tf_rlib.FLAGS"
   ]
  },
  {
   "cell_type": "code",
   "execution_count": 2,
   "metadata": {},
   "outputs": [
    {
     "name": "stderr",
     "output_type": "stream",
     "text": [
      "I1013 09:53:42.015330 140312978851648 tf_datasets.py:18] mean:[125.3069  122.95015 113.866  ], std:[62.99325  62.088604 66.70501 ]\n",
      "I1013 09:53:43.279345 140312978851648 pyramidnet.py:62] block id: 1, filters: 19\n",
      "I1013 09:53:43.285959 140312978851648 pyramidnet.py:62] block id: 2, filters: 22\n",
      "I1013 09:53:43.291552 140312978851648 pyramidnet.py:62] block id: 3, filters: 25\n",
      "I1013 09:53:43.297096 140312978851648 pyramidnet.py:62] block id: 4, filters: 28\n",
      "I1013 09:53:43.302659 140312978851648 pyramidnet.py:62] block id: 5, filters: 32\n",
      "I1013 09:53:43.312946 140312978851648 pyramidnet.py:62] block id: 6, filters: 35\n",
      "I1013 09:53:43.320047 140312978851648 pyramidnet.py:62] block id: 7, filters: 38\n",
      "I1013 09:53:43.325590 140312978851648 pyramidnet.py:62] block id: 8, filters: 41\n",
      "I1013 09:53:43.331148 140312978851648 pyramidnet.py:62] block id: 9, filters: 44\n",
      "I1013 09:53:43.336681 140312978851648 pyramidnet.py:62] block id: 10, filters: 48\n",
      "I1013 09:53:43.345942 140312978851648 pyramidnet.py:62] block id: 11, filters: 51\n",
      "I1013 09:53:43.351963 140312978851648 pyramidnet.py:62] block id: 12, filters: 54\n",
      "I1013 09:53:43.357862 140312978851648 pyramidnet.py:62] block id: 13, filters: 57\n",
      "I1013 09:53:43.363567 140312978851648 pyramidnet.py:62] block id: 14, filters: 60\n",
      "I1013 09:53:43.369114 140312978851648 pyramidnet.py:62] block id: 15, filters: 64\n",
      "I1013 09:53:46.169929 140312978851648 runner.py:34] 496828\n"
     ]
    }
   ],
   "source": [
    "# https://github.com/dyhan0920/PyramidNet-PyTorch\n",
    "FLAGS.depth=32\n",
    "FLAGS.model_alpha=48\n",
    "FLAGS.bottleneck=False\n",
    "FLAGS.amp=False\n",
    "# FLAGS.profile = True\n",
    "\n",
    "datasets = tf_rlib.datasets.get_cifar10()\n",
    "runner = ClassificationRunner(*datasets)"
   ]
  },
  {
   "cell_type": "code",
   "execution_count": null,
   "metadata": {},
   "outputs": [
    {
     "data": {
      "application/vnd.jupyter.widget-view+json": {
       "model_id": "8f82b2283d85424b90e180aee3ea12c1",
       "version_major": 2,
       "version_minor": 0
      },
      "text/plain": [
       "HBox(children=(IntProgress(value=0, description='train', max=390, style=ProgressStyle(description_width='initi…"
      ]
     },
     "metadata": {},
     "output_type": "display_data"
    },
    {
     "data": {
      "application/vnd.jupyter.widget-view+json": {
       "model_id": "347205440d0448a9b8971a511952d187",
       "version_major": 2,
       "version_minor": 0
      },
      "text/plain": [
       "HBox(children=(IntProgress(value=0, description='valid', max=79, style=ProgressStyle(description_width='initia…"
      ]
     },
     "metadata": {},
     "output_type": "display_data"
    }
   ],
   "source": [
    "runner.fit(300)"
   ]
  },
  {
   "cell_type": "code",
   "execution_count": null,
   "metadata": {},
   "outputs": [],
   "source": []
  }
 ],
 "metadata": {
  "kernelspec": {
   "display_name": "Python 3",
   "language": "python",
   "name": "python3"
  },
  "language_info": {
   "codemirror_mode": {
    "name": "ipython",
    "version": 3
   },
   "file_extension": ".py",
   "mimetype": "text/x-python",
   "name": "python",
   "nbconvert_exporter": "python",
   "pygments_lexer": "ipython3",
   "version": "3.6.8"
  }
 },
 "nbformat": 4,
 "nbformat_minor": 4
}
