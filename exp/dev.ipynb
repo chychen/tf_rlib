{
 "cells": [
  {
   "cell_type": "code",
   "execution_count": 1,
   "metadata": {},
   "outputs": [
    {
     "name": "stdout",
     "output_type": "stream",
     "text": [
      "Done\n"
     ]
    }
   ],
   "source": [
    "import sys\n",
    "sys.path.append('..')\n",
    "import tensorflow as tf\n",
    "import tf_rlib\n",
    "from tf_rlib.runners import ClassificationRunner\n",
    "from absl import flags\n",
    "\n",
    "FLAGS = flags.FLAGS\n",
    "# https://github.com/dyhan0920/PyramidNet-PyTorch\n",
    "FLAGS.depth=32\n",
    "FLAGS.model_alpha=48\n",
    "FLAGS.bottleneck=False\n",
    "FLAGS.amp=False\n",
    "# FLAGS.profile = True"
   ]
  },
  {
   "cell_type": "code",
   "execution_count": 2,
   "metadata": {},
   "outputs": [
    {
     "name": "stderr",
     "output_type": "stream",
     "text": [
      "I1012 11:25:33.894435 139657718691648 pyramidnet.py:64] block id: 1, filters: 19\n",
      "I1012 11:25:33.904053 139657718691648 pyramidnet.py:64] block id: 2, filters: 22\n",
      "I1012 11:25:33.911731 139657718691648 pyramidnet.py:64] block id: 3, filters: 25\n",
      "I1012 11:25:33.919249 139657718691648 pyramidnet.py:64] block id: 4, filters: 28\n",
      "I1012 11:25:33.927677 139657718691648 pyramidnet.py:64] block id: 5, filters: 32\n",
      "I1012 11:25:33.940965 139657718691648 pyramidnet.py:64] block id: 6, filters: 35\n",
      "I1012 11:25:33.950856 139657718691648 pyramidnet.py:64] block id: 7, filters: 38\n",
      "I1012 11:25:33.960524 139657718691648 pyramidnet.py:64] block id: 8, filters: 41\n",
      "I1012 11:25:33.967885 139657718691648 pyramidnet.py:64] block id: 9, filters: 44\n",
      "I1012 11:25:33.974812 139657718691648 pyramidnet.py:64] block id: 10, filters: 48\n",
      "I1012 11:25:33.987700 139657718691648 pyramidnet.py:64] block id: 11, filters: 51\n",
      "I1012 11:25:33.995959 139657718691648 pyramidnet.py:64] block id: 12, filters: 54\n",
      "I1012 11:25:34.004265 139657718691648 pyramidnet.py:64] block id: 13, filters: 57\n",
      "I1012 11:25:34.011219 139657718691648 pyramidnet.py:64] block id: 14, filters: 60\n",
      "I1012 11:25:34.018569 139657718691648 pyramidnet.py:64] block id: 15, filters: 64\n",
      "I1012 11:25:38.584992 139657718691648 runner.py:32] 496828\n"
     ]
    }
   ],
   "source": [
    "datasets = tf_rlib.datasets.get_cifar10()\n",
    "runner = ClassificationRunner(*datasets)"
   ]
  },
  {
   "cell_type": "code",
   "execution_count": null,
   "metadata": {},
   "outputs": [
    {
     "data": {
      "application/vnd.jupyter.widget-view+json": {
       "model_id": "d0923d6c309e4786ac639a6bca8f176e",
       "version_major": 2,
       "version_minor": 0
      },
      "text/plain": [
       "HBox(children=(IntProgress(value=0, description='train', max=390, style=ProgressStyle(description_width='initi…"
      ]
     },
     "metadata": {},
     "output_type": "display_data"
    },
    {
     "data": {
      "application/vnd.jupyter.widget-view+json": {
       "model_id": "7476378a88ea402881ed9cdd0611afdf",
       "version_major": 2,
       "version_minor": 0
      },
      "text/plain": [
       "HBox(children=(IntProgress(value=0, description='valid', max=79, style=ProgressStyle(description_width='initia…"
      ]
     },
     "metadata": {},
     "output_type": "display_data"
    },
    {
     "name": "stderr",
     "output_type": "stream",
     "text": [
      "I1012 11:26:07.212076 139657718691648 metrics_manager.py:55] Best Performance at acc: 0.3089\n",
      "epoch: 1  train_loss: 17.9635  train_acc: 0.2091  valid_loss: 1.9219  valid_acc: 0.3089  samples/sec: 2280.8163\n",
      "\n",
      "I1012 11:26:22.938984 139657718691648 metrics_manager.py:55] Best Performance at acc: 0.3391\n",
      "epoch: 2  train_loss: 9.8948  train_acc: 0.2684  valid_loss: 1.8192  valid_acc: 0.3391  samples/sec: 3818.9975\n",
      "\n",
      "I1012 11:26:38.522971 139657718691648 metrics_manager.py:55] Best Performance at acc: 0.3674\n",
      "epoch: 3  train_loss: 7.1505  train_acc: 0.3075  valid_loss: 1.7439  valid_acc: 0.3674  samples/sec: 3854.0161\n",
      "\n",
      "I1012 11:26:54.043773 139657718691648 metrics_manager.py:55] Best Performance at acc: 0.3923\n",
      "epoch: 4  train_loss: 5.7502  train_acc: 0.3386  valid_loss: 1.6737  valid_acc: 0.3923  samples/sec: 3869.7640\n",
      "\n",
      "I1012 11:27:09.644889 139657718691648 metrics_manager.py:55] Best Performance at acc: 0.4115\n",
      "epoch: 5  train_loss: 4.8947  train_acc: 0.3632  valid_loss: 1.6181  valid_acc: 0.4115  samples/sec: 3849.7850\n",
      "\n",
      "I1012 11:27:25.243048 139657718691648 metrics_manager.py:55] Best Performance at acc: 0.4295\n",
      "epoch: 6  train_loss: 4.3114  train_acc: 0.3855  valid_loss: 1.5697  valid_acc: 0.4295  samples/sec: 3850.4496\n",
      "\n",
      "I1012 11:27:40.874392 139657718691648 metrics_manager.py:55] Best Performance at acc: 0.4441\n",
      "epoch: 7  train_loss: 3.8852  train_acc: 0.4050  valid_loss: 1.5304  valid_acc: 0.4441  samples/sec: 3842.2987\n",
      "\n",
      "I1012 11:27:56.492210 139657718691648 metrics_manager.py:55] Best Performance at acc: 0.4593\n",
      "epoch: 8  train_loss: 3.5579  train_acc: 0.4224  valid_loss: 1.4911  valid_acc: 0.4593  samples/sec: 3845.7775\n",
      "\n",
      "I1012 11:28:12.249122 139657718691648 metrics_manager.py:55] Best Performance at acc: 0.4727\n",
      "epoch: 9  train_loss: 3.2984  train_acc: 0.4380  valid_loss: 1.4573  valid_acc: 0.4727  samples/sec: 3811.6868\n",
      "\n",
      "I1012 11:28:27.844155 139657718691648 metrics_manager.py:55] Best Performance at acc: 0.4824\n",
      "epoch: 10  train_loss: 3.0847  train_acc: 0.4526  valid_loss: 1.4302  valid_acc: 0.4824  samples/sec: 3851.2652\n",
      "\n",
      "I1012 11:28:43.302895 139657718691648 metrics_manager.py:55] Best Performance at acc: 0.4931\n",
      "epoch: 11  train_loss: 2.9040  train_acc: 0.4666  valid_loss: 1.4026  valid_acc: 0.4931  samples/sec: 3885.7610\n",
      "\n",
      "I1012 11:28:58.859179 139657718691648 metrics_manager.py:55] Best Performance at acc: 0.5042\n",
      "epoch: 12  train_loss: 2.7500  train_acc: 0.4796  valid_loss: 1.3729  valid_acc: 0.5042  samples/sec: 3860.8345\n",
      "\n",
      "I1012 11:29:14.379893 139657718691648 metrics_manager.py:55] Best Performance at acc: 0.5141\n",
      "epoch: 13  train_loss: 2.6162  train_acc: 0.4920  valid_loss: 1.3477  valid_acc: 0.5141  samples/sec: 3869.8433\n",
      "\n",
      "I1012 11:29:30.051490 139657718691648 metrics_manager.py:55] Best Performance at acc: 0.5224\n",
      "epoch: 14  train_loss: 2.4977  train_acc: 0.5040  valid_loss: 1.3271  valid_acc: 0.5224  samples/sec: 3832.5314\n",
      "\n",
      "I1012 11:29:45.539649 139657718691648 metrics_manager.py:55] Best Performance at acc: 0.5316\n",
      "epoch: 15  train_loss: 2.3916  train_acc: 0.5156  valid_loss: 1.3043  valid_acc: 0.5316  samples/sec: 3877.7330\n",
      "\n",
      "I1012 11:30:01.020826 139657718691648 metrics_manager.py:55] Best Performance at acc: 0.5397\n",
      "epoch: 16  train_loss: 2.2973  train_acc: 0.5264  valid_loss: 1.2844  valid_acc: 0.5397  samples/sec: 3879.5172\n",
      "\n",
      "I1012 11:30:16.895343 139657718691648 metrics_manager.py:55] Best Performance at acc: 0.5481\n",
      "epoch: 17  train_loss: 2.2103  train_acc: 0.5372  valid_loss: 1.2627  valid_acc: 0.5481  samples/sec: 3783.7235\n",
      "\n",
      "I1012 11:30:32.616279 139657718691648 metrics_manager.py:55] Best Performance at acc: 0.5557\n",
      "epoch: 18  train_loss: 2.1311  train_acc: 0.5475  valid_loss: 1.2434  valid_acc: 0.5557  samples/sec: 3820.5630\n",
      "\n",
      "I1012 11:30:48.253842 139657718691648 metrics_manager.py:55] Best Performance at acc: 0.5634\n",
      "epoch: 19  train_loss: 2.0584  train_acc: 0.5575  valid_loss: 1.2234  valid_acc: 0.5634  samples/sec: 3840.9452\n",
      "\n",
      "I1012 11:31:03.672503 139657718691648 metrics_manager.py:55] Best Performance at acc: 0.5705\n",
      "epoch: 20  train_loss: 1.9907  train_acc: 0.5672  valid_loss: 1.2054  valid_acc: 0.5705  samples/sec: 3895.5205\n",
      "\n",
      "I1012 11:31:19.327538 139657718691648 metrics_manager.py:55] Best Performance at acc: 0.5774\n",
      "epoch: 21  train_loss: 1.9281  train_acc: 0.5765  valid_loss: 1.1870  valid_acc: 0.5774  samples/sec: 3836.6325\n",
      "\n",
      "I1012 11:31:34.755156 139657718691648 metrics_manager.py:55] Best Performance at acc: 0.5837\n",
      "epoch: 22  train_loss: 1.8693  train_acc: 0.5855  valid_loss: 1.1722  valid_acc: 0.5837  samples/sec: 3893.0501\n",
      "\n",
      "I1012 11:31:50.188224 139657718691648 metrics_manager.py:55] Best Performance at acc: 0.5898\n",
      "epoch: 23  train_loss: 1.8143  train_acc: 0.5942  valid_loss: 1.1579  valid_acc: 0.5898  samples/sec: 3891.9962\n",
      "\n",
      "I1012 11:32:05.786773 139657718691648 metrics_manager.py:55] Best Performance at acc: 0.5959\n",
      "epoch: 24  train_loss: 1.7632  train_acc: 0.6026  valid_loss: 1.1428  valid_acc: 0.5959  samples/sec: 3850.7248\n",
      "\n",
      "I1012 11:32:21.234723 139657718691648 metrics_manager.py:55] Best Performance at acc: 0.6016\n",
      "epoch: 25  train_loss: 1.7145  train_acc: 0.6108  valid_loss: 1.1304  valid_acc: 0.6016  samples/sec: 3888.0496\n",
      "\n",
      "I1012 11:32:36.617384 139657718691648 metrics_manager.py:55] Best Performance at acc: 0.6073\n",
      "epoch: 26  train_loss: 1.6691  train_acc: 0.6186  valid_loss: 1.1167  valid_acc: 0.6073  samples/sec: 3904.3830\n",
      "\n",
      "I1012 11:32:52.034434 139657718691648 metrics_manager.py:55] Best Performance at acc: 0.6129\n",
      "epoch: 27  train_loss: 1.6260  train_acc: 0.6262  valid_loss: 1.1029  valid_acc: 0.6129  samples/sec: 3895.8859\n",
      "\n",
      "I1012 11:33:07.815070 139657718691648 metrics_manager.py:55] Best Performance at acc: 0.6175\n",
      "epoch: 28  train_loss: 1.5849  train_acc: 0.6335  valid_loss: 1.0917  valid_acc: 0.6175  samples/sec: 3806.0768\n",
      "\n",
      "I1012 11:33:23.727276 139657718691648 metrics_manager.py:55] Best Performance at acc: 0.6224\n",
      "epoch: 29  train_loss: 1.5460  train_acc: 0.6407  valid_loss: 1.0802  valid_acc: 0.6224  samples/sec: 3774.4864\n",
      "\n",
      "I1012 11:33:40.128459 139657718691648 metrics_manager.py:55] Best Performance at acc: 0.6270\n",
      "epoch: 30  train_loss: 1.5092  train_acc: 0.6475  valid_loss: 1.0694  valid_acc: 0.6270  samples/sec: 3661.8859\n",
      "\n",
      "I1012 11:33:56.536286 139657718691648 metrics_manager.py:55] Best Performance at acc: 0.6319\n",
      "epoch: 31  train_loss: 1.4740  train_acc: 0.6541  valid_loss: 1.0584  valid_acc: 0.6319  samples/sec: 3660.7256\n",
      "\n",
      "I1012 11:34:12.964717 139657718691648 metrics_manager.py:55] Best Performance at acc: 0.6363\n",
      "epoch: 32  train_loss: 1.4400  train_acc: 0.6606  valid_loss: 1.0491  valid_acc: 0.6363  samples/sec: 3656.0232\n",
      "\n",
      "I1012 11:34:29.433183 139657718691648 metrics_manager.py:55] Best Performance at acc: 0.6406\n",
      "epoch: 33  train_loss: 1.4077  train_acc: 0.6669  valid_loss: 1.0389  valid_acc: 0.6406  samples/sec: 3647.0571\n",
      "\n",
      "I1012 11:34:45.755817 139657718691648 metrics_manager.py:55] Best Performance at acc: 0.6446\n",
      "epoch: 34  train_loss: 1.3769  train_acc: 0.6730  valid_loss: 1.0298  valid_acc: 0.6446  samples/sec: 3679.8664\n",
      "\n",
      "I1012 11:35:01.489150 139657718691648 metrics_manager.py:55] Best Performance at acc: 0.6484\n",
      "epoch: 35  train_loss: 1.3472  train_acc: 0.6790  valid_loss: 1.0210  valid_acc: 0.6484  samples/sec: 3817.3448\n",
      "\n",
      "I1012 11:35:17.131444 139657718691648 metrics_manager.py:55] Best Performance at acc: 0.6521\n",
      "epoch: 36  train_loss: 1.3187  train_acc: 0.6847  valid_loss: 1.0136  valid_acc: 0.6521  samples/sec: 3839.7392\n",
      "\n",
      "I1012 11:35:32.775632 139657718691648 metrics_manager.py:55] Best Performance at acc: 0.6556\n",
      "epoch: 37  train_loss: 1.2914  train_acc: 0.6903  valid_loss: 1.0072  valid_acc: 0.6556  samples/sec: 3839.2550\n",
      "\n",
      "I1012 11:35:48.361018 139657718691648 metrics_manager.py:55] Best Performance at acc: 0.6585\n",
      "epoch: 38  train_loss: 1.2651  train_acc: 0.6957  valid_loss: 1.0007  valid_acc: 0.6585  samples/sec: 3854.0153\n",
      "\n",
      "I1012 11:36:03.863909 139657718691648 metrics_manager.py:55] Best Performance at acc: 0.6617\n",
      "epoch: 39  train_loss: 1.2397  train_acc: 0.7011  valid_loss: 0.9950  valid_acc: 0.6617  samples/sec: 3874.1602\n",
      "\n",
      "I1012 11:36:19.524922 139657718691648 metrics_manager.py:55] Best Performance at acc: 0.6647\n",
      "epoch: 40  train_loss: 1.2152  train_acc: 0.7062  valid_loss: 0.9900  valid_acc: 0.6647  samples/sec: 3835.1141\n",
      "\n",
      "I1012 11:36:35.307057 139657718691648 metrics_manager.py:55] Best Performance at acc: 0.6677\n",
      "epoch: 41  train_loss: 1.1917  train_acc: 0.7112  valid_loss: 0.9857  valid_acc: 0.6677  samples/sec: 3805.7234\n",
      "\n"
     ]
    }
   ],
   "source": [
    "runner.fit(300)"
   ]
  },
  {
   "cell_type": "code",
   "execution_count": null,
   "metadata": {},
   "outputs": [],
   "source": []
  },
  {
   "cell_type": "code",
   "execution_count": null,
   "metadata": {},
   "outputs": [],
   "source": []
  }
 ],
 "metadata": {
  "kernelspec": {
   "display_name": "Python 3",
   "language": "python",
   "name": "python3"
  },
  "language_info": {
   "codemirror_mode": {
    "name": "ipython",
    "version": 3
   },
   "file_extension": ".py",
   "mimetype": "text/x-python",
   "name": "python",
   "nbconvert_exporter": "python",
   "pygments_lexer": "ipython3",
   "version": "3.6.8"
  }
 },
 "nbformat": 4,
 "nbformat_minor": 4
}
