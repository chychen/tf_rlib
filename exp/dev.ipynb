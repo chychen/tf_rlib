{
 "cells": [
  {
   "cell_type": "code",
   "execution_count": 1,
   "metadata": {},
   "outputs": [
    {
     "name": "stdout",
     "output_type": "stream",
     "text": [
      "Done\n"
     ]
    }
   ],
   "source": [
    "%matplotlib inline\n",
    "import sys\n",
    "sys.path.append('..')\n",
    "import tensorflow as tf\n",
    "from tensorflow.keras import layers\n",
    "import tf_rlib\n",
    "from absl import app\n",
    "from absl import flags\n",
    "import numpy as np\n",
    "FLAGS = flags.FLAGS"
   ]
  },
  {
   "cell_type": "code",
   "execution_count": 2,
   "metadata": {},
   "outputs": [],
   "source": [
    "# https://github.com/dyhan0920/PyramidNet-PyTorch\n",
    "FLAGS.depth=32\n",
    "FLAGS.model_alpha=48\n",
    "FLAGS.bottleneck=True"
   ]
  },
  {
   "cell_type": "code",
   "execution_count": 3,
   "metadata": {},
   "outputs": [],
   "source": [
    "from tf_rlib.runners import ClassificationRunner"
   ]
  },
  {
   "cell_type": "code",
   "execution_count": 4,
   "metadata": {},
   "outputs": [
    {
     "name": "stdout",
     "output_type": "stream",
     "text": [
      "120.70756512369792 64.1500758911213\n"
     ]
    }
   ],
   "source": [
    "train_data, valid_data =  tf.keras.datasets.cifar10.load_data()\n",
    "mean = train_data[0].mean()\n",
    "stddev = train_data[0].std()\n",
    "train_data_x = (train_data[0].astype(np.float32) - mean) / stddev\n",
    "valid_data_x = (valid_data[0].astype(np.float32) - mean) / stddev\n",
    "train_data_y = train_data[1]\n",
    "valid_data_y = valid_data[1]\n",
    "print(mean, stddev)"
   ]
  },
  {
   "cell_type": "code",
   "execution_count": 5,
   "metadata": {},
   "outputs": [],
   "source": [
    "train_dataset = tf.data.Dataset.from_tensor_slices((train_data_x, train_data_y))\n",
    "valid_dataset = tf.data.Dataset.from_tensor_slices((valid_data_x, valid_data_y))\n",
    "train_dataset = train_dataset.shuffle(10000).batch(FLAGS.bs, drop_remainder=True)\n",
    "valid_dataset = valid_dataset.batch(FLAGS.bs, drop_remainder=False)"
   ]
  },
  {
   "cell_type": "code",
   "execution_count": 6,
   "metadata": {},
   "outputs": [
    {
     "name": "stderr",
     "output_type": "stream",
     "text": [
      "I1009 17:24:28.434890 139974251243328 pyramidnet.py:64] block id: 1, filters: 21\n",
      "I1009 17:24:28.447648 139974251243328 pyramidnet.py:64] block id: 2, filters: 26\n",
      "I1009 17:24:28.458786 139974251243328 pyramidnet.py:64] block id: 3, filters: 32\n",
      "I1009 17:24:28.474712 139974251243328 pyramidnet.py:64] block id: 4, filters: 37\n",
      "I1009 17:24:28.488161 139974251243328 pyramidnet.py:64] block id: 5, filters: 42\n",
      "I1009 17:24:28.499619 139974251243328 pyramidnet.py:64] block id: 6, filters: 48\n",
      "I1009 17:24:28.513077 139974251243328 pyramidnet.py:64] block id: 7, filters: 53\n",
      "I1009 17:24:28.524791 139974251243328 pyramidnet.py:64] block id: 8, filters: 58\n",
      "I1009 17:24:28.535196 139974251243328 pyramidnet.py:64] block id: 9, filters: 64\n",
      "I1009 17:24:32.955573 139974251243328 classification.py:21] 304897\n"
     ]
    }
   ],
   "source": [
    "runner = ClassificationRunner(train_dataset, valid_dataset)"
   ]
  },
  {
   "cell_type": "code",
   "execution_count": null,
   "metadata": {},
   "outputs": [
    {
     "data": {
      "application/vnd.jupyter.widget-view+json": {
       "model_id": "",
       "version_major": 2,
       "version_minor": 0
      },
      "text/plain": [
       "HBox(children=(IntProgress(value=0, max=390), HTML(value='')))"
      ]
     },
     "metadata": {},
     "output_type": "display_data"
    },
    {
     "name": "stdout",
     "output_type": "stream",
     "text": [
      "\r"
     ]
    },
    {
     "data": {
      "application/vnd.jupyter.widget-view+json": {
       "model_id": "",
       "version_major": 2,
       "version_minor": 0
      },
      "text/plain": [
       "HBox(children=(IntProgress(value=0, max=79), HTML(value='')))"
      ]
     },
     "metadata": {},
     "output_type": "display_data"
    },
    {
     "name": "stderr",
     "output_type": "stream",
     "text": [
      "I1009 17:25:10.376010 139974251243328 runner.py:138] epoch: 0\n",
      "Best Performance at valid_acc: 0.5006\n",
      "train_loss: 1.6792  valid_loss: 1.3381  valid_acc: 0.5006  samples/sec: 1680.8227\n",
      "\n"
     ]
    },
    {
     "name": "stdout",
     "output_type": "stream",
     "text": [
      "\r"
     ]
    },
    {
     "data": {
      "application/vnd.jupyter.widget-view+json": {
       "model_id": "",
       "version_major": 2,
       "version_minor": 0
      },
      "text/plain": [
       "HBox(children=(IntProgress(value=0, max=390), HTML(value='')))"
      ]
     },
     "metadata": {},
     "output_type": "display_data"
    },
    {
     "name": "stdout",
     "output_type": "stream",
     "text": [
      "\r"
     ]
    },
    {
     "data": {
      "application/vnd.jupyter.widget-view+json": {
       "model_id": "",
       "version_major": 2,
       "version_minor": 0
      },
      "text/plain": [
       "HBox(children=(IntProgress(value=0, max=79), HTML(value='')))"
      ]
     },
     "metadata": {},
     "output_type": "display_data"
    },
    {
     "name": "stderr",
     "output_type": "stream",
     "text": [
      "I1009 17:25:36.772958 139974251243328 runner.py:138] epoch: 1\n",
      "Best Performance at valid_acc: 0.5605\n",
      "train_loss: 1.4409  valid_loss: 1.1916  valid_acc: 0.5605  samples/sec: 2274.5898\n",
      "\n"
     ]
    },
    {
     "name": "stdout",
     "output_type": "stream",
     "text": [
      "\r"
     ]
    },
    {
     "data": {
      "application/vnd.jupyter.widget-view+json": {
       "model_id": "1f576a2477294dc7b71af8583b4a7a26",
       "version_major": 2,
       "version_minor": 0
      },
      "text/plain": [
       "HBox(children=(IntProgress(value=0, max=390), HTML(value='')))"
      ]
     },
     "metadata": {},
     "output_type": "display_data"
    }
   ],
   "source": [
    "runner.fit(10)"
   ]
  },
  {
   "cell_type": "code",
   "execution_count": null,
   "metadata": {},
   "outputs": [],
   "source": []
  }
 ],
 "metadata": {
  "kernelspec": {
   "display_name": "Python 3",
   "language": "python",
   "name": "python3"
  },
  "language_info": {
   "codemirror_mode": {
    "name": "ipython",
    "version": 3
   },
   "file_extension": ".py",
   "mimetype": "text/x-python",
   "name": "python",
   "nbconvert_exporter": "python",
   "pygments_lexer": "ipython3",
   "version": "3.6.8"
  }
 },
 "nbformat": 4,
 "nbformat_minor": 4
}
