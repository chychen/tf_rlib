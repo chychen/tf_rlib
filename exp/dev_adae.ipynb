{
 "cells": [
  {
   "cell_type": "code",
   "execution_count": null,
   "metadata": {},
   "outputs": [],
   "source": [
    "import sys\n",
    "sys.path.append('..')\n",
    "import tf_rlib\n",
    "from tf_rlib.runners import ADAERunner\n",
    "\n",
    "FLAGS = tf_rlib.FLAGS\n",
    "tf_rlib.utils.set_gpus('0')\n",
    "FLAGS.bs=8\n",
    "FLAGS.latent_dim=100\n",
    "FLAGS.out_dim=3\n",
    "FLAGS.log_level='WARN'\n",
    "FLAGS.purge_logs=True\n",
    "FLAGS.loss_fn='mse'\n",
    "\n",
    "mvtec = tf_rlib.datasets.MVTecDS()\n",
    "datasets = mvtec.get_data('toothbrush', target_size=(128, 128))\n",
    "\n",
    "runner = ADAERunner(*datasets)\n",
    "\n",
    "runner.fit(FLAGS.epochs, lr=FLAGS.lr)"
   ]
  },
  {
   "cell_type": "code",
   "execution_count": null,
   "metadata": {},
   "outputs": [],
   "source": []
  }
 ],
 "metadata": {
  "kernelspec": {
   "display_name": "Python 3",
   "language": "python",
   "name": "python3"
  },
  "language_info": {
   "codemirror_mode": {
    "name": "ipython",
    "version": 3
   },
   "file_extension": ".py",
   "mimetype": "text/x-python",
   "name": "python",
   "nbconvert_exporter": "python",
   "pygments_lexer": "ipython3",
   "version": "3.6.8"
  }
 },
 "nbformat": 4,
 "nbformat_minor": 4
}
