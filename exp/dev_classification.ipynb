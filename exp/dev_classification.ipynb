{
 "cells": [
  {
   "cell_type": "code",
   "execution_count": null,
   "metadata": {},
   "outputs": [],
   "source": [
    "import sys\n",
    "sys.path.append('..')\n",
    "import tf_rlib\n",
    "from tf_rlib.runners import ClassificationRunner\n",
    "FLAGS = tf_rlib.FLAGS\n",
    "\n",
    "# tf_rlib.utils.purge_logs()\n",
    "tf_rlib.utils.set_gpus('0')\n",
    "tf_rlib.utils.set_logging('WARN')\n",
    "tf_rlib.utils.set_amp(True)#NOTE\n",
    "amp_factor = 2 if FLAGS.amp else 1\n",
    "\n",
    "FLAGS.bs=128*amp_factor\n",
    "FLAGS.dim=2\n",
    "FLAGS.out_dim=10\n",
    "FLAGS.depth=50\n",
    "FLAGS.bottleneck=True\n",
    "layers_per_block = 3 if FLAGS.bottleneck else 2\n",
    "total_blocks=(FLAGS.depth-2)/layers_per_block\n",
    "FLAGS.model_alpha=total_blocks*8\n",
    "FLAGS.lr=1e-3*amp_factor\n",
    "FLAGS.epochs=300\n",
    "\n",
    "datasets = tf_rlib.datasets.Cifar10().get_data()\n",
    "runner = ClassificationRunner(*datasets)\n",
    "runner.fit(FLAGS.epochs, lr=FLAGS.lr)"
   ]
  },
  {
   "cell_type": "code",
   "execution_count": null,
   "metadata": {},
   "outputs": [],
   "source": []
  }
 ],
 "metadata": {
  "kernelspec": {
   "display_name": "Python 3",
   "language": "python",
   "name": "python3"
  },
  "language_info": {
   "codemirror_mode": {
    "name": "ipython",
    "version": 3
   },
   "file_extension": ".py",
   "mimetype": "text/x-python",
   "name": "python",
   "nbconvert_exporter": "python",
   "pygments_lexer": "ipython3",
   "version": "3.6.7"
  }
 },
 "nbformat": 4,
 "nbformat_minor": 4
}
