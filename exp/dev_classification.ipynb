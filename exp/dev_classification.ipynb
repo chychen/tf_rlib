{
 "cells": [
  {
   "cell_type": "code",
   "execution_count": 1,
   "metadata": {},
   "outputs": [
    {
     "name": "stderr",
     "output_type": "stream",
     "text": [
      "I1013 14:37:25.242716 140494593800000 __init__.py:96] init flags\n",
      "I1013 14:37:25.243260 140494593800000 __init__.py:100] CUDA_VISIBLE_DEVICES=0\n",
      "I1013 14:37:25.244293 140494593800000 __init__.py:119] launching Tensorboard at: /results/20191013-223725/log port: 6006 ... (this is a fire-and-forget thread so no error message if failed)\n"
     ]
    }
   ],
   "source": [
    "import sys\n",
    "sys.path.append('..')\n",
    "import tf_rlib\n",
    "from tf_rlib.runners import ClassificationRunner\n",
    "FLAGS = tf_rlib.FLAGS"
   ]
  },
  {
   "cell_type": "code",
   "execution_count": 2,
   "metadata": {},
   "outputs": [
    {
     "name": "stderr",
     "output_type": "stream",
     "text": [
      "I1013 14:37:26.219618 140494593800000 tf_datasets.py:18] mean:[125.3069  122.95015 113.866  ], std:[62.99325  62.088604 66.70501 ]\n",
      "I1013 14:37:27.020760 140494593800000 pyramidnet.py:62] block id: 1, filters: 19\n",
      "I1013 14:37:27.027512 140494593800000 pyramidnet.py:62] block id: 2, filters: 22\n",
      "I1013 14:37:27.033384 140494593800000 pyramidnet.py:62] block id: 3, filters: 25\n",
      "I1013 14:37:27.038916 140494593800000 pyramidnet.py:62] block id: 4, filters: 28\n",
      "I1013 14:37:27.044514 140494593800000 pyramidnet.py:62] block id: 5, filters: 32\n",
      "I1013 14:37:27.054999 140494593800000 pyramidnet.py:62] block id: 6, filters: 35\n",
      "I1013 14:37:27.062248 140494593800000 pyramidnet.py:62] block id: 7, filters: 38\n",
      "I1013 14:37:27.067885 140494593800000 pyramidnet.py:62] block id: 8, filters: 41\n",
      "I1013 14:37:27.073467 140494593800000 pyramidnet.py:62] block id: 9, filters: 44\n",
      "I1013 14:37:27.079073 140494593800000 pyramidnet.py:62] block id: 10, filters: 48\n",
      "I1013 14:37:27.088778 140494593800000 pyramidnet.py:62] block id: 11, filters: 51\n",
      "I1013 14:37:27.094897 140494593800000 pyramidnet.py:62] block id: 12, filters: 54\n",
      "I1013 14:37:27.100841 140494593800000 pyramidnet.py:62] block id: 13, filters: 57\n",
      "I1013 14:37:27.106510 140494593800000 pyramidnet.py:62] block id: 14, filters: 60\n",
      "I1013 14:37:27.112142 140494593800000 pyramidnet.py:62] block id: 15, filters: 64\n",
      "I1013 14:37:29.942752 140494593800000 runner.py:33] 496828\n"
     ]
    }
   ],
   "source": [
    "# https://github.com/dyhan0920/PyramidNet-PyTorch\n",
    "FLAGS.depth=32\n",
    "# FLAGS.depth=110\n",
    "FLAGS.model_alpha=48\n",
    "FLAGS.bottleneck=False\n",
    "FLAGS.amp=False\n",
    "\n",
    "datasets = tf_rlib.datasets.get_cifar10()\n",
    "runner = ClassificationRunner(*datasets)"
   ]
  },
  {
   "cell_type": "code",
   "execution_count": null,
   "metadata": {},
   "outputs": [
    {
     "data": {
      "application/vnd.jupyter.widget-view+json": {
       "model_id": "9804432fcec24288ad1fc73bad2defd2",
       "version_major": 2,
       "version_minor": 0
      },
      "text/plain": [
       "HBox(children=(IntProgress(value=0, description='train', max=390, style=ProgressStyle(description_width='initi…"
      ]
     },
     "metadata": {},
     "output_type": "display_data"
    },
    {
     "data": {
      "application/vnd.jupyter.widget-view+json": {
       "model_id": "47e998b12b0041149f8cd9d19e89d9bf",
       "version_major": 2,
       "version_minor": 0
      },
      "text/plain": [
       "HBox(children=(IntProgress(value=0, description='valid', max=79, style=ProgressStyle(description_width='initia…"
      ]
     },
     "metadata": {},
     "output_type": "display_data"
    },
    {
     "name": "stderr",
     "output_type": "stream",
     "text": [
      "I1013 14:37:51.624920 140494593800000 metrics_manager.py:55] Best Performance at acc: 0.5406\n",
      "epoch: 1  train_loss: 1.4377  train_acc: 0.4711  valid_loss: 1.3194  valid_acc: 0.5406  samples/sec: 2935.8658\n",
      "\n",
      "I1013 14:38:04.062519 140494593800000 metrics_manager.py:55] Best Performance at acc: 0.5791\n",
      "epoch: 2  train_loss: 1.2189  train_acc: 0.5573  valid_loss: 1.2146  valid_acc: 0.5791  samples/sec: 4828.6870\n",
      "\n",
      "I1013 14:38:16.885572 140494593800000 metrics_manager.py:55] Best Performance at acc: 0.6219\n",
      "epoch: 3  train_loss: 1.0815  train_acc: 0.6090  valid_loss: 1.0997  valid_acc: 0.6219  samples/sec: 4683.4421\n",
      "\n"
     ]
    }
   ],
   "source": [
    "runner.fit(300, lr=1e-1)"
   ]
  },
  {
   "cell_type": "code",
   "execution_count": null,
   "metadata": {},
   "outputs": [],
   "source": []
  }
 ],
 "metadata": {
  "kernelspec": {
   "display_name": "Python 3",
   "language": "python",
   "name": "python3"
  },
  "language_info": {
   "codemirror_mode": {
    "name": "ipython",
    "version": 3
   },
   "file_extension": ".py",
   "mimetype": "text/x-python",
   "name": "python",
   "nbconvert_exporter": "python",
   "pygments_lexer": "ipython3",
   "version": "3.6.8"
  }
 },
 "nbformat": 4,
 "nbformat_minor": 4
}
