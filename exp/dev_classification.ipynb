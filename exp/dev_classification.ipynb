{
 "cells": [
  {
   "cell_type": "code",
   "execution_count": 1,
   "metadata": {},
   "outputs": [
    {
     "name": "stderr",
     "output_type": "stream",
     "text": [
      "I1107 11:30:03.257566 140442535139136 __init__.py:105] init flags\n",
      "I1107 11:30:03.281340 140442535139136 __init__.py:127] FLAGS: --logtostderr=False\n",
      "I1107 11:30:03.282588 140442535139136 __init__.py:127] FLAGS: --alsologtostderr=False\n",
      "I1107 11:30:03.283605 140442535139136 __init__.py:127] FLAGS: --log_dir=\n",
      "I1107 11:30:03.284456 140442535139136 __init__.py:127] FLAGS: --v=0\n",
      "I1107 11:30:03.285506 140442535139136 __init__.py:127] FLAGS: --verbosity=0\n",
      "I1107 11:30:03.286388 140442535139136 __init__.py:127] FLAGS: --stderrthreshold=fatal\n",
      "I1107 11:30:03.287390 140442535139136 __init__.py:127] FLAGS: --showprefixforinfo=True\n",
      "I1107 11:30:03.288204 140442535139136 __init__.py:127] FLAGS: --run_with_pdb=False\n",
      "I1107 11:30:03.289344 140442535139136 __init__.py:127] FLAGS: --pdb_post_mortem=False\n",
      "I1107 11:30:03.290168 140442535139136 __init__.py:127] FLAGS: --run_with_profiling=False\n",
      "I1107 11:30:03.290944 140442535139136 __init__.py:127] FLAGS: --profile_file=None\n",
      "I1107 11:30:03.291738 140442535139136 __init__.py:127] FLAGS: --use_cprofile_for_profiling=True\n",
      "I1107 11:30:03.292456 140442535139136 __init__.py:127] FLAGS: --only_check_args=False\n",
      "I1107 11:30:03.293266 140442535139136 __init__.py:127] FLAGS: --op_conversion_fallback_to_while_loop=False\n",
      "I1107 11:30:03.294112 140442535139136 __init__.py:127] FLAGS: --test_random_seed=301\n",
      "I1107 11:30:03.294879 140442535139136 __init__.py:127] FLAGS: --test_srcdir=\n",
      "I1107 11:30:03.295680 140442535139136 __init__.py:127] FLAGS: --test_tmpdir=/tmp/absl_testing\n",
      "I1107 11:30:03.296506 140442535139136 __init__.py:127] FLAGS: --test_randomize_ordering_seed=None\n",
      "I1107 11:30:03.297349 140442535139136 __init__.py:127] FLAGS: --xml_output_file=\n",
      "I1107 11:30:03.298169 140442535139136 __init__.py:127] FLAGS: --log_level=INFO\n",
      "I1107 11:30:03.299170 140442535139136 __init__.py:127] FLAGS: --profile=False\n",
      "I1107 11:30:03.299971 140442535139136 __init__.py:127] FLAGS: --purge_logs=False\n",
      "I1107 11:30:03.300898 140442535139136 __init__.py:127] FLAGS: --local_path=/results\n",
      "I1107 11:30:03.301654 140442535139136 __init__.py:127] FLAGS: --log_path=/results/default/20191107-193003/log\n",
      "I1107 11:30:03.302404 140442535139136 __init__.py:127] FLAGS: --save_path=/results/default/20191107-193003/ckpt\n",
      "I1107 11:30:03.303340 140442535139136 __init__.py:127] FLAGS: --exp_name=default\n",
      "I1107 11:30:03.304454 140442535139136 __init__.py:127] FLAGS: --comment=None\n",
      "I1107 11:30:03.305263 140442535139136 __init__.py:127] FLAGS: --benchmark_runner=None\n",
      "I1107 11:30:03.306125 140442535139136 __init__.py:127] FLAGS: --gpus=0,1,2,3,4,5,6,7\n",
      "I1107 11:30:03.307213 140442535139136 __init__.py:127] FLAGS: --amp=False\n",
      "I1107 11:30:03.308021 140442535139136 __init__.py:127] FLAGS: --out_dim=10\n",
      "I1107 11:30:03.308754 140442535139136 __init__.py:127] FLAGS: --dim=2\n",
      "I1107 11:30:03.309492 140442535139136 __init__.py:127] FLAGS: --lr=0.001\n",
      "I1107 11:30:03.310449 140442535139136 __init__.py:127] FLAGS: --epochs=300\n",
      "I1107 11:30:03.311133 140442535139136 __init__.py:127] FLAGS: --warmup=5\n",
      "I1107 11:30:03.311970 140442535139136 __init__.py:127] FLAGS: --bs=128\n",
      "I1107 11:30:03.312907 140442535139136 __init__.py:127] FLAGS: --adam_beta_1=0.9\n",
      "I1107 11:30:03.313842 140442535139136 __init__.py:127] FLAGS: --adam_beta_2=0.999\n",
      "I1107 11:30:03.314604 140442535139136 __init__.py:127] FLAGS: --adam_epsilon=1e-08\n",
      "I1107 11:30:03.315684 140442535139136 __init__.py:127] FLAGS: --l1=0.0\n",
      "I1107 11:30:03.316609 140442535139136 __init__.py:127] FLAGS: --l2=0.0001\n",
      "I1107 11:30:03.317551 140442535139136 __init__.py:127] FLAGS: --kernel_initializer=he_normal\n",
      "I1107 11:30:03.318261 140442535139136 __init__.py:127] FLAGS: --bias_initializer=zeros\n",
      "I1107 11:30:03.319022 140442535139136 __init__.py:127] FLAGS: --padding=same\n",
      "I1107 11:30:03.319797 140442535139136 __init__.py:127] FLAGS: --conv_act=ReLU\n",
      "I1107 11:30:03.320834 140442535139136 __init__.py:127] FLAGS: --conv_norm=BatchNormalization\n",
      "I1107 11:30:03.321679 140442535139136 __init__.py:127] FLAGS: --bn_momentum=0.9\n",
      "I1107 11:30:03.322423 140442535139136 __init__.py:127] FLAGS: --bn_epsilon=1e-05\n",
      "I1107 11:30:03.323582 140442535139136 __init__.py:127] FLAGS: --conv_pooling=AveragePooling\n",
      "I1107 11:30:03.324480 140442535139136 __init__.py:127] FLAGS: --global_pooling=GlobalAveragePooling\n",
      "I1107 11:30:03.325391 140442535139136 __init__.py:127] FLAGS: --model_alpha=200\n",
      "I1107 11:30:03.326472 140442535139136 __init__.py:127] FLAGS: --depth=None\n",
      "I1107 11:30:03.327382 140442535139136 __init__.py:127] FLAGS: --bottleneck=None\n",
      "I1107 11:30:03.328174 140442535139136 __init__.py:127] FLAGS: --filters_mode=small\n",
      "I1107 11:30:03.328944 140442535139136 __init__.py:127] FLAGS: --?=False\n",
      "I1107 11:30:03.329892 140442535139136 __init__.py:127] FLAGS: --help=False\n",
      "I1107 11:30:03.330688 140442535139136 __init__.py:127] FLAGS: --helpshort=False\n",
      "I1107 11:30:03.331483 140442535139136 __init__.py:127] FLAGS: --helpfull=False\n",
      "I1107 11:30:03.332254 140442535139136 __init__.py:127] FLAGS: --helpxml=False\n"
     ]
    }
   ],
   "source": [
    "import sys\n",
    "sys.path.append('..')\n",
    "import tf_rlib\n",
    "from tf_rlib.runners import ClassificationRunner\n",
    "from tf_rlib.utils import purge_logs, set_gpus\n",
    "FLAGS = tf_rlib.FLAGS"
   ]
  },
  {
   "cell_type": "code",
   "execution_count": 2,
   "metadata": {},
   "outputs": [
    {
     "name": "stderr",
     "output_type": "stream",
     "text": [
      "W1107 11:30:03.733974 140442535139136 tools.py:11] purged all logs under :/results\n",
      "W1107 11:30:03.735229 140442535139136 tools.py:22] CUDA_VISIBLE_DEVICES=0\n",
      "I1107 11:30:06.055218 140442535139136 tf_datasets.py:18] mean:[125.3069  122.95015 113.866  ], std:[62.99325  62.088604 66.70501 ]\n",
      "I1107 11:30:08.050026 140442535139136 runner.py:23] Number of devices: 1\n",
      "I1107 11:30:14.966607 140442535139136 runner.py:38] pyramidnet model contains 496812 trainable variables.\n"
     ]
    }
   ],
   "source": [
    "purge_logs()\n",
    "set_gpus('0')\n",
    "# FLAGS.lr=1e-3*4\n",
    "# FLAGS.bs=128*4\n",
    "# https://github.com/dyhan0920/PyramidNet-PyTorch\n",
    "FLAGS.depth=32\n",
    "FLAGS.model_alpha=48\n",
    "FLAGS.bottleneck=False\n",
    "\n",
    "datasets = tf_rlib.datasets.get_cifar10()\n",
    "runner = ClassificationRunner(*datasets)"
   ]
  },
  {
   "cell_type": "code",
   "execution_count": null,
   "metadata": {},
   "outputs": [
    {
     "data": {
      "application/vnd.jupyter.widget-view+json": {
       "model_id": "02324566ddef422dba420fb486bf6c5a",
       "version_major": 2,
       "version_minor": 0
      },
      "text/plain": [
       "HBox(children=(IntProgress(value=1, bar_style='info', description='train', max=1, style=ProgressStyle(descript…"
      ]
     },
     "metadata": {},
     "output_type": "display_data"
    },
    {
     "data": {
      "application/vnd.jupyter.widget-view+json": {
       "model_id": "9eeebd784d574ac4a72b00d082c6529b",
       "version_major": 2,
       "version_minor": 0
      },
      "text/plain": [
       "HBox(children=(IntProgress(value=1, bar_style='info', description='valid', max=1, style=ProgressStyle(descript…"
      ]
     },
     "metadata": {},
     "output_type": "display_data"
    },
    {
     "name": "stderr",
     "output_type": "stream",
     "text": [
      "I1107 11:30:48.886792 140442535139136 metrics_manager.py:61] Best Performance at acc: 0.0659\n",
      "epoch: 1  train_loss: 2.4332  train_acc: 0.0665  valid_loss: 2.4122  valid_acc: 0.0659  samples/sec: 1777.2250\n",
      "\n",
      "I1107 11:31:05.747617 140442535139136 metrics_manager.py:61] Best Performance at acc: 0.5184\n",
      "epoch: 2  train_loss: 1.5931  train_acc: 0.4279  valid_loss: 1.3513  valid_acc: 0.5184  samples/sec: 3566.7392\n",
      "\n",
      "I1107 11:31:22.017710 140442535139136 metrics_manager.py:61] Best Performance at acc: 0.6362\n",
      "epoch: 3  train_loss: 1.1759  train_acc: 0.5833  valid_loss: 1.0204  valid_acc: 0.6362  samples/sec: 3696.4246\n",
      "\n",
      "I1107 11:31:38.182060 140442535139136 metrics_manager.py:61] Best Performance at acc: 0.6750\n",
      "epoch: 4  train_loss: 0.9739  train_acc: 0.6554  valid_loss: 0.9109  valid_acc: 0.6750  samples/sec: 3720.7005\n",
      "\n",
      "I1107 11:31:54.486524 140442535139136 metrics_manager.py:61] Best Performance at acc: 0.6934\n",
      "epoch: 5  train_loss: 0.8440  train_acc: 0.7045  valid_loss: 0.8810  valid_acc: 0.6934  samples/sec: 3688.8707\n",
      "\n"
     ]
    }
   ],
   "source": [
    "runner.fit(FLAGS.epochs, lr=FLAGS.lr)"
   ]
  },
  {
   "cell_type": "code",
   "execution_count": null,
   "metadata": {},
   "outputs": [],
   "source": []
  },
  {
   "cell_type": "code",
   "execution_count": null,
   "metadata": {},
   "outputs": [],
   "source": []
  },
  {
   "cell_type": "code",
   "execution_count": null,
   "metadata": {},
   "outputs": [],
   "source": []
  }
 ],
 "metadata": {
  "kernelspec": {
   "display_name": "Python 3",
   "language": "python",
   "name": "python3"
  },
  "language_info": {
   "codemirror_mode": {
    "name": "ipython",
    "version": 3
   },
   "file_extension": ".py",
   "mimetype": "text/x-python",
   "name": "python",
   "nbconvert_exporter": "python",
   "pygments_lexer": "ipython3",
   "version": "3.6.8"
  }
 },
 "nbformat": 4,
 "nbformat_minor": 4
}
