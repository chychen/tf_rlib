{
 "cells": [
  {
   "cell_type": "code",
   "execution_count": 1,
   "metadata": {},
   "outputs": [
    {
     "name": "stderr",
     "output_type": "stream",
     "text": [
      "I1018 07:28:35.103617 139803244046144 __init__.py:102] init flags\n",
      "I1018 07:28:35.104854 139803244046144 __init__.py:112] FLAGS: --logtostderr=False\n",
      "I1018 07:28:35.105476 139803244046144 __init__.py:112] FLAGS: --alsologtostderr=False\n",
      "I1018 07:28:35.106071 139803244046144 __init__.py:112] FLAGS: --log_dir=\n",
      "I1018 07:28:35.106837 139803244046144 __init__.py:112] FLAGS: --v=0\n",
      "I1018 07:28:35.107594 139803244046144 __init__.py:112] FLAGS: --verbosity=0\n",
      "I1018 07:28:35.108142 139803244046144 __init__.py:112] FLAGS: --stderrthreshold=info\n",
      "I1018 07:28:35.108664 139803244046144 __init__.py:112] FLAGS: --showprefixforinfo=True\n",
      "I1018 07:28:35.109214 139803244046144 __init__.py:112] FLAGS: --run_with_pdb=False\n",
      "I1018 07:28:35.109943 139803244046144 __init__.py:112] FLAGS: --pdb_post_mortem=False\n",
      "I1018 07:28:35.110454 139803244046144 __init__.py:112] FLAGS: --run_with_profiling=False\n",
      "I1018 07:28:35.110960 139803244046144 __init__.py:112] FLAGS: --profile_file=None\n",
      "I1018 07:28:35.111557 139803244046144 __init__.py:112] FLAGS: --use_cprofile_for_profiling=True\n",
      "I1018 07:28:35.112230 139803244046144 __init__.py:112] FLAGS: --only_check_args=False\n",
      "I1018 07:28:35.112860 139803244046144 __init__.py:112] FLAGS: --op_conversion_fallback_to_while_loop=False\n",
      "I1018 07:28:35.113489 139803244046144 __init__.py:112] FLAGS: --test_random_seed=301\n",
      "I1018 07:28:35.113987 139803244046144 __init__.py:112] FLAGS: --test_srcdir=\n",
      "I1018 07:28:35.114524 139803244046144 __init__.py:112] FLAGS: --test_tmpdir=/tmp/absl_testing\n",
      "I1018 07:28:35.115497 139803244046144 __init__.py:112] FLAGS: --test_randomize_ordering_seed=None\n",
      "I1018 07:28:35.116029 139803244046144 __init__.py:112] FLAGS: --xml_output_file=\n",
      "I1018 07:28:35.116530 139803244046144 __init__.py:112] FLAGS: --profile=False\n",
      "I1018 07:28:35.117010 139803244046144 __init__.py:112] FLAGS: --port=6006\n",
      "I1018 07:28:35.117461 139803244046144 __init__.py:112] FLAGS: --local_path=/results\n",
      "I1018 07:28:35.117989 139803244046144 __init__.py:112] FLAGS: --log_path=/results/default/20191018-152835/log\n",
      "I1018 07:28:35.118487 139803244046144 __init__.py:112] FLAGS: --save_path=/results/default/20191018-152835/ckpt\n",
      "I1018 07:28:35.118968 139803244046144 __init__.py:112] FLAGS: --exp_name=default\n",
      "I1018 07:28:35.119473 139803244046144 __init__.py:112] FLAGS: --comment=None\n",
      "I1018 07:28:35.120017 139803244046144 __init__.py:112] FLAGS: --gpus=0\n",
      "I1018 07:28:35.120570 139803244046144 __init__.py:112] FLAGS: --amp=False\n",
      "I1018 07:28:35.121063 139803244046144 __init__.py:112] FLAGS: --out_dim=10\n",
      "I1018 07:28:35.121894 139803244046144 __init__.py:112] FLAGS: --dim=2\n",
      "I1018 07:28:35.122360 139803244046144 __init__.py:112] FLAGS: --lr=0.001\n",
      "I1018 07:28:35.123028 139803244046144 __init__.py:112] FLAGS: --epochs=300\n",
      "I1018 07:28:35.123556 139803244046144 __init__.py:112] FLAGS: --warmup=5\n",
      "I1018 07:28:35.124119 139803244046144 __init__.py:112] FLAGS: --bs=128\n",
      "I1018 07:28:35.124631 139803244046144 __init__.py:112] FLAGS: --adam_beta_1=0.9\n",
      "I1018 07:28:35.125153 139803244046144 __init__.py:112] FLAGS: --adam_beta_2=0.999\n",
      "I1018 07:28:35.125653 139803244046144 __init__.py:112] FLAGS: --adam_epsilon=1e-08\n",
      "I1018 07:28:35.126142 139803244046144 __init__.py:112] FLAGS: --l1=0.0\n",
      "I1018 07:28:35.126633 139803244046144 __init__.py:112] FLAGS: --l2=0.0001\n",
      "I1018 07:28:35.127142 139803244046144 __init__.py:112] FLAGS: --kernel_initializer=he_normal\n",
      "I1018 07:28:35.127605 139803244046144 __init__.py:112] FLAGS: --bias_initializer=zeros\n",
      "I1018 07:28:35.128298 139803244046144 __init__.py:112] FLAGS: --padding=same\n",
      "I1018 07:28:35.128947 139803244046144 __init__.py:112] FLAGS: --conv_act=ReLU\n",
      "I1018 07:28:35.129511 139803244046144 __init__.py:112] FLAGS: --conv_norm=BatchNormalization\n",
      "I1018 07:28:35.130028 139803244046144 __init__.py:112] FLAGS: --bn_momentum=0.9\n",
      "I1018 07:28:35.130539 139803244046144 __init__.py:112] FLAGS: --bn_epsilon=1e-05\n",
      "I1018 07:28:35.131004 139803244046144 __init__.py:112] FLAGS: --conv_pooling=AveragePooling\n",
      "I1018 07:28:35.131548 139803244046144 __init__.py:112] FLAGS: --global_pooling=GlobalAveragePooling\n",
      "I1018 07:28:35.132098 139803244046144 __init__.py:112] FLAGS: --model_alpha=200\n",
      "I1018 07:28:35.132615 139803244046144 __init__.py:112] FLAGS: --depth=62\n",
      "I1018 07:28:35.133116 139803244046144 __init__.py:112] FLAGS: --bottleneck=True\n",
      "I1018 07:28:35.133666 139803244046144 __init__.py:112] FLAGS: --filters_mode=small\n",
      "I1018 07:28:35.134175 139803244046144 __init__.py:112] FLAGS: --?=False\n",
      "I1018 07:28:35.134672 139803244046144 __init__.py:112] FLAGS: --help=False\n",
      "I1018 07:28:35.135271 139803244046144 __init__.py:112] FLAGS: --helpshort=False\n",
      "I1018 07:28:35.135870 139803244046144 __init__.py:112] FLAGS: --helpfull=False\n",
      "I1018 07:28:35.136486 139803244046144 __init__.py:112] FLAGS: --helpxml=False\n",
      "I1018 07:28:35.137446 139803244046144 __init__.py:116] CUDA_VISIBLE_DEVICES=0\n",
      "I1018 07:28:35.153512 139803244046144 __init__.py:134] launching tensorboard --logdir /results/default/20191018-152835/log --bind_all --port 6006\n"
     ]
    }
   ],
   "source": [
    "import sys\n",
    "sys.path.append('..')\n",
    "import tf_rlib\n",
    "from tf_rlib.runners import ClassificationRunner\n",
    "FLAGS = tf_rlib.FLAGS"
   ]
  },
  {
   "cell_type": "code",
   "execution_count": 2,
   "metadata": {},
   "outputs": [
    {
     "name": "stderr",
     "output_type": "stream",
     "text": [
      "I1018 07:28:37.669380 139803244046144 tf_datasets.py:18] mean:[125.3069  122.95015 113.866  ], std:[62.99325  62.088604 66.70501 ]\n",
      "I1018 07:28:39.539405 139803244046144 pyramidnet.py:65] block id: 1, filters: 19\n",
      "I1018 07:28:39.549973 139803244046144 pyramidnet.py:65] block id: 2, filters: 22\n",
      "I1018 07:28:39.558452 139803244046144 pyramidnet.py:65] block id: 3, filters: 25\n",
      "I1018 07:28:39.566903 139803244046144 pyramidnet.py:65] block id: 4, filters: 28\n",
      "I1018 07:28:39.574537 139803244046144 pyramidnet.py:65] block id: 5, filters: 32\n",
      "I1018 07:28:39.588063 139803244046144 pyramidnet.py:65] block id: 6, filters: 35\n",
      "I1018 07:28:39.598749 139803244046144 pyramidnet.py:65] block id: 7, filters: 38\n",
      "I1018 07:28:39.607639 139803244046144 pyramidnet.py:65] block id: 8, filters: 41\n",
      "I1018 07:28:39.616494 139803244046144 pyramidnet.py:65] block id: 9, filters: 44\n",
      "I1018 07:28:39.624684 139803244046144 pyramidnet.py:65] block id: 10, filters: 48\n",
      "I1018 07:28:39.637225 139803244046144 pyramidnet.py:65] block id: 11, filters: 51\n",
      "I1018 07:28:39.646492 139803244046144 pyramidnet.py:65] block id: 12, filters: 54\n",
      "I1018 07:28:39.655078 139803244046144 pyramidnet.py:65] block id: 13, filters: 57\n",
      "I1018 07:28:39.662938 139803244046144 pyramidnet.py:65] block id: 14, filters: 60\n",
      "I1018 07:28:39.672128 139803244046144 pyramidnet.py:65] block id: 15, filters: 64\n",
      "I1018 07:28:44.255221 139803244046144 runner.py:33] 496828\n"
     ]
    }
   ],
   "source": [
    "# https://github.com/dyhan0920/PyramidNet-PyTorch\n",
    "FLAGS.depth=32\n",
    "FLAGS.model_alpha=48\n",
    "FLAGS.bottleneck=False\n",
    "\n",
    "datasets = tf_rlib.datasets.get_cifar10()\n",
    "runner = ClassificationRunner(*datasets)"
   ]
  },
  {
   "cell_type": "code",
   "execution_count": null,
   "metadata": {},
   "outputs": [
    {
     "data": {
      "application/vnd.jupyter.widget-view+json": {
       "model_id": "659080f525244def9a759c973de70fe5",
       "version_major": 2,
       "version_minor": 0
      },
      "text/plain": [
       "HBox(children=(IntProgress(value=0, description='train', max=391, style=ProgressStyle(description_width='initi…"
      ]
     },
     "metadata": {},
     "output_type": "display_data"
    },
    {
     "data": {
      "application/vnd.jupyter.widget-view+json": {
       "model_id": "5081f61657e74855bbe91452859cab57",
       "version_major": 2,
       "version_minor": 0
      },
      "text/plain": [
       "HBox(children=(IntProgress(value=0, description='valid', max=79, style=ProgressStyle(description_width='initia…"
      ]
     },
     "metadata": {},
     "output_type": "display_data"
    },
    {
     "name": "stderr",
     "output_type": "stream",
     "text": [
      "I1018 07:29:22.126763 139803244046144 metrics_manager.py:55] Best Performance at acc: 0.0813\n",
      "epoch: 1  train_loss: 2.3965  train_acc: 0.0756  valid_loss: 2.3944  valid_acc: 0.0813  samples/sec: 1794.1006\n",
      "\n",
      "I1018 07:29:37.950513 139803244046144 metrics_manager.py:55] Best Performance at acc: 0.5255\n",
      "epoch: 2  train_loss: 1.5849  train_acc: 0.4306  valid_loss: 1.3302  valid_acc: 0.5255  samples/sec: 3806.1440\n",
      "\n",
      "I1018 07:30:02.804184 139803244046144 metrics_manager.py:55] Best Performance at acc: 0.6050\n",
      "epoch: 3  train_loss: 1.1837  train_acc: 0.5811  valid_loss: 1.1143  valid_acc: 0.6050  samples/sec: 2422.5212\n",
      "\n",
      "I1018 07:30:18.797805 139803244046144 metrics_manager.py:55] Best Performance at acc: 0.6939\n",
      "epoch: 4  train_loss: 0.9714  train_acc: 0.6582  valid_loss: 0.8761  valid_acc: 0.6939  samples/sec: 3765.8527\n",
      "\n",
      "I1018 07:30:34.265234 139803244046144 metrics_manager.py:55] Best Performance at acc: 0.7085\n",
      "epoch: 5  train_loss: 0.8311  train_acc: 0.7099  valid_loss: 0.8476  valid_acc: 0.7085  samples/sec: 3893.8691\n",
      "\n",
      "I1018 07:30:49.793552 139803244046144 metrics_manager.py:55] Best Performance at acc: 0.7195\n",
      "epoch: 6  train_loss: 0.7384  train_acc: 0.7423  valid_loss: 0.8334  valid_acc: 0.7195  samples/sec: 3879.1937\n",
      "\n",
      "I1018 07:31:05.089835 139803244046144 metrics_manager.py:55] Best Performance at acc: 0.7717\n",
      "epoch: 7  train_loss: 0.6487  train_acc: 0.7751  valid_loss: 0.6541  valid_acc: 0.7717  samples/sec: 3937.7844\n",
      "\n",
      "I1018 07:31:20.135391 139803244046144 metrics_manager.py:55] Best Performance at acc: 0.8041\n",
      "epoch: 8  train_loss: 0.5930  train_acc: 0.7948  valid_loss: 0.5741  valid_acc: 0.8041  samples/sec: 4003.7530\n",
      "\n",
      "I1018 07:31:35.338911 139803244046144 metrics_manager.py:55] \n",
      "epoch: 9  train_loss: 0.5449  train_acc: 0.8127  valid_loss: 0.6280  valid_acc: 0.7811  samples/sec: 3961.8014\n",
      "\n",
      "I1018 07:31:50.169179 139803244046144 metrics_manager.py:55] \n",
      "epoch: 10  train_loss: 0.5072  train_acc: 0.8250  valid_loss: 0.6013  valid_acc: 0.7945  samples/sec: 4062.1383\n",
      "\n",
      "I1018 07:32:05.394823 139803244046144 metrics_manager.py:55] Best Performance at acc: 0.8297\n",
      "epoch: 11  train_loss: 0.4810  train_acc: 0.8339  valid_loss: 0.4960  valid_acc: 0.8297  samples/sec: 3956.0926\n",
      "\n"
     ]
    }
   ],
   "source": [
    "runner.fit(FLAGS.epochs, lr=FLAGS.lr)"
   ]
  },
  {
   "cell_type": "code",
   "execution_count": null,
   "metadata": {},
   "outputs": [],
   "source": []
  }
 ],
 "metadata": {
  "kernelspec": {
   "display_name": "Python 3",
   "language": "python",
   "name": "python3"
  },
  "language_info": {
   "codemirror_mode": {
    "name": "ipython",
    "version": 3
   },
   "file_extension": ".py",
   "mimetype": "text/x-python",
   "name": "python",
   "nbconvert_exporter": "python",
   "pygments_lexer": "ipython3",
   "version": "3.6.8"
  }
 },
 "nbformat": 4,
 "nbformat_minor": 4
}
