{
 "cells": [
  {
   "cell_type": "code",
   "execution_count": 1,
   "metadata": {},
   "outputs": [
    {
     "name": "stderr",
     "output_type": "stream",
     "text": [
      "I1107 12:20:03.922753 140670394017600 __init__.py:105] init flags\n",
      "I1107 12:20:03.979937 140670394017600 __init__.py:127] FLAGS: --logtostderr=False\n",
      "I1107 12:20:03.981436 140670394017600 __init__.py:127] FLAGS: --alsologtostderr=False\n",
      "I1107 12:20:03.982545 140670394017600 __init__.py:127] FLAGS: --log_dir=\n",
      "I1107 12:20:03.983554 140670394017600 __init__.py:127] FLAGS: --v=0\n",
      "I1107 12:20:03.984745 140670394017600 __init__.py:127] FLAGS: --verbosity=0\n",
      "I1107 12:20:03.985653 140670394017600 __init__.py:127] FLAGS: --stderrthreshold=fatal\n",
      "I1107 12:20:03.986718 140670394017600 __init__.py:127] FLAGS: --showprefixforinfo=True\n",
      "I1107 12:20:03.987492 140670394017600 __init__.py:127] FLAGS: --run_with_pdb=False\n",
      "I1107 12:20:03.988876 140670394017600 __init__.py:127] FLAGS: --pdb_post_mortem=False\n",
      "I1107 12:20:03.989935 140670394017600 __init__.py:127] FLAGS: --run_with_profiling=False\n",
      "I1107 12:20:03.991014 140670394017600 __init__.py:127] FLAGS: --profile_file=None\n",
      "I1107 12:20:03.991925 140670394017600 __init__.py:127] FLAGS: --use_cprofile_for_profiling=True\n",
      "I1107 12:20:03.992927 140670394017600 __init__.py:127] FLAGS: --only_check_args=False\n",
      "I1107 12:20:03.993753 140670394017600 __init__.py:127] FLAGS: --op_conversion_fallback_to_while_loop=False\n",
      "I1107 12:20:03.994652 140670394017600 __init__.py:127] FLAGS: --test_random_seed=301\n",
      "I1107 12:20:03.995482 140670394017600 __init__.py:127] FLAGS: --test_srcdir=\n",
      "I1107 12:20:03.996319 140670394017600 __init__.py:127] FLAGS: --test_tmpdir=/tmp/absl_testing\n",
      "I1107 12:20:03.997225 140670394017600 __init__.py:127] FLAGS: --test_randomize_ordering_seed=None\n",
      "I1107 12:20:03.998069 140670394017600 __init__.py:127] FLAGS: --xml_output_file=\n",
      "I1107 12:20:03.998794 140670394017600 __init__.py:127] FLAGS: --log_level=INFO\n",
      "I1107 12:20:04.000000 140670394017600 __init__.py:127] FLAGS: --profile=False\n",
      "I1107 12:20:04.001041 140670394017600 __init__.py:127] FLAGS: --purge_logs=False\n",
      "I1107 12:20:04.003080 140670394017600 __init__.py:127] FLAGS: --local_path=/results\n",
      "I1107 12:20:04.004132 140670394017600 __init__.py:127] FLAGS: --log_path=/results/default/20191107-202003/log\n",
      "I1107 12:20:04.005013 140670394017600 __init__.py:127] FLAGS: --save_path=/results/default/20191107-202003/ckpt\n",
      "I1107 12:20:04.005800 140670394017600 __init__.py:127] FLAGS: --exp_name=default\n",
      "I1107 12:20:04.006650 140670394017600 __init__.py:127] FLAGS: --comment=None\n",
      "I1107 12:20:04.007814 140670394017600 __init__.py:127] FLAGS: --benchmark_runner=None\n",
      "I1107 12:20:04.008602 140670394017600 __init__.py:127] FLAGS: --gpus=0,1,2,3,4,5,6,7\n",
      "I1107 12:20:04.009466 140670394017600 __init__.py:127] FLAGS: --amp=False\n",
      "I1107 12:20:04.010301 140670394017600 __init__.py:127] FLAGS: --out_dim=10\n",
      "I1107 12:20:04.011134 140670394017600 __init__.py:127] FLAGS: --dim=2\n",
      "I1107 12:20:04.012061 140670394017600 __init__.py:127] FLAGS: --lr=0.001\n",
      "I1107 12:20:04.012849 140670394017600 __init__.py:127] FLAGS: --epochs=300\n",
      "I1107 12:20:04.013776 140670394017600 __init__.py:127] FLAGS: --warmup=5\n",
      "I1107 12:20:04.014554 140670394017600 __init__.py:127] FLAGS: --bs=128\n",
      "I1107 12:20:04.015386 140670394017600 __init__.py:127] FLAGS: --adam_beta_1=0.9\n",
      "I1107 12:20:04.016140 140670394017600 __init__.py:127] FLAGS: --adam_beta_2=0.999\n",
      "I1107 12:20:04.016918 140670394017600 __init__.py:127] FLAGS: --adam_epsilon=1e-08\n",
      "I1107 12:20:04.017756 140670394017600 __init__.py:127] FLAGS: --l1=0.0\n",
      "I1107 12:20:04.018527 140670394017600 __init__.py:127] FLAGS: --l2=0.0001\n",
      "I1107 12:20:04.019368 140670394017600 __init__.py:127] FLAGS: --kernel_initializer=he_normal\n",
      "I1107 12:20:04.020462 140670394017600 __init__.py:127] FLAGS: --bias_initializer=zeros\n",
      "I1107 12:20:04.021215 140670394017600 __init__.py:127] FLAGS: --padding=same\n",
      "I1107 12:20:04.022060 140670394017600 __init__.py:127] FLAGS: --conv_act=ReLU\n",
      "I1107 12:20:04.022866 140670394017600 __init__.py:127] FLAGS: --conv_norm=BatchNormalization\n",
      "I1107 12:20:04.023672 140670394017600 __init__.py:127] FLAGS: --bn_momentum=0.9\n",
      "I1107 12:20:04.024698 140670394017600 __init__.py:127] FLAGS: --bn_epsilon=1e-05\n",
      "I1107 12:20:04.025714 140670394017600 __init__.py:127] FLAGS: --conv_pooling=AveragePooling\n",
      "I1107 12:20:04.026507 140670394017600 __init__.py:127] FLAGS: --global_pooling=GlobalAveragePooling\n",
      "I1107 12:20:04.027742 140670394017600 __init__.py:127] FLAGS: --model_alpha=200\n",
      "I1107 12:20:04.028487 140670394017600 __init__.py:127] FLAGS: --depth=None\n",
      "I1107 12:20:04.029544 140670394017600 __init__.py:127] FLAGS: --bottleneck=None\n",
      "I1107 12:20:04.030313 140670394017600 __init__.py:127] FLAGS: --filters_mode=small\n",
      "I1107 12:20:04.031081 140670394017600 __init__.py:127] FLAGS: --?=False\n",
      "I1107 12:20:04.031934 140670394017600 __init__.py:127] FLAGS: --help=False\n",
      "I1107 12:20:04.032724 140670394017600 __init__.py:127] FLAGS: --helpshort=False\n",
      "I1107 12:20:04.033487 140670394017600 __init__.py:127] FLAGS: --helpfull=False\n",
      "I1107 12:20:04.034277 140670394017600 __init__.py:127] FLAGS: --helpxml=False\n"
     ]
    }
   ],
   "source": [
    "import sys\n",
    "sys.path.append('..')\n",
    "import tf_rlib\n",
    "from tf_rlib.runners import ClassificationRunner\n",
    "FLAGS = tf_rlib.FLAGS"
   ]
  },
  {
   "cell_type": "code",
   "execution_count": 2,
   "metadata": {},
   "outputs": [
    {
     "name": "stderr",
     "output_type": "stream",
     "text": [
      "W1107 12:20:04.341313 140670394017600 tools.py:11] purged all logs under :/results\n",
      "W1107 12:20:04.342624 140670394017600 tools.py:22] CUDA_VISIBLE_DEVICES=0\n",
      "I1107 12:20:06.669344 140670394017600 tf_datasets.py:18] mean:[125.3069  122.95015 113.866  ], std:[62.99325  62.088604 66.70501 ]\n",
      "I1107 12:20:08.244516 140670394017600 runner.py:26] Number of devices: 1\n",
      "I1107 12:20:08.260323 140670394017600 pyramidnet.py:68] block id: 1, filters: 20\n",
      "I1107 12:20:08.272175 140670394017600 pyramidnet.py:68] block id: 2, filters: 25\n",
      "I1107 12:20:08.282073 140670394017600 pyramidnet.py:68] block id: 3, filters: 30\n",
      "I1107 12:20:08.297672 140670394017600 pyramidnet.py:68] block id: 4, filters: 35\n",
      "I1107 12:20:08.310068 140670394017600 pyramidnet.py:68] block id: 5, filters: 40\n",
      "I1107 12:20:08.320745 140670394017600 pyramidnet.py:68] block id: 6, filters: 44\n",
      "I1107 12:20:08.333528 140670394017600 pyramidnet.py:68] block id: 7, filters: 49\n",
      "I1107 12:20:08.344788 140670394017600 pyramidnet.py:68] block id: 8, filters: 54\n",
      "I1107 12:20:08.355057 140670394017600 pyramidnet.py:68] block id: 9, filters: 59\n",
      "I1107 12:20:08.366642 140670394017600 pyramidnet.py:68] block id: 10, filters: 64\n",
      "I1107 12:20:14.403408 140670394017600 runner.py:41] pyramidnet model contains 335222 trainable variables.\n"
     ]
    }
   ],
   "source": [
    "tf_rlib.utils.purge_logs()\n",
    "tf_rlib.utils.set_gpus('0')\n",
    "tf_rlib.utils.set_logging('DEBUG')\n",
    "# https://github.com/dyhan0920/PyramidNet-PyTorch\n",
    "FLAGS.depth=32\n",
    "FLAGS.model_alpha=48\n",
    "FLAGS.bottleneck=True\n",
    "\n",
    "datasets = tf_rlib.datasets.get_cifar10()\n",
    "runner = ClassificationRunner(*datasets)"
   ]
  },
  {
   "cell_type": "code",
   "execution_count": null,
   "metadata": {},
   "outputs": [
    {
     "data": {
      "application/vnd.jupyter.widget-view+json": {
       "model_id": "3ce8d6253c594f058e6e201020c9f6a9",
       "version_major": 2,
       "version_minor": 0
      },
      "text/plain": [
       "HBox(children=(IntProgress(value=1, bar_style='info', description='train', max=1, style=ProgressStyle(descript…"
      ]
     },
     "metadata": {},
     "output_type": "display_data"
    },
    {
     "data": {
      "application/vnd.jupyter.widget-view+json": {
       "model_id": "04ed1a4cf6d14cb39d38c393cba4cf2f",
       "version_major": 2,
       "version_minor": 0
      },
      "text/plain": [
       "HBox(children=(IntProgress(value=1, bar_style='info', description='valid', max=1, style=ProgressStyle(descript…"
      ]
     },
     "metadata": {},
     "output_type": "display_data"
    },
    {
     "name": "stderr",
     "output_type": "stream",
     "text": [
      "I1107 12:20:50.146745 140670394017600 metrics_manager.py:61] Best Performance at acc: 0.0745\n",
      "epoch: 1  train_loss: 2.4664  train_acc: 0.0789  valid_loss: 2.4516  valid_acc: 0.0745  samples/sec: 1704.5516\n",
      "\n",
      "I1107 12:21:09.451940 140670394017600 metrics_manager.py:61] Best Performance at acc: 0.5013\n",
      "epoch: 2  train_loss: 1.6557  train_acc: 0.4012  valid_loss: 1.3536  valid_acc: 0.5013  samples/sec: 3114.6291\n",
      "\n"
     ]
    }
   ],
   "source": [
    "runner.fit(FLAGS.epochs, lr=FLAGS.lr)"
   ]
  },
  {
   "cell_type": "code",
   "execution_count": null,
   "metadata": {},
   "outputs": [],
   "source": []
  },
  {
   "cell_type": "code",
   "execution_count": null,
   "metadata": {},
   "outputs": [],
   "source": []
  },
  {
   "cell_type": "code",
   "execution_count": null,
   "metadata": {},
   "outputs": [],
   "source": []
  }
 ],
 "metadata": {
  "kernelspec": {
   "display_name": "Python 3",
   "language": "python",
   "name": "python3"
  },
  "language_info": {
   "codemirror_mode": {
    "name": "ipython",
    "version": 3
   },
   "file_extension": ".py",
   "mimetype": "text/x-python",
   "name": "python",
   "nbconvert_exporter": "python",
   "pygments_lexer": "ipython3",
   "version": "3.6.8"
  }
 },
 "nbformat": 4,
 "nbformat_minor": 4
}
