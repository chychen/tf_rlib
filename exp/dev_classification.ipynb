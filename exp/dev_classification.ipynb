{
 "cells": [
  {
   "cell_type": "code",
   "execution_count": 1,
   "metadata": {},
   "outputs": [
    {
     "name": "stderr",
     "output_type": "stream",
     "text": [
      "I1013 14:27:38.373542 140108592224064 __init__.py:96] init flags\n",
      "I1013 14:27:38.374028 140108592224064 __init__.py:100] CUDA_VISIBLE_DEVICES=0\n",
      "I1013 14:27:38.375034 140108592224064 __init__.py:119] launching Tensorboard at: /results/20191013-222738/log port: 6006 ... (this is a fire-and-forget thread so no error message if failed)\n"
     ]
    }
   ],
   "source": [
    "import sys\n",
    "sys.path.append('..')\n",
    "import tf_rlib\n",
    "from tf_rlib.runners import ClassificationRunner\n",
    "FLAGS = tf_rlib.FLAGS"
   ]
  },
  {
   "cell_type": "code",
   "execution_count": 2,
   "metadata": {},
   "outputs": [
    {
     "name": "stderr",
     "output_type": "stream",
     "text": [
      "I1013 14:27:39.349190 140108592224064 tf_datasets.py:18] mean:[125.3069  122.95015 113.866  ], std:[62.99325  62.088604 66.70501 ]\n",
      "I1013 14:27:40.138640 140108592224064 pyramidnet.py:62] block id: 1, filters: 19\n",
      "I1013 14:27:40.145295 140108592224064 pyramidnet.py:62] block id: 2, filters: 22\n",
      "I1013 14:27:40.150974 140108592224064 pyramidnet.py:62] block id: 3, filters: 25\n",
      "I1013 14:27:40.156522 140108592224064 pyramidnet.py:62] block id: 4, filters: 28\n",
      "I1013 14:27:40.162031 140108592224064 pyramidnet.py:62] block id: 5, filters: 32\n",
      "I1013 14:27:40.172337 140108592224064 pyramidnet.py:62] block id: 6, filters: 35\n",
      "I1013 14:27:40.179361 140108592224064 pyramidnet.py:62] block id: 7, filters: 38\n",
      "I1013 14:27:40.184900 140108592224064 pyramidnet.py:62] block id: 8, filters: 41\n",
      "I1013 14:27:40.190417 140108592224064 pyramidnet.py:62] block id: 9, filters: 44\n",
      "I1013 14:27:40.196000 140108592224064 pyramidnet.py:62] block id: 10, filters: 48\n",
      "I1013 14:27:40.205338 140108592224064 pyramidnet.py:62] block id: 11, filters: 51\n",
      "I1013 14:27:40.211408 140108592224064 pyramidnet.py:62] block id: 12, filters: 54\n",
      "I1013 14:27:40.217308 140108592224064 pyramidnet.py:62] block id: 13, filters: 57\n",
      "I1013 14:27:40.222899 140108592224064 pyramidnet.py:62] block id: 14, filters: 60\n",
      "I1013 14:27:40.228476 140108592224064 pyramidnet.py:62] block id: 15, filters: 64\n",
      "I1013 14:27:43.025770 140108592224064 runner.py:33] 496828\n"
     ]
    }
   ],
   "source": [
    "# https://github.com/dyhan0920/PyramidNet-PyTorch\n",
    "FLAGS.depth=32\n",
    "# FLAGS.depth=110\n",
    "FLAGS.model_alpha=48\n",
    "FLAGS.bottleneck=False\n",
    "FLAGS.amp=False\n",
    "\n",
    "datasets = tf_rlib.datasets.get_cifar10()\n",
    "runner = ClassificationRunner(*datasets)"
   ]
  },
  {
   "cell_type": "code",
   "execution_count": null,
   "metadata": {},
   "outputs": [
    {
     "data": {
      "application/vnd.jupyter.widget-view+json": {
       "model_id": "75fbea1fca1a491c9da215b44ecf78b2",
       "version_major": 2,
       "version_minor": 0
      },
      "text/plain": [
       "HBox(children=(IntProgress(value=0, description='train', max=390, style=ProgressStyle(description_width='initi…"
      ]
     },
     "metadata": {},
     "output_type": "display_data"
    },
    {
     "data": {
      "application/vnd.jupyter.widget-view+json": {
       "model_id": "c56a791a8c424eb2a79c5885fd562c9f",
       "version_major": 2,
       "version_minor": 0
      },
      "text/plain": [
       "HBox(children=(IntProgress(value=0, description='valid', max=79, style=ProgressStyle(description_width='initia…"
      ]
     },
     "metadata": {},
     "output_type": "display_data"
    },
    {
     "name": "stderr",
     "output_type": "stream",
     "text": [
      "I1013 14:28:04.047462 140108592224064 metrics_manager.py:55] Best Performance at acc: 0.3791\n",
      "epoch: 1  train_loss: 1.9601  train_acc: 0.2873  valid_loss: 1.7343  valid_acc: 0.3791  samples/sec: 3035.0380\n",
      "\n",
      "I1013 14:28:16.362634 140108592224064 metrics_manager.py:55] Best Performance at acc: 0.4093\n",
      "epoch: 2  train_loss: 1.8160  train_acc: 0.3420  valid_loss: 1.6418  valid_acc: 0.4093  samples/sec: 4876.5992\n",
      "\n",
      "I1013 14:28:28.946376 140108592224064 metrics_manager.py:55] Best Performance at acc: 0.4326\n",
      "epoch: 3  train_loss: 1.7197  train_acc: 0.3772  valid_loss: 1.5717  valid_acc: 0.4326  samples/sec: 4772.3872\n",
      "\n",
      "I1013 14:28:41.363241 140108592224064 metrics_manager.py:55] Best Performance at acc: 0.4519\n",
      "epoch: 4  train_loss: 1.6445  train_acc: 0.4057  valid_loss: 1.5164  valid_acc: 0.4519  samples/sec: 4836.6249\n",
      "\n",
      "I1013 14:28:53.647765 140108592224064 metrics_manager.py:55] Best Performance at acc: 0.4691\n",
      "epoch: 5  train_loss: 1.5822  train_acc: 0.4294  valid_loss: 1.4687  valid_acc: 0.4691  samples/sec: 4888.7773\n",
      "\n",
      "I1013 14:29:06.909035 140108592224064 metrics_manager.py:55] Best Performance at acc: 0.4852\n",
      "epoch: 6  train_loss: 1.5278  train_acc: 0.4503  valid_loss: 1.4235  valid_acc: 0.4852  samples/sec: 4528.5473\n",
      "\n",
      "I1013 14:29:19.120015 140108592224064 metrics_manager.py:55] Best Performance at acc: 0.4973\n",
      "epoch: 7  train_loss: 1.4793  train_acc: 0.4687  valid_loss: 1.3896  valid_acc: 0.4973  samples/sec: 4918.1455\n",
      "\n",
      "I1013 14:29:31.992945 140108592224064 metrics_manager.py:55] Best Performance at acc: 0.5105\n",
      "epoch: 8  train_loss: 1.4356  train_acc: 0.4847  valid_loss: 1.3541  valid_acc: 0.5105  samples/sec: 4665.2255\n",
      "\n",
      "I1013 14:29:45.397285 140108592224064 metrics_manager.py:55] Best Performance at acc: 0.5206\n",
      "epoch: 9  train_loss: 1.3962  train_acc: 0.4993  valid_loss: 1.3258  valid_acc: 0.5206  samples/sec: 4480.1469\n",
      "\n"
     ]
    }
   ],
   "source": [
    "runner.fit(300)"
   ]
  },
  {
   "cell_type": "code",
   "execution_count": null,
   "metadata": {},
   "outputs": [],
   "source": []
  }
 ],
 "metadata": {
  "kernelspec": {
   "display_name": "Python 3",
   "language": "python",
   "name": "python3"
  },
  "language_info": {
   "codemirror_mode": {
    "name": "ipython",
    "version": 3
   },
   "file_extension": ".py",
   "mimetype": "text/x-python",
   "name": "python",
   "nbconvert_exporter": "python",
   "pygments_lexer": "ipython3",
   "version": "3.6.8"
  }
 },
 "nbformat": 4,
 "nbformat_minor": 4
}
