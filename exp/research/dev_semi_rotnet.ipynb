{
 "cells": [
  {
   "cell_type": "code",
   "execution_count": null,
   "metadata": {
    "scrolled": true
   },
   "outputs": [],
   "source": [
    "def f():\n",
    "    import sys\n",
    "    sys.path.append('../..')\n",
    "    import tf_rlib\n",
    "    from tf_rlib.runners.research import RotNetRunner, SemiRotNetRunner\n",
    "    FLAGS = tf_rlib.FLAGS\n",
    "\n",
    "#     tf_rlib.utils.purge_logs()\n",
    "    tf_rlib.utils.set_gpus('0')\n",
    "    tf_rlib.utils.set_logging('WARN')\n",
    "\n",
    "    FLAGS.exp_name='PretrainRotNet'\n",
    "\n",
    "    FLAGS.xla=True\n",
    "    FLAGS.amp=True\n",
    "\n",
    "    FLAGS.bs=128\n",
    "    FLAGS.dim=2\n",
    "    FLAGS.out_dim=4\n",
    "    FLAGS.lr=1e-3\n",
    "    FLAGS.wd=1e-4\n",
    "    FLAGS.epochs=300\n",
    "\n",
    "    if FLAGS.amp:\n",
    "        FLAGS.lr = FLAGS.lr*2\n",
    "        FLAGS.bs = FLAGS.bs*2\n",
    "\n",
    "    datasets = tf_rlib.datasets.Cifar10Rotate().get_data()\n",
    "    runner = RotNetRunner(*datasets)\n",
    "    runner.fit(FLAGS.epochs, lr=FLAGS.lr)\n",
    "    paths = runner.get_saved_models_path()"
   ]
  },
  {
   "cell_type": "code",
   "execution_count": null,
   "metadata": {},
   "outputs": [],
   "source": [
    "from multiprocessing import Process\n",
    "p = Process(target=f, args=())\n",
    "p.start()\n",
    "p.join()"
   ]
  },
  {
   "cell_type": "markdown",
   "metadata": {},
   "source": [
    "## Semi-supervised on Pretrained RotNet "
   ]
  },
  {
   "cell_type": "code",
   "execution_count": null,
   "metadata": {},
   "outputs": [],
   "source": [
    "def exp_fixed_num_layers(k):\n",
    "    paths={'pretrained_resnet18':'/results/PretrainRotNet/20200424-092318/ckpt/best/pretrained_resnet18', \n",
    "           'tail':'/results/PretrainRotNet/20200424-092318/ckpt/best/tail'}\n",
    "    import sys\n",
    "    sys.path.append('../..')\n",
    "    import tf_rlib\n",
    "    from tf_rlib.runners.research import RotNetRunner, SemiRotNetRunner\n",
    "    FLAGS = tf_rlib.FLAGS\n",
    "\n",
    "    # tf_rlib.utils.purge_logs()\n",
    "    tf_rlib.utils.set_gpus('0')\n",
    "    tf_rlib.utils.set_logging('WARN')\n",
    "\n",
    "    FLAGS.exp_name='Semi_on_PretrainRotNet_{}'.format(k)\n",
    "\n",
    "    FLAGS.xla=True\n",
    "    FLAGS.amp=True\n",
    "\n",
    "    FLAGS.bs=128\n",
    "    FLAGS.dim=2\n",
    "    FLAGS.out_dim=10\n",
    "    FLAGS.lr=1e-3\n",
    "    FLAGS.wd=1e-4\n",
    "    FLAGS.epochs=300\n",
    "    if FLAGS.amp:\n",
    "        FLAGS.lr = FLAGS.lr*2\n",
    "        FLAGS.bs = FLAGS.bs*2\n",
    "\n",
    "    datasets = tf_rlib.datasets.Cifar10Semi(0.1).get_data()\n",
    "    runner = SemiRotNetRunner(*datasets)\n",
    "    runner.load_front_layers(paths['pretrained_resnet18'], k)\n",
    "    for lay in runner.model.layers:\n",
    "        print(lay.name, lay.trainable)\n",
    "    runner.fit(FLAGS.epochs, lr=FLAGS.lr)"
   ]
  },
  {
   "cell_type": "code",
   "execution_count": null,
   "metadata": {},
   "outputs": [],
   "source": [
    "from multiprocessing import Process\n",
    "for i in range(1, 6):\n",
    "    p = Process(target=exp_fixed_num_layers, args=(i,))\n",
    "    p.start()\n",
    "    p.join()"
   ]
  },
  {
   "cell_type": "markdown",
   "metadata": {},
   "source": [
    "## Supervised on Low-label Regiem"
   ]
  },
  {
   "cell_type": "code",
   "execution_count": null,
   "metadata": {},
   "outputs": [],
   "source": [
    "def f():\n",
    "    import sys\n",
    "    sys.path.append('../..')\n",
    "    import tf_rlib\n",
    "    from tf_rlib.runners.research import RotNetRunner, SemiRotNetRunner\n",
    "    FLAGS = tf_rlib.FLAGS\n",
    "\n",
    "    # tf_rlib.utils.purge_logs()\n",
    "    tf_rlib.utils.set_gpus('0')\n",
    "    tf_rlib.utils.set_logging('WARN')\n",
    "\n",
    "    FLAGS.exp_name='Supervised_LowLabel'\n",
    "\n",
    "    FLAGS.xla=True\n",
    "    FLAGS.amp=True\n",
    "\n",
    "    FLAGS.bs=128\n",
    "    FLAGS.dim=2\n",
    "    FLAGS.out_dim=10\n",
    "    FLAGS.lr=1e-3\n",
    "    FLAGS.wd=1e-4\n",
    "    FLAGS.epochs=300\n",
    "    if FLAGS.amp:\n",
    "        FLAGS.lr = FLAGS.lr*2\n",
    "        FLAGS.bs = FLAGS.bs*2\n",
    "\n",
    "    datasets = tf_rlib.datasets.Cifar10Semi(0.1).get_data()\n",
    "    runner = SemiRotNetRunner(*datasets)\n",
    "    runner.fit(FLAGS.epochs, lr=FLAGS.lr)"
   ]
  },
  {
   "cell_type": "code",
   "execution_count": null,
   "metadata": {},
   "outputs": [],
   "source": [
    "from multiprocessing import Process\n",
    "p = Process(target=f, args=())\n",
    "p.start()\n",
    "p.join()"
   ]
  },
  {
   "cell_type": "markdown",
   "metadata": {},
   "source": [
    "## Supervised on Full-label Regiem"
   ]
  },
  {
   "cell_type": "code",
   "execution_count": null,
   "metadata": {},
   "outputs": [],
   "source": [
    "def f():\n",
    "    import sys\n",
    "    sys.path.append('../..')\n",
    "    import tf_rlib\n",
    "    from tf_rlib.runners.research import RotNetRunner, SemiRotNetRunner\n",
    "    FLAGS = tf_rlib.FLAGS\n",
    "\n",
    "    # tf_rlib.utils.purge_logs()\n",
    "    tf_rlib.utils.set_gpus('0')\n",
    "    tf_rlib.utils.set_logging('WARN')\n",
    "\n",
    "    FLAGS.exp_name='Supervised_FullLabel'\n",
    "\n",
    "    FLAGS.xla=True\n",
    "    FLAGS.amp=True\n",
    "\n",
    "    FLAGS.bs=128\n",
    "    FLAGS.dim=2\n",
    "    FLAGS.out_dim=10\n",
    "    FLAGS.lr=1e-3\n",
    "    FLAGS.wd=1e-4\n",
    "    FLAGS.epochs=300\n",
    "    if FLAGS.amp:\n",
    "        FLAGS.lr = FLAGS.lr*2\n",
    "        FLAGS.bs = FLAGS.bs*2\n",
    "\n",
    "    datasets = tf_rlib.datasets.Cifar10().get_data()\n",
    "    runner = SemiRotNetRunner(*datasets)\n",
    "    runner.fit(FLAGS.epochs, lr=FLAGS.lr)"
   ]
  },
  {
   "cell_type": "code",
   "execution_count": null,
   "metadata": {},
   "outputs": [],
   "source": [
    "from multiprocessing import Process\n",
    "p = Process(target=f, args=())\n",
    "p.start()\n",
    "p.join()"
   ]
  },
  {
   "cell_type": "code",
   "execution_count": null,
   "metadata": {},
   "outputs": [],
   "source": []
  }
 ],
 "metadata": {
  "kernelspec": {
   "display_name": "Python 3",
   "language": "python",
   "name": "python3"
  },
  "language_info": {
   "codemirror_mode": {
    "name": "ipython",
    "version": 3
   },
   "file_extension": ".py",
   "mimetype": "text/x-python",
   "name": "python",
   "nbconvert_exporter": "python",
   "pygments_lexer": "ipython3",
   "version": "3.6.9"
  }
 },
 "nbformat": 4,
 "nbformat_minor": 4
}
