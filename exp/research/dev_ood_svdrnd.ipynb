{
 "cells": [
  {
   "cell_type": "code",
   "execution_count": null,
   "metadata": {},
   "outputs": [],
   "source": [
    "import sys\n",
    "sys.path.append('../..')\n",
    "import tf_rlib\n",
    "from tf_rlib.runners.research import OodSvdRndRunner\n",
    "\n",
    "FLAGS = tf_rlib.FLAGS\n",
    "tf_rlib.utils.set_gpus('0')\n",
    "FLAGS.log_level='WARN'\n",
    "FLAGS.svd_remove=28\n",
    "FLAGS.bs=128\n",
    "FLAGS.dim=2\n",
    "FLAGS.epochs=10\n",
    "FLAGS.warmup=0\n",
    "FLAGS.lr=1e-3\n",
    "# FLAGS.purge_logs=True"
   ]
  },
  {
   "cell_type": "code",
   "execution_count": null,
   "metadata": {},
   "outputs": [],
   "source": [
    "dset = tf_rlib.datasets.SVDBlurCifar10vsSVHN()\n",
    "train_dset, valid_dset = dset.get_data()\n",
    "runner = OodSvdRndRunner(train_dset, valid_dset)"
   ]
  },
  {
   "cell_type": "code",
   "execution_count": null,
   "metadata": {},
   "outputs": [],
   "source": [
    "runner.fit(FLAGS.epochs, lr=FLAGS.lr)"
   ]
  },
  {
   "cell_type": "code",
   "execution_count": null,
   "metadata": {},
   "outputs": [],
   "source": []
  }
 ],
 "metadata": {
  "kernelspec": {
   "display_name": "Python 3",
   "language": "python",
   "name": "python3"
  },
  "language_info": {
   "codemirror_mode": {
    "name": "ipython",
    "version": 3
   },
   "file_extension": ".py",
   "mimetype": "text/x-python",
   "name": "python",
   "nbconvert_exporter": "python",
   "pygments_lexer": "ipython3",
   "version": "3.6.7"
  }
 },
 "nbformat": 4,
 "nbformat_minor": 4
}
