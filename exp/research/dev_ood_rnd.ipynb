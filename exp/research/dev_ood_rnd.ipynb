{
 "cells": [
  {
   "cell_type": "code",
   "execution_count": null,
   "metadata": {},
   "outputs": [],
   "source": [
    "import sys\n",
    "sys.path.append('../..')\n",
    "import tf_rlib\n",
    "from tf_rlib.runners.research import OODRNDRunner\n",
    "\n",
    "FLAGS = tf_rlib.FLAGS\n",
    "tf_rlib.utils.set_gpus('0')\n",
    "FLAGS.log_level='INFO'\n",
    "FLAGS.bs=128\n",
    "FLAGS.dim=2\n",
    "FLAGS.epochs=100\n",
    "FLAGS.warmup=0\n",
    "FLAGS.lr=1e-4\n",
    "FLAGS.purge_logs=True"
   ]
  },
  {
   "cell_type": "code",
   "execution_count": null,
   "metadata": {},
   "outputs": [],
   "source": [
    "dset = tf_rlib.datasets.Cifar10vsSVHN()\n",
    "train_dset, valid_dset = dset.get_data()\n",
    "# dset = tf_rlib.datasets.MnistOOD()\n",
    "# train_dset, valid_dset = dset.get_data(0)\n",
    "runner = OODRNDRunner(train_dset, valid_dset)"
   ]
  },
  {
   "cell_type": "code",
   "execution_count": null,
   "metadata": {},
   "outputs": [],
   "source": [
    "runner.fit(FLAGS.epochs, lr=FLAGS.lr)"
   ]
  },
  {
   "cell_type": "code",
   "execution_count": null,
   "metadata": {},
   "outputs": [],
   "source": [
    "import numpy as np"
   ]
  },
  {
   "cell_type": "code",
   "execution_count": null,
   "metadata": {},
   "outputs": [],
   "source": [
    "loss = []\n",
    "ood_loss = []\n",
    "for x,y in valid_dset:\n",
    "    a = runner.predictor(x, training=False)\n",
    "    b = runner.randnet(x, training=False)\n",
    "    score = (a-b)**2\n",
    "    for i, yy in enumerate(y):\n",
    "        if yy == 0:\n",
    "            loss.append(score[i])\n",
    "        else:\n",
    "            ood_loss.append(score[i])"
   ]
  },
  {
   "cell_type": "code",
   "execution_count": null,
   "metadata": {},
   "outputs": [],
   "source": [
    "np.mean(loss), np.std(loss), len(loss), np.mean(ood_loss), np.std(ood_loss), len(ood_loss)"
   ]
  },
  {
   "cell_type": "code",
   "execution_count": null,
   "metadata": {},
   "outputs": [],
   "source": []
  }
 ],
 "metadata": {
  "kernelspec": {
   "display_name": "Python 3",
   "language": "python",
   "name": "python3"
  },
  "language_info": {
   "codemirror_mode": {
    "name": "ipython",
    "version": 3
   },
   "file_extension": ".py",
   "mimetype": "text/x-python",
   "name": "python",
   "nbconvert_exporter": "python",
   "pygments_lexer": "ipython3",
   "version": "3.6.7"
  }
 },
 "nbformat": 4,
 "nbformat_minor": 4
}
