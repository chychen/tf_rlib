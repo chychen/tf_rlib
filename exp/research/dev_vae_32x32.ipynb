{
 "cells": [
  {
   "cell_type": "code",
   "execution_count": null,
   "metadata": {
    "scrolled": true
   },
   "outputs": [],
   "source": [
    "import sys\n",
    "sys.path.append('../..')\n",
    "import tf_rlib\n",
    "from tf_rlib.runners.research import VAERunner\n",
    "\n",
    "FLAGS = tf_rlib.FLAGS\n",
    "tf_rlib.utils.set_gpus('0')\n",
    "FLAGS.exp_name='VAERunner-VAE'\n",
    "# FLAGS.loss_fn = 'mse' # vanilla AE\n",
    "FLAGS.loss_fn = 'vae' # VAE\n",
    "FLAGS.bs=128\n",
    "FLAGS.latent_dim=16*100\n",
    "FLAGS.dim=2\n",
    "FLAGS.out_dim=3\n",
    "FLAGS.epochs=100\n",
    "FLAGS.log_level='INFO'\n",
    "# FLAGS.purge_logs=True\n",
    "FLAGS.lr=1e-4\n",
    "mnist = tf_rlib.datasets.Cifar10()\n",
    "datasets = mnist.get_data()\n",
    "\n",
    "runner = VAERunner(*datasets)\n",
    "runner.fit(FLAGS.epochs, lr=FLAGS.lr)"
   ]
  },
  {
   "cell_type": "code",
   "execution_count": null,
   "metadata": {},
   "outputs": [],
   "source": []
  }
 ],
 "metadata": {
  "kernelspec": {
   "display_name": "Python 3",
   "language": "python",
   "name": "python3"
  },
  "language_info": {
   "codemirror_mode": {
    "name": "ipython",
    "version": 3
   },
   "file_extension": ".py",
   "mimetype": "text/x-python",
   "name": "python",
   "nbconvert_exporter": "python",
   "pygments_lexer": "ipython3",
   "version": "3.6.7"
  }
 },
 "nbformat": 4,
 "nbformat_minor": 4
}
